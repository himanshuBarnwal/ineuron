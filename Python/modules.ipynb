{
  "cells": [
    {
      "cell_type": "markdown",
      "metadata": {
        "id": "view-in-github",
        "colab_type": "text"
      },
      "source": [
        "<a href=\"https://colab.research.google.com/github/himanshuBarnwal/ineuron/blob/main/Python/modules.ipynb\" target=\"_parent\"><img src=\"https://colab.research.google.com/assets/colab-badge.svg\" alt=\"Open In Colab\"/></a>"
      ]
    },
    {
      "cell_type": "code",
      "execution_count": null,
      "metadata": {
        "id": "HlgbY1RjdkME"
      },
      "outputs": [],
      "source": [
        "import math"
      ]
    },
    {
      "cell_type": "code",
      "execution_count": null,
      "metadata": {
        "id": "v5k1huDgdkMI",
        "outputId": "0b7f27df-d6b6-483f-c08e-b7033c60b630"
      },
      "outputs": [
        {
          "data": {
            "text/plain": [
              "2.0"
            ]
          },
          "execution_count": 2,
          "metadata": {},
          "output_type": "execute_result"
        }
      ],
      "source": [
        "math.sqrt(4)"
      ]
    },
    {
      "cell_type": "code",
      "execution_count": null,
      "metadata": {
        "id": "WWy-QQfQdkMK"
      },
      "outputs": [],
      "source": [
        "from math import sqrt"
      ]
    },
    {
      "cell_type": "code",
      "execution_count": null,
      "metadata": {
        "id": "S3uXecFCdkMK",
        "outputId": "5889ae5f-83ab-4056-94a4-4257eeed29c9"
      },
      "outputs": [
        {
          "data": {
            "text/plain": [
              "2.23606797749979"
            ]
          },
          "execution_count": 4,
          "metadata": {},
          "output_type": "execute_result"
        }
      ],
      "source": [
        "sqrt(5)"
      ]
    },
    {
      "cell_type": "code",
      "execution_count": null,
      "metadata": {
        "id": "qn8vvpWwdkML"
      },
      "outputs": [],
      "source": [
        "from math import sqrt , pi"
      ]
    },
    {
      "cell_type": "code",
      "execution_count": null,
      "metadata": {
        "id": "7MYhFA29dkML",
        "outputId": "3b3009f3-002f-490e-8dad-acac209b0b65"
      },
      "outputs": [
        {
          "data": {
            "text/plain": [
              "3.141592653589793"
            ]
          },
          "execution_count": 6,
          "metadata": {},
          "output_type": "execute_result"
        }
      ],
      "source": [
        "pi"
      ]
    },
    {
      "cell_type": "code",
      "execution_count": null,
      "metadata": {
        "id": "sw8qDpiYdkMM"
      },
      "outputs": [],
      "source": [
        "from math import * "
      ]
    },
    {
      "cell_type": "code",
      "execution_count": null,
      "metadata": {
        "id": "ImDe9XH9dkMN",
        "outputId": "5534410e-6295-4060-f4dc-422d26a0c14d"
      },
      "outputs": [
        {
          "data": {
            "text/plain": [
              "0.0"
            ]
          },
          "execution_count": 8,
          "metadata": {},
          "output_type": "execute_result"
        }
      ],
      "source": [
        "sin(0)"
      ]
    },
    {
      "cell_type": "code",
      "execution_count": null,
      "metadata": {
        "id": "CndLpDQ2dkMO",
        "outputId": "53e849cf-c973-4369-abe4-5f4015dbd06c"
      },
      "outputs": [
        {
          "data": {
            "text/plain": [
              "2.6457513110645907"
            ]
          },
          "execution_count": 9,
          "metadata": {},
          "output_type": "execute_result"
        }
      ],
      "source": [
        "sqrt(7)"
      ]
    },
    {
      "cell_type": "code",
      "execution_count": null,
      "metadata": {
        "id": "0PhtmrUQdkMO",
        "outputId": "19397759-7d23-4615-9529-7957893ea6bb"
      },
      "outputs": [
        {
          "data": {
            "text/plain": [
              "3.141592653589793"
            ]
          },
          "execution_count": 10,
          "metadata": {},
          "output_type": "execute_result"
        }
      ],
      "source": [
        "pi"
      ]
    },
    {
      "cell_type": "code",
      "execution_count": null,
      "metadata": {
        "id": "VU7oGojOdkMP",
        "outputId": "a4437488-fada-4a69-ba14-f2aa7a35036e"
      },
      "outputs": [
        {
          "data": {
            "text/plain": [
              "'C:\\\\Users\\\\win10'"
            ]
          },
          "execution_count": 11,
          "metadata": {},
          "output_type": "execute_result"
        }
      ],
      "source": [
        "pwd()"
      ]
    },
    {
      "cell_type": "code",
      "execution_count": null,
      "metadata": {
        "id": "XalS7i7vdkMQ",
        "outputId": "aadfbc5e-3187-4b6f-c245-b38373634e4a"
      },
      "outputs": [
        {
          "name": "stdout",
          "output_type": "stream",
          "text": [
            "this is my first ever module \n"
          ]
        }
      ],
      "source": [
        "import test1"
      ]
    },
    {
      "cell_type": "code",
      "execution_count": null,
      "metadata": {
        "id": "DD7Im-MgdkMQ"
      },
      "outputs": [],
      "source": [
        "import test1"
      ]
    },
    {
      "cell_type": "code",
      "execution_count": null,
      "metadata": {
        "id": "sIZEhgnRdkMQ"
      },
      "outputs": [],
      "source": [
        "import test1"
      ]
    },
    {
      "cell_type": "code",
      "execution_count": null,
      "metadata": {
        "id": "8joboD4zdkMR"
      },
      "outputs": [],
      "source": [
        "import test1"
      ]
    },
    {
      "cell_type": "code",
      "execution_count": null,
      "metadata": {
        "id": "DgfUapXVdkMR"
      },
      "outputs": [],
      "source": [
        "import imp"
      ]
    },
    {
      "cell_type": "code",
      "execution_count": null,
      "metadata": {
        "id": "hT_gxE_jdkMR",
        "outputId": "409b4857-5bb6-4eac-8e4f-65178eda9745"
      },
      "outputs": [
        {
          "name": "stdout",
          "output_type": "stream",
          "text": [
            "this is my first ever module \n"
          ]
        },
        {
          "data": {
            "text/plain": [
              "<module 'test1' from 'C:\\\\Users\\\\win10\\\\test1.py'>"
            ]
          },
          "execution_count": 17,
          "metadata": {},
          "output_type": "execute_result"
        }
      ],
      "source": [
        "imp.reload(test1)"
      ]
    },
    {
      "cell_type": "code",
      "execution_count": null,
      "metadata": {
        "id": "FF2jToX-dkMS"
      },
      "outputs": [],
      "source": [
        "import addition"
      ]
    },
    {
      "cell_type": "code",
      "execution_count": null,
      "metadata": {
        "id": "g_izgBZNdkMS",
        "outputId": "d6604cd2-bfbe-499b-e631-c2ede1a40dc7"
      },
      "outputs": [
        {
          "data": {
            "text/plain": [
              "9"
            ]
          },
          "execution_count": 21,
          "metadata": {},
          "output_type": "execute_result"
        }
      ],
      "source": [
        "addition.addition1(4,5)"
      ]
    },
    {
      "cell_type": "code",
      "execution_count": null,
      "metadata": {
        "id": "wA0b3sQGdkMS"
      },
      "outputs": [],
      "source": [
        "import test5"
      ]
    },
    {
      "cell_type": "code",
      "execution_count": null,
      "metadata": {
        "id": "_CNGVFf2dkMT",
        "outputId": "f262341e-11bf-4744-df31-ec68c6e4103e"
      },
      "outputs": [
        {
          "data": {
            "text/plain": [
              "9"
            ]
          },
          "execution_count": 23,
          "metadata": {},
          "output_type": "execute_result"
        }
      ],
      "source": [
        "test5.addtion(4,5)"
      ]
    },
    {
      "cell_type": "code",
      "execution_count": null,
      "metadata": {
        "id": "ya0XrDkHdkMT",
        "outputId": "4a1d6ee2-3940-4917-e57d-98bde82f7d9b"
      },
      "outputs": [
        {
          "data": {
            "text/plain": [
              "30"
            ]
          },
          "execution_count": 24,
          "metadata": {},
          "output_type": "execute_result"
        }
      ],
      "source": [
        "test5.mul(5,6)"
      ]
    },
    {
      "cell_type": "code",
      "execution_count": null,
      "metadata": {
        "id": "pWRcj1MadkMT",
        "outputId": "7a60f485-e2ae-4bdd-a23c-3d165b732bc8"
      },
      "outputs": [
        {
          "data": {
            "text/plain": [
              "5764801"
            ]
          },
          "execution_count": 25,
          "metadata": {},
          "output_type": "execute_result"
        }
      ],
      "source": [
        "test5.power(7,8)"
      ]
    },
    {
      "cell_type": "code",
      "execution_count": null,
      "metadata": {
        "id": "jTfdBnkUdkMU"
      },
      "outputs": [],
      "source": [
        "import test6"
      ]
    },
    {
      "cell_type": "code",
      "execution_count": null,
      "metadata": {
        "id": "ywmMIfzJdkMU",
        "outputId": "f28bdd46-2258-4de7-8569-7081b6f1bfcb"
      },
      "outputs": [
        {
          "data": {
            "text/plain": [
              "'this is my class '"
            ]
          },
          "execution_count": 27,
          "metadata": {},
          "output_type": "execute_result"
        }
      ],
      "source": [
        "test6.msg()"
      ]
    },
    {
      "cell_type": "code",
      "execution_count": null,
      "metadata": {
        "id": "_OAt6u_qdkMU"
      },
      "outputs": [],
      "source": [
        "data = {\n",
        "    \"name\" : \"sudh\",\n",
        "    \"course\" : [\"ml\", \"dL\",\"py\",\"stats\",\"cv\"],\n",
        "    \"msg\":\"this is my class \"\n",
        "}\n",
        "\n",
        "def get_course():\n",
        "    return data[\"course\"]\n",
        "\n",
        "\n",
        "def msg():\n",
        "    return data[\"msg\"]\n",
        "    "
      ]
    },
    {
      "cell_type": "code",
      "execution_count": null,
      "metadata": {
        "id": "dgOznuacdkMU"
      },
      "outputs": [],
      "source": [
        "from test6 import get_course"
      ]
    },
    {
      "cell_type": "code",
      "execution_count": null,
      "metadata": {
        "id": "7JIbOMATdkMV"
      },
      "outputs": [],
      "source": []
    }
  ],
  "metadata": {
    "kernelspec": {
      "display_name": "Python 3",
      "language": "python",
      "name": "python3"
    },
    "language_info": {
      "codemirror_mode": {
        "name": "ipython",
        "version": 3
      },
      "file_extension": ".py",
      "mimetype": "text/x-python",
      "name": "python",
      "nbconvert_exporter": "python",
      "pygments_lexer": "ipython3",
      "version": "3.8.5"
    },
    "colab": {
      "name": "modules.ipynb",
      "provenance": [],
      "include_colab_link": true
    }
  },
  "nbformat": 4,
  "nbformat_minor": 0
}