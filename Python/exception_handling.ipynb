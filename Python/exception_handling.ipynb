{
  "cells": [
    {
      "cell_type": "markdown",
      "metadata": {
        "id": "view-in-github",
        "colab_type": "text"
      },
      "source": [
        "<a href=\"https://colab.research.google.com/github/himanshuBarnwal/ineuron/blob/main/Python/exception_handling.ipynb\" target=\"_parent\"><img src=\"https://colab.research.google.com/assets/colab-badge.svg\" alt=\"Open In Colab\"/></a>"
      ]
    },
    {
      "cell_type": "code",
      "execution_count": null,
      "metadata": {
        "id": "AJjJGqcLdv5Z",
        "outputId": "8696888e-96e0-4adb-89d5-cc9103d66a3b"
      },
      "outputs": [
        {
          "ename": "SyntaxError",
          "evalue": "EOL while scanning string literal (<ipython-input-1-55863b6e6934>, line 1)",
          "output_type": "error",
          "traceback": [
            "\u001b[1;36m  File \u001b[1;32m\"<ipython-input-1-55863b6e6934>\"\u001b[1;36m, line \u001b[1;32m1\u001b[0m\n\u001b[1;33m    print(\"fsdfsdf)\u001b[0m\n\u001b[1;37m                   ^\u001b[0m\n\u001b[1;31mSyntaxError\u001b[0m\u001b[1;31m:\u001b[0m EOL while scanning string literal\n"
          ]
        }
      ],
      "source": [
        "print(\"fsdfsdf)"
      ]
    },
    {
      "cell_type": "code",
      "execution_count": null,
      "metadata": {
        "id": "gQbRhHL6dv5e",
        "outputId": "5f956e51-534b-4725-f5ab-59d9a3741dd7"
      },
      "outputs": [
        {
          "ename": "IndentationError",
          "evalue": "expected an indented block (<ipython-input-8-cac8917b8f40>, line 2)",
          "output_type": "error",
          "traceback": [
            "\u001b[1;36m  File \u001b[1;32m\"<ipython-input-8-cac8917b8f40>\"\u001b[1;36m, line \u001b[1;32m2\u001b[0m\n\u001b[1;33m    print(\"Fsdfsfs\")\u001b[0m\n\u001b[1;37m    ^\u001b[0m\n\u001b[1;31mIndentationError\u001b[0m\u001b[1;31m:\u001b[0m expected an indented block\n"
          ]
        }
      ],
      "source": [
        "def test1():\n",
        "print(\"Fsdfsfs\")"
      ]
    },
    {
      "cell_type": "code",
      "execution_count": null,
      "metadata": {
        "id": "D1Ncmrrydv5e"
      },
      "outputs": [],
      "source": [
        "def test(a,b):\n",
        "    return a/b"
      ]
    },
    {
      "cell_type": "code",
      "execution_count": null,
      "metadata": {
        "id": "BnarHdnodv5f",
        "outputId": "756a7bad-bf29-4b36-a746-06ba7a201249"
      },
      "outputs": [
        {
          "ename": "ZeroDivisionError",
          "evalue": "division by zero",
          "output_type": "error",
          "traceback": [
            "\u001b[1;31m---------------------------------------------------------------------------\u001b[0m",
            "\u001b[1;31mZeroDivisionError\u001b[0m                         Traceback (most recent call last)",
            "\u001b[1;32m<ipython-input-9-d1f2faeee4af>\u001b[0m in \u001b[0;36m<module>\u001b[1;34m\u001b[0m\n\u001b[1;32m----> 1\u001b[1;33m \u001b[0mtest\u001b[0m\u001b[1;33m(\u001b[0m\u001b[1;36m5\u001b[0m\u001b[1;33m,\u001b[0m\u001b[1;36m0\u001b[0m\u001b[1;33m)\u001b[0m\u001b[1;33m\u001b[0m\u001b[1;33m\u001b[0m\u001b[0m\n\u001b[0m\u001b[0;32m      2\u001b[0m \u001b[0mprint\u001b[0m\u001b[1;33m(\u001b[0m\u001b[1;34m\"this is my code after test function \"\u001b[0m\u001b[1;33m)\u001b[0m\u001b[1;33m\u001b[0m\u001b[1;33m\u001b[0m\u001b[0m\n",
            "\u001b[1;32m<ipython-input-3-50fd73e9f5b8>\u001b[0m in \u001b[0;36mtest\u001b[1;34m(a, b)\u001b[0m\n\u001b[0;32m      1\u001b[0m \u001b[1;32mdef\u001b[0m \u001b[0mtest\u001b[0m\u001b[1;33m(\u001b[0m\u001b[0ma\u001b[0m\u001b[1;33m,\u001b[0m\u001b[0mb\u001b[0m\u001b[1;33m)\u001b[0m\u001b[1;33m:\u001b[0m\u001b[1;33m\u001b[0m\u001b[1;33m\u001b[0m\u001b[0m\n\u001b[1;32m----> 2\u001b[1;33m     \u001b[1;32mreturn\u001b[0m \u001b[0ma\u001b[0m\u001b[1;33m/\u001b[0m\u001b[0mb\u001b[0m\u001b[1;33m\u001b[0m\u001b[1;33m\u001b[0m\u001b[0m\n\u001b[0m",
            "\u001b[1;31mZeroDivisionError\u001b[0m: division by zero"
          ]
        }
      ],
      "source": [
        "test(5,0)\n",
        "print(\"this is my code after test function \")"
      ]
    },
    {
      "cell_type": "code",
      "execution_count": null,
      "metadata": {
        "id": "aUgHRoYudv5g",
        "outputId": "f4c09414-f5e2-45cc-a9a3-6fff0eaaa6de"
      },
      "outputs": [
        {
          "data": {
            "text/plain": [
              "0.8571428571428571"
            ]
          },
          "execution_count": 5,
          "metadata": {},
          "output_type": "execute_result"
        }
      ],
      "source": [
        "test(6,7)"
      ]
    },
    {
      "cell_type": "code",
      "execution_count": null,
      "metadata": {
        "scrolled": true,
        "id": "vBlm6PxAdv5g",
        "outputId": "833ea9e8-c73a-463b-c1aa-6070e5326a96"
      },
      "outputs": [
        {
          "ename": "FileNotFoundError",
          "evalue": "[Errno 2] No such file or directory: 'test.txt'",
          "output_type": "error",
          "traceback": [
            "\u001b[1;31m---------------------------------------------------------------------------\u001b[0m",
            "\u001b[1;31mFileNotFoundError\u001b[0m                         Traceback (most recent call last)",
            "\u001b[1;32m<ipython-input-13-f4d5d6988dc1>\u001b[0m in \u001b[0;36m<module>\u001b[1;34m\u001b[0m\n\u001b[1;32m----> 1\u001b[1;33m \u001b[0ma\u001b[0m \u001b[1;33m=\u001b[0m \u001b[0mopen\u001b[0m\u001b[1;33m(\u001b[0m\u001b[1;34m\"test.txt\"\u001b[0m \u001b[1;33m,\u001b[0m \u001b[1;34m'r'\u001b[0m\u001b[1;33m)\u001b[0m\u001b[1;33m\u001b[0m\u001b[1;33m\u001b[0m\u001b[0m\n\u001b[0m",
            "\u001b[1;31mFileNotFoundError\u001b[0m: [Errno 2] No such file or directory: 'test.txt'"
          ]
        }
      ],
      "source": [
        "a = open(\"test.txt\" , 'r')"
      ]
    },
    {
      "cell_type": "code",
      "execution_count": null,
      "metadata": {
        "id": "226zQXEYdv5h",
        "outputId": "ced1f627-53ef-4fa6-feba-99eb206a8bef"
      },
      "outputs": [
        {
          "name": "stdout",
          "output_type": "stream",
          "text": [
            "enter the first number 5\n",
            "enter the second number 0\n",
            "thre is some issue with my code division by zero\n"
          ]
        }
      ],
      "source": [
        "try:\n",
        "    a = int(input(\"enter the first number \" ) )\n",
        "    b = int(input(\"enter the second number \" ))\n",
        "    c= a/b\n",
        "except ArithmeticError as e :\n",
        "    print(\"thre is some issue with my code\",e)\n",
        "    f = open(\"test.txt\", 'w+')\n",
        "    f.read()\n",
        "else :\n",
        "    print(\"this will execute once try will execute with sucess \")\n",
        "    try :\n",
        "        \n",
        "        f   = open(\"test.txt\",'r')\n",
        "    except:\n",
        "        print(\"this is as issue with internal try block\")"
      ]
    },
    {
      "cell_type": "code",
      "execution_count": null,
      "metadata": {
        "id": "AcVGoKirdv5i",
        "outputId": "666e1c5b-e231-4b1e-ff8b-97cf76481231"
      },
      "outputs": [
        {
          "ename": "IndexError",
          "evalue": "list index out of range",
          "output_type": "error",
          "traceback": [
            "\u001b[1;31m---------------------------------------------------------------------------\u001b[0m",
            "\u001b[1;31mIndexError\u001b[0m                                Traceback (most recent call last)",
            "\u001b[1;32m<ipython-input-38-963bc75163a4>\u001b[0m in \u001b[0;36m<module>\u001b[1;34m\u001b[0m\n\u001b[0;32m      1\u001b[0m \u001b[0ml\u001b[0m \u001b[1;33m=\u001b[0m \u001b[1;33m[\u001b[0m\u001b[1;36m4\u001b[0m\u001b[1;33m,\u001b[0m\u001b[1;36m5\u001b[0m\u001b[1;33m,\u001b[0m\u001b[1;36m6\u001b[0m\u001b[1;33m,\u001b[0m\u001b[1;36m7\u001b[0m\u001b[1;33m,\u001b[0m\u001b[1;36m8\u001b[0m\u001b[1;33m,\u001b[0m\u001b[1;36m9\u001b[0m\u001b[1;33m,\u001b[0m\u001b[1;36m0\u001b[0m\u001b[1;33m]\u001b[0m\u001b[1;33m\u001b[0m\u001b[1;33m\u001b[0m\u001b[0m\n\u001b[1;32m----> 2\u001b[1;33m \u001b[0mprint\u001b[0m\u001b[1;33m(\u001b[0m\u001b[0ml\u001b[0m\u001b[1;33m[\u001b[0m\u001b[1;36m100\u001b[0m\u001b[1;33m]\u001b[0m\u001b[1;33m)\u001b[0m\u001b[1;33m\u001b[0m\u001b[1;33m\u001b[0m\u001b[0m\n\u001b[0m\u001b[0;32m      3\u001b[0m \u001b[0mt\u001b[0m \u001b[1;33m=\u001b[0m \u001b[1;33m(\u001b[0m\u001b[1;36m4\u001b[0m\u001b[1;33m,\u001b[0m\u001b[1;36m5\u001b[0m\u001b[1;33m,\u001b[0m\u001b[1;36m6\u001b[0m\u001b[1;33m,\u001b[0m\u001b[1;36m7\u001b[0m\u001b[1;33m,\u001b[0m\u001b[1;36m7\u001b[0m\u001b[1;33m,\u001b[0m\u001b[1;36m8\u001b[0m\u001b[1;33m,\u001b[0m\u001b[1;36m9\u001b[0m\u001b[1;33m)\u001b[0m\u001b[1;33m\u001b[0m\u001b[1;33m\u001b[0m\u001b[0m\n\u001b[0;32m      4\u001b[0m \u001b[0mprint\u001b[0m\u001b[1;33m(\u001b[0m\u001b[0mt\u001b[0m\u001b[1;33m)\u001b[0m\u001b[1;33m\u001b[0m\u001b[1;33m\u001b[0m\u001b[0m\n",
            "\u001b[1;31mIndexError\u001b[0m: list index out of range"
          ]
        }
      ],
      "source": [
        "l = [4,5,6,7,8,9,0]\n",
        "print(l[100])\n",
        "t = (4,5,6,7,7,8,9)\n",
        "print(t)\n",
        "t[0] = \"sudh\""
      ]
    },
    {
      "cell_type": "code",
      "execution_count": null,
      "metadata": {
        "id": "QlP-H6U9dv5j",
        "outputId": "b2c0834e-eaf5-4fb8-f4c6-5efbea8d0d35"
      },
      "outputs": [
        {
          "name": "stdout",
          "output_type": "stream",
          "text": [
            "there is an issue with my code \n",
            "(4, 5, 6, 7, 7, 8, 9)\n"
          ]
        }
      ],
      "source": [
        "try :\n",
        "    l = [4,5,6,7,8,9]\n",
        "    l[100]\n",
        "except:\n",
        "    print(\"there is an issue with my code \") \n",
        "    t = (4,5,6,7,7,8,9)\n",
        "    print(t)\n",
        "    try:\n",
        "        \n",
        "        \n",
        "        t[0] = \"sudh\"\n",
        "        try :\n",
        "            list(t)\n",
        "            print(t)\n",
        "        except:\n",
        "            pass\n",
        "    except :\n",
        "        pass\n",
        "else :\n",
        "    print(\"thre is no issue with my code \") "
      ]
    },
    {
      "cell_type": "code",
      "execution_count": null,
      "metadata": {
        "id": "kTWOiIPcdv5j",
        "outputId": "2c1464cc-029b-4a6d-ff98-869bf599ed4c"
      },
      "outputs": [
        {
          "name": "stdout",
          "output_type": "stream",
          "text": [
            "else will execute if try will execute with suc\n",
            "finally i will execute in any case \n"
          ]
        }
      ],
      "source": [
        "try :\n",
        "    f = open(\"test1.txt\" , 'w+')\n",
        "except :\n",
        "    pass\n",
        "else :\n",
        "    print(\"else will execute if try will execute with suc\")\n",
        "finally:\n",
        "    print(\"finally i will execute in any case \")\n",
        "    l = [4,5,6,7]\n",
        "    try :\n",
        "        \n",
        "        print(l[10])\n",
        "    except:\n",
        "        pass\n"
      ]
    },
    {
      "cell_type": "code",
      "execution_count": null,
      "metadata": {
        "id": "WmC-phwxdv5k",
        "outputId": "1caf0878-0af5-4164-8e2c-82530fb1f4d3"
      },
      "outputs": [
        {
          "ename": "ZeroDivisionError",
          "evalue": "division by zero",
          "output_type": "error",
          "traceback": [
            "\u001b[1;31m---------------------------------------------------------------------------\u001b[0m",
            "\u001b[1;31mZeroDivisionError\u001b[0m                         Traceback (most recent call last)",
            "\u001b[1;32m<ipython-input-56-0106664d39e8>\u001b[0m in \u001b[0;36m<module>\u001b[1;34m\u001b[0m\n\u001b[1;32m----> 1\u001b[1;33m \u001b[1;36m5\u001b[0m\u001b[1;33m/\u001b[0m\u001b[1;36m0\u001b[0m\u001b[1;33m\u001b[0m\u001b[1;33m\u001b[0m\u001b[0m\n\u001b[0m",
            "\u001b[1;31mZeroDivisionError\u001b[0m: division by zero"
          ]
        }
      ],
      "source": [
        "5/6"
      ]
    },
    {
      "cell_type": "code",
      "execution_count": null,
      "metadata": {
        "id": "nn-_9BzGdv5k",
        "outputId": "53439e7c-a607-4388-f21d-ff7cb3995317"
      },
      "outputs": [
        {
          "name": "stdout",
          "output_type": "stream",
          "text": [
            "this is my error  [Errno 2] No such file or directory: 'test3.txt'\n"
          ]
        }
      ],
      "source": [
        "try :\n",
        "    f = open(\"test3.txt\" , 'r')\n",
        "except IOError as e :\n",
        "    print(\"this is my error \" , e )"
      ]
    },
    {
      "cell_type": "code",
      "execution_count": null,
      "metadata": {
        "id": "cL4VgCphdv5l",
        "outputId": "8aa72781-e469-4e50-d839-30334237cf77"
      },
      "outputs": [
        {
          "ename": "FileNotFoundError",
          "evalue": "[Errno 2] No such file or directory: 'test3.txt'",
          "output_type": "error",
          "traceback": [
            "\u001b[1;31m---------------------------------------------------------------------------\u001b[0m",
            "\u001b[1;31mFileNotFoundError\u001b[0m                         Traceback (most recent call last)",
            "\u001b[1;32m<ipython-input-61-50285f57f247>\u001b[0m in \u001b[0;36m<module>\u001b[1;34m\u001b[0m\n\u001b[1;32m----> 1\u001b[1;33m \u001b[0mopen\u001b[0m\u001b[1;33m(\u001b[0m\u001b[1;34m\"test3.txt\"\u001b[0m \u001b[1;33m,\u001b[0m \u001b[1;34m'r'\u001b[0m\u001b[1;33m)\u001b[0m\u001b[1;33m\u001b[0m\u001b[1;33m\u001b[0m\u001b[0m\n\u001b[0m",
            "\u001b[1;31mFileNotFoundError\u001b[0m: [Errno 2] No such file or directory: 'test3.txt'"
          ]
        }
      ],
      "source": [
        "open(\"test3.txt\" , 'r')"
      ]
    },
    {
      "cell_type": "code",
      "execution_count": null,
      "metadata": {
        "id": "yIsVc8gXdv5l"
      },
      "outputs": [],
      "source": [
        "def askforint():\n",
        "    while True:\n",
        "        try :\n",
        "            a = int(input(\"enter an integer\"))\n",
        "        except FileNotFoundError as e :\n",
        "            print(\"this is my error msg \" , e )\n",
        "        except IOError as e :\n",
        "            print(e)\n",
        "        except ValueError as e :\n",
        "            print(e)\n",
        "        else :\n",
        "            print(\"person has entered a correct value \") \n",
        "            break\n",
        "        finally :\n",
        "            print(\"close this issue \")\n",
        "            "
      ]
    },
    {
      "cell_type": "code",
      "execution_count": null,
      "metadata": {
        "id": "YP2DzXKBdv5m",
        "outputId": "3200ee7d-490e-4ced-ea8d-1394c512e480"
      },
      "outputs": [
        {
          "name": "stdout",
          "output_type": "stream",
          "text": [
            "enter an integersdf\n",
            "invalid literal for int() with base 10: 'sdf'\n",
            "close this issue \n",
            "enter an integer5\n",
            "person has entered a correct value \n",
            "close this issue \n"
          ]
        }
      ],
      "source": [
        "askforint()"
      ]
    },
    {
      "cell_type": "code",
      "execution_count": null,
      "metadata": {
        "id": "PUQSMnbrdv5m"
      },
      "outputs": [],
      "source": [
        "def askforint():\n",
        "    while True:\n",
        "        try :\n",
        "            a = int(input(\"enter an integer\"))\n",
        "            c = 8/a\n",
        "        except FileNotFoundError as e :\n",
        "            print(\"this is my error msg \" , e )\n",
        "        except IOError as e :\n",
        "            print(e)\n",
        "        except ValueError as e :\n",
        "            print(e)\n",
        "        except ZeroDivisionError as e :\n",
        "            print(e)\n",
        "        except Exception as e :\n",
        "            print(\"this is comming from parent class \" ,e)\n",
        "        except ArithmeticError as e :\n",
        "            print(\"this is a arithimetic error\",e)\n",
        "\n",
        "        else :\n",
        "            print(\"person has entered a correct value \") \n",
        "            break\n",
        "        finally :\n",
        "            print(\"close this issue \")\n",
        "            "
      ]
    },
    {
      "cell_type": "code",
      "execution_count": null,
      "metadata": {
        "id": "7gCqKhbFdv5m",
        "outputId": "d9fd7378-0350-4eaf-86a1-04108122d57d"
      },
      "outputs": [
        {
          "name": "stdout",
          "output_type": "stream",
          "text": [
            "enter an integer0\n",
            "division by zero\n",
            "close this issue \n",
            "enter an integer5\n",
            "person has entered a correct value \n",
            "close this issue \n"
          ]
        }
      ],
      "source": [
        "askforint()\n"
      ]
    },
    {
      "cell_type": "code",
      "execution_count": null,
      "metadata": {
        "id": "5ssEALJ1dv5n",
        "outputId": "75dd4bb3-5156-45e6-81e5-b12cb7250c40"
      },
      "outputs": [
        {
          "ename": "ZeroDivisionError",
          "evalue": "division by zero",
          "output_type": "error",
          "traceback": [
            "\u001b[1;31m---------------------------------------------------------------------------\u001b[0m",
            "\u001b[1;31mZeroDivisionError\u001b[0m                         Traceback (most recent call last)",
            "\u001b[1;32m<ipython-input-90-0106664d39e8>\u001b[0m in \u001b[0;36m<module>\u001b[1;34m\u001b[0m\n\u001b[1;32m----> 1\u001b[1;33m \u001b[1;36m5\u001b[0m\u001b[1;33m/\u001b[0m\u001b[1;36m0\u001b[0m\u001b[1;33m\u001b[0m\u001b[1;33m\u001b[0m\u001b[0m\n\u001b[0m",
            "\u001b[1;31mZeroDivisionError\u001b[0m: division by zero"
          ]
        }
      ],
      "source": [
        "5/0"
      ]
    },
    {
      "cell_type": "code",
      "execution_count": null,
      "metadata": {
        "id": "eRqXslESdv5n",
        "outputId": "8efaa20f-838e-4ace-edef-c8bab996da13"
      },
      "outputs": [
        {
          "data": {
            "text/plain": [
              "0.8333333333333334"
            ]
          },
          "execution_count": 91,
          "metadata": {},
          "output_type": "execute_result"
        }
      ],
      "source": [
        "5/6"
      ]
    },
    {
      "cell_type": "code",
      "execution_count": null,
      "metadata": {
        "id": "SMKJpKPgdv5n"
      },
      "outputs": [],
      "source": [
        "def create_your_exception(a):\n",
        "    if a  == \"sudh\" :\n",
        "        raise Exception(\"erros is \" , a)\n",
        "        \n",
        "    return a "
      ]
    },
    {
      "cell_type": "code",
      "execution_count": null,
      "metadata": {
        "id": "8bY4PP3udv5n",
        "outputId": "74a193ba-a723-4974-cdaa-a2c57d26354c"
      },
      "outputs": [
        {
          "name": "stdout",
          "output_type": "stream",
          "text": [
            "('erros is ', 'sudh')\n"
          ]
        }
      ],
      "source": [
        "try :\n",
        "    create_your_exception(\"sudh\")\n",
        "except Exception as e :\n",
        "    print(e)"
      ]
    },
    {
      "cell_type": "code",
      "execution_count": null,
      "metadata": {
        "id": "-MagBojqdv5o",
        "outputId": "8952468a-113a-433c-8a87-cc7c82364724"
      },
      "outputs": [
        {
          "data": {
            "text/plain": [
              "7"
            ]
          },
          "execution_count": 105,
          "metadata": {},
          "output_type": "execute_result"
        }
      ],
      "source": [
        "a"
      ]
    },
    {
      "cell_type": "code",
      "execution_count": null,
      "metadata": {
        "id": "jSkb9Jzcdv5o"
      },
      "outputs": [],
      "source": [
        "def create_your_exception(a):\n",
        "    if a > 6 :\n",
        "        raise Exception(\"erros is \" , a)\n",
        "    else :\n",
        "        print(\"input is ok\")\n",
        "        \n",
        "    return a "
      ]
    },
    {
      "cell_type": "code",
      "execution_count": null,
      "metadata": {
        "id": "91TxJPo3dv5o",
        "outputId": "6341e3d5-8687-418f-ae47-422601382e2a"
      },
      "outputs": [
        {
          "name": "stdout",
          "output_type": "stream",
          "text": [
            "('erros is ', 10)\n"
          ]
        }
      ],
      "source": [
        "try :\n",
        "    create_your_exception(10)\n",
        "except Exception as e :\n",
        "    print(e)"
      ]
    },
    {
      "cell_type": "code",
      "execution_count": null,
      "metadata": {
        "id": "fy4xNkowdv5p"
      },
      "outputs": [],
      "source": [
        "import mod\n",
        "import logging as log\n",
        "log.basicConfig(filename = 'even.log', level = log.ERROR)\n",
        "while True:\n",
        "    try:\n",
        "        inp = int(input())\n",
        "        print(mod.printEven(inp))\n",
        "    except Exception as e:\n",
        "        log.exception(e)\n",
        "mod_file\n",
        "def printEven(n):\n",
        "    try:\n",
        "        return [i for i in range(0, n + 1) if not i % 2]\n",
        "    except Exception as e:\n",
        "        return e\n"
      ]
    },
    {
      "cell_type": "code",
      "execution_count": null,
      "metadata": {
        "id": "soitLaUKdv5p"
      },
      "outputs": [],
      "source": [
        "import logging as lg\n",
        "\n",
        "lg.basicConfig(filename = 'even.log',level = lg.INFO , format  = '%(asctime)s %(message)s')\n",
        "\n",
        "\n",
        "def even(minimum,maximum):\n",
        "    try:\n",
        "        minimum = int(input(\"Enterthe start value: \"))\n",
        "        maximum = int(input(\"Enter the end value: \"))\n",
        "    except Exception as e:\n",
        "        lg.error(e)\n",
        "    else:\n",
        "        for i in range(minimum,maximum+1):\n",
        "            if i%2==0:\n",
        "                print(i,\"even number\")\n",
        "    finally:\n",
        "        print(\"code executed\")\n"
      ]
    },
    {
      "cell_type": "code",
      "execution_count": null,
      "metadata": {
        "id": "exJvlr3Idv5p"
      },
      "outputs": [],
      "source": []
    },
    {
      "cell_type": "code",
      "execution_count": null,
      "metadata": {
        "id": "dyet_5Sidv5p"
      },
      "outputs": [],
      "source": []
    },
    {
      "cell_type": "code",
      "execution_count": null,
      "metadata": {
        "id": "1498MNccdv5p"
      },
      "outputs": [],
      "source": []
    }
  ],
  "metadata": {
    "kernelspec": {
      "display_name": "Python 3",
      "language": "python",
      "name": "python3"
    },
    "language_info": {
      "codemirror_mode": {
        "name": "ipython",
        "version": 3
      },
      "file_extension": ".py",
      "mimetype": "text/x-python",
      "name": "python",
      "nbconvert_exporter": "python",
      "pygments_lexer": "ipython3",
      "version": "3.8.5"
    },
    "colab": {
      "name": "exception handling.ipynb",
      "provenance": [],
      "include_colab_link": true
    }
  },
  "nbformat": 4,
  "nbformat_minor": 0
}