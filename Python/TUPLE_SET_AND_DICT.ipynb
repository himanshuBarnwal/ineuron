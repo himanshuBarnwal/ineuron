{
  "cells": [
    {
      "cell_type": "markdown",
      "metadata": {
        "id": "view-in-github",
        "colab_type": "text"
      },
      "source": [
        "<a href=\"https://colab.research.google.com/github/himanshuBarnwal/ineuron/blob/main/Python/TUPLE_SET_AND_DICT.ipynb\" target=\"_parent\"><img src=\"https://colab.research.google.com/assets/colab-badge.svg\" alt=\"Open In Colab\"/></a>"
      ]
    },
    {
      "cell_type": "code",
      "execution_count": null,
      "metadata": {
        "id": "_kSFVnGFcpP9"
      },
      "outputs": [],
      "source": [
        "t = ()"
      ]
    },
    {
      "cell_type": "code",
      "execution_count": null,
      "metadata": {
        "id": "cZ57DwaecpQA",
        "outputId": "42503e6c-401c-40d7-f733-e5f24fa31945"
      },
      "outputs": [
        {
          "data": {
            "text/plain": [
              "tuple"
            ]
          },
          "execution_count": 2,
          "metadata": {},
          "output_type": "execute_result"
        }
      ],
      "source": [
        "type(t)"
      ]
    },
    {
      "cell_type": "code",
      "execution_count": null,
      "metadata": {
        "id": "H1kJFPO-cpQB",
        "outputId": "40ac555a-cb28-4fa8-9cfc-a02c9a3c5c28"
      },
      "outputs": [
        {
          "data": {
            "text/plain": [
              "list"
            ]
          },
          "execution_count": 3,
          "metadata": {},
          "output_type": "execute_result"
        }
      ],
      "source": [
        "l = []\n",
        "type(l)"
      ]
    },
    {
      "cell_type": "code",
      "execution_count": null,
      "metadata": {
        "id": "m3byOvtucpQC"
      },
      "outputs": [],
      "source": [
        "t1 = (234,34,\"sudh\" , 3.45,True)"
      ]
    },
    {
      "cell_type": "code",
      "execution_count": null,
      "metadata": {
        "id": "Ywp-5uL8cpQC"
      },
      "outputs": [],
      "source": [
        "l1 = [234,34,\"sudh\" , 3.45,True]"
      ]
    },
    {
      "cell_type": "code",
      "execution_count": null,
      "metadata": {
        "id": "6_hxT_00cpQC",
        "outputId": "a634a037-e4ed-4da7-d9e6-72cd5cbdb268"
      },
      "outputs": [
        {
          "data": {
            "text/plain": [
              "(234, 34, 'sudh', 3.45)"
            ]
          },
          "execution_count": 8,
          "metadata": {},
          "output_type": "execute_result"
        }
      ],
      "source": [
        "t1[0:4]"
      ]
    },
    {
      "cell_type": "code",
      "execution_count": null,
      "metadata": {
        "id": "JpPr91gGcpQD",
        "outputId": "a090f5e4-98d1-4e6e-cf54-cefcf6c13d29"
      },
      "outputs": [
        {
          "data": {
            "text/plain": [
              "(True, 3.45, 'sudh', 34, 234)"
            ]
          },
          "execution_count": 9,
          "metadata": {},
          "output_type": "execute_result"
        }
      ],
      "source": [
        "t1[::-1]"
      ]
    },
    {
      "cell_type": "code",
      "execution_count": null,
      "metadata": {
        "id": "BLUibd6kcpQD",
        "outputId": "0a753717-5a4a-45f9-b6b6-c1b7751dbdeb"
      },
      "outputs": [
        {
          "data": {
            "text/plain": [
              "True"
            ]
          },
          "execution_count": 11,
          "metadata": {},
          "output_type": "execute_result"
        }
      ],
      "source": [
        "t1[-1]"
      ]
    },
    {
      "cell_type": "code",
      "execution_count": null,
      "metadata": {
        "id": "kg27aXiWcpQE"
      },
      "outputs": [],
      "source": [
        "l1[0] = \"kumar\""
      ]
    },
    {
      "cell_type": "code",
      "execution_count": null,
      "metadata": {
        "id": "-k13RsuwcpQF",
        "outputId": "f33c7f3d-7ed7-497c-accc-9ec269565c21"
      },
      "outputs": [
        {
          "data": {
            "text/plain": [
              "['kumar', 34, 'sudh', 3.45, True]"
            ]
          },
          "execution_count": 14,
          "metadata": {},
          "output_type": "execute_result"
        }
      ],
      "source": [
        "l1"
      ]
    },
    {
      "cell_type": "code",
      "execution_count": null,
      "metadata": {
        "id": "aTGALJJ9cpQF",
        "outputId": "e1aefffc-a7d9-4dfc-9192-db22d956b752"
      },
      "outputs": [
        {
          "data": {
            "text/plain": [
              "(234, 34, 'sudh', 3.45, True)"
            ]
          },
          "execution_count": 15,
          "metadata": {},
          "output_type": "execute_result"
        }
      ],
      "source": [
        "t1"
      ]
    },
    {
      "cell_type": "code",
      "execution_count": null,
      "metadata": {
        "id": "gtWU_anacpQF",
        "outputId": "3c5ffa9a-b464-453b-c84e-3f1252720c9b"
      },
      "outputs": [
        {
          "ename": "TypeError",
          "evalue": "'tuple' object does not support item assignment",
          "output_type": "error",
          "traceback": [
            "\u001b[1;31m---------------------------------------------------------------------------\u001b[0m",
            "\u001b[1;31mTypeError\u001b[0m                                 Traceback (most recent call last)",
            "\u001b[1;32m<ipython-input-17-de2369803a3c>\u001b[0m in \u001b[0;36m<module>\u001b[1;34m\u001b[0m\n\u001b[1;32m----> 1\u001b[1;33m \u001b[0mt1\u001b[0m\u001b[1;33m[\u001b[0m\u001b[1;36m0\u001b[0m\u001b[1;33m]\u001b[0m \u001b[1;33m=\u001b[0m \u001b[1;34m\"dsdfdf\"\u001b[0m\u001b[1;33m\u001b[0m\u001b[1;33m\u001b[0m\u001b[0m\n\u001b[0m",
            "\u001b[1;31mTypeError\u001b[0m: 'tuple' object does not support item assignment"
          ]
        }
      ],
      "source": [
        "t1[0] = \"dsdfdf\""
      ]
    },
    {
      "cell_type": "code",
      "execution_count": null,
      "metadata": {
        "id": "kvGKo22mcpQG"
      },
      "outputs": [],
      "source": [
        "t2 = (234,54,565)"
      ]
    },
    {
      "cell_type": "code",
      "execution_count": null,
      "metadata": {
        "id": "YJ-HLazfcpQG",
        "outputId": "a465dc1d-6e4a-4d1a-a1d4-b284189217c3"
      },
      "outputs": [
        {
          "data": {
            "text/plain": [
              "(234, 34, 'sudh', 3.45, True, 234, 54, 565)"
            ]
          },
          "execution_count": 19,
          "metadata": {},
          "output_type": "execute_result"
        }
      ],
      "source": [
        "t1+t2"
      ]
    },
    {
      "cell_type": "code",
      "execution_count": null,
      "metadata": {
        "id": "l5bXi--lcpQG",
        "outputId": "3a9103e6-9cfa-4cea-d317-8e709ba9b9af"
      },
      "outputs": [
        {
          "data": {
            "text/plain": [
              "(234,\n",
              " 34,\n",
              " 'sudh',\n",
              " 3.45,\n",
              " True,\n",
              " 234,\n",
              " 34,\n",
              " 'sudh',\n",
              " 3.45,\n",
              " True,\n",
              " 234,\n",
              " 34,\n",
              " 'sudh',\n",
              " 3.45,\n",
              " True,\n",
              " 234,\n",
              " 34,\n",
              " 'sudh',\n",
              " 3.45,\n",
              " True)"
            ]
          },
          "execution_count": 20,
          "metadata": {},
          "output_type": "execute_result"
        }
      ],
      "source": [
        "t1*4"
      ]
    },
    {
      "cell_type": "code",
      "execution_count": null,
      "metadata": {
        "id": "GsSPWNoZcpQH",
        "outputId": "e86aa1a1-ecbc-4be3-ec2e-837dde4982bb"
      },
      "outputs": [
        {
          "data": {
            "text/plain": [
              "(234, 34, 'sudh', 3.45, True)"
            ]
          },
          "execution_count": 22,
          "metadata": {},
          "output_type": "execute_result"
        }
      ],
      "source": [
        "t1"
      ]
    },
    {
      "cell_type": "code",
      "execution_count": null,
      "metadata": {
        "id": "35dz97PZcpQH",
        "outputId": "765fd412-9b36-43ed-8f11-075489a00b9b"
      },
      "outputs": [
        {
          "data": {
            "text/plain": [
              "True"
            ]
          },
          "execution_count": 23,
          "metadata": {},
          "output_type": "execute_result"
        }
      ],
      "source": [
        "34 in t1"
      ]
    },
    {
      "cell_type": "code",
      "execution_count": null,
      "metadata": {
        "id": "Sc9GGmkbcpQH",
        "outputId": "90f21826-ff35-471d-abcf-d416da9ec10a"
      },
      "outputs": [
        {
          "data": {
            "text/plain": [
              "False"
            ]
          },
          "execution_count": 24,
          "metadata": {},
          "output_type": "execute_result"
        }
      ],
      "source": [
        "\"fdsfds\" in t1"
      ]
    },
    {
      "cell_type": "code",
      "execution_count": null,
      "metadata": {
        "id": "f8Y9HqEncpQI",
        "outputId": "2fd5b215-354f-4260-9132-175a1fd8eca5"
      },
      "outputs": [
        {
          "data": {
            "text/plain": [
              "(234, 34, 'sudh', 3.45, True)"
            ]
          },
          "execution_count": 25,
          "metadata": {},
          "output_type": "execute_result"
        }
      ],
      "source": [
        "t1"
      ]
    },
    {
      "cell_type": "code",
      "execution_count": null,
      "metadata": {
        "id": "T-Cf-EvNcpQI",
        "outputId": "e10999f2-598f-4cfd-aa78-c37b4eba27e6"
      },
      "outputs": [
        {
          "ename": "TypeError",
          "evalue": "'>' not supported between instances of 'str' and 'int'",
          "output_type": "error",
          "traceback": [
            "\u001b[1;31m---------------------------------------------------------------------------\u001b[0m",
            "\u001b[1;31mTypeError\u001b[0m                                 Traceback (most recent call last)",
            "\u001b[1;32m<ipython-input-26-07c1bf72392e>\u001b[0m in \u001b[0;36m<module>\u001b[1;34m\u001b[0m\n\u001b[1;32m----> 1\u001b[1;33m \u001b[0mmax\u001b[0m\u001b[1;33m(\u001b[0m\u001b[0mt1\u001b[0m\u001b[1;33m)\u001b[0m\u001b[1;33m\u001b[0m\u001b[1;33m\u001b[0m\u001b[0m\n\u001b[0m",
            "\u001b[1;31mTypeError\u001b[0m: '>' not supported between instances of 'str' and 'int'"
          ]
        }
      ],
      "source": [
        "max(t1)"
      ]
    },
    {
      "cell_type": "code",
      "execution_count": null,
      "metadata": {
        "id": "T6V8YuNRcpQI"
      },
      "outputs": [],
      "source": [
        "t3 = (23,343,45,454,54)"
      ]
    },
    {
      "cell_type": "code",
      "execution_count": null,
      "metadata": {
        "id": "PX8IkPZBcpQI",
        "outputId": "82770d0c-ebd6-4105-a6c8-a001ae3413a8"
      },
      "outputs": [
        {
          "data": {
            "text/plain": [
              "454"
            ]
          },
          "execution_count": 29,
          "metadata": {},
          "output_type": "execute_result"
        }
      ],
      "source": [
        "max(t3)"
      ]
    },
    {
      "cell_type": "code",
      "execution_count": null,
      "metadata": {
        "id": "Ty-Uooy8cpQI"
      },
      "outputs": [],
      "source": [
        "t4 = (\"fsdf\",\"Fsdf\",\"fsd\")"
      ]
    },
    {
      "cell_type": "code",
      "execution_count": null,
      "metadata": {
        "id": "W2g4LsddcpQJ",
        "outputId": "eb7638b4-8993-4217-cb56-b542cf358a55"
      },
      "outputs": [
        {
          "data": {
            "text/plain": [
              "'fsdf'"
            ]
          },
          "execution_count": 31,
          "metadata": {},
          "output_type": "execute_result"
        }
      ],
      "source": [
        "max(t4)"
      ]
    },
    {
      "cell_type": "code",
      "execution_count": null,
      "metadata": {
        "id": "-xgYl3DLcpQJ"
      },
      "outputs": [],
      "source": [
        "t1 =(234, 34, 'sudh', 3.45,34,34,34, True)"
      ]
    },
    {
      "cell_type": "code",
      "execution_count": null,
      "metadata": {
        "id": "8DZBKLNucpQJ",
        "outputId": "f6b98a48-0b20-4c57-857e-d005e55a07a9"
      },
      "outputs": [
        {
          "data": {
            "text/plain": [
              "1"
            ]
          },
          "execution_count": 38,
          "metadata": {},
          "output_type": "execute_result"
        }
      ],
      "source": [
        "t1.index(34)"
      ]
    },
    {
      "cell_type": "code",
      "execution_count": null,
      "metadata": {
        "id": "VCgKNVoLcpQJ",
        "outputId": "b28c77c1-fd36-4f04-a4e6-af1a88fa30ec"
      },
      "outputs": [
        {
          "data": {
            "text/plain": [
              "4"
            ]
          },
          "execution_count": 39,
          "metadata": {},
          "output_type": "execute_result"
        }
      ],
      "source": [
        "t1.count(34)"
      ]
    },
    {
      "cell_type": "code",
      "execution_count": null,
      "metadata": {
        "id": "zRpgHY-0cpQJ",
        "outputId": "10458152-7e87-4b8e-c33b-b36eb407f9f4"
      },
      "outputs": [
        {
          "data": {
            "text/plain": [
              "['kumar', 34, 'sudh', 3.45, True]"
            ]
          },
          "execution_count": 33,
          "metadata": {},
          "output_type": "execute_result"
        }
      ],
      "source": [
        "l1"
      ]
    },
    {
      "cell_type": "code",
      "execution_count": null,
      "metadata": {
        "id": "spZFlBtPcpQK",
        "outputId": "eb117f5e-cf1f-435f-8749-4f4e1dd0acc5"
      },
      "outputs": [
        {
          "ename": "ValueError",
          "evalue": "6 is not in list",
          "output_type": "error",
          "traceback": [
            "\u001b[1;31m---------------------------------------------------------------------------\u001b[0m",
            "\u001b[1;31mValueError\u001b[0m                                Traceback (most recent call last)",
            "\u001b[1;32m<ipython-input-36-6ca79050144f>\u001b[0m in \u001b[0;36m<module>\u001b[1;34m\u001b[0m\n\u001b[1;32m----> 1\u001b[1;33m \u001b[0ml1\u001b[0m\u001b[1;33m.\u001b[0m\u001b[0mindex\u001b[0m\u001b[1;33m(\u001b[0m\u001b[1;36m6\u001b[0m\u001b[1;33m)\u001b[0m\u001b[1;33m\u001b[0m\u001b[1;33m\u001b[0m\u001b[0m\n\u001b[0m",
            "\u001b[1;31mValueError\u001b[0m: 6 is not in list"
          ]
        }
      ],
      "source": [
        "l1.index(6)"
      ]
    },
    {
      "cell_type": "code",
      "execution_count": null,
      "metadata": {
        "id": "7KLgre2kcpQK",
        "outputId": "acc48e73-18dd-476a-b6d7-375dfc35fb50"
      },
      "outputs": [
        {
          "data": {
            "text/plain": [
              "(234, 34, 'sudh', 3.45, 34, 34, 34, True)"
            ]
          },
          "execution_count": 40,
          "metadata": {},
          "output_type": "execute_result"
        }
      ],
      "source": [
        "t1"
      ]
    },
    {
      "cell_type": "code",
      "execution_count": null,
      "metadata": {
        "id": "4yr8wDM6cpQK",
        "outputId": "b52bcbf2-c7d2-4fe0-9227-84be679fd70f"
      },
      "outputs": [
        {
          "ename": "TypeError",
          "evalue": "'<' not supported between instances of 'str' and 'int'",
          "output_type": "error",
          "traceback": [
            "\u001b[1;31m---------------------------------------------------------------------------\u001b[0m",
            "\u001b[1;31mTypeError\u001b[0m                                 Traceback (most recent call last)",
            "\u001b[1;32m<ipython-input-41-e8166676ab5b>\u001b[0m in \u001b[0;36m<module>\u001b[1;34m\u001b[0m\n\u001b[1;32m----> 1\u001b[1;33m \u001b[0mmin\u001b[0m\u001b[1;33m(\u001b[0m\u001b[0mt1\u001b[0m\u001b[1;33m)\u001b[0m\u001b[1;33m\u001b[0m\u001b[1;33m\u001b[0m\u001b[0m\n\u001b[0m",
            "\u001b[1;31mTypeError\u001b[0m: '<' not supported between instances of 'str' and 'int'"
          ]
        }
      ],
      "source": [
        "min(t1)"
      ]
    },
    {
      "cell_type": "code",
      "execution_count": null,
      "metadata": {
        "id": "g0RRsndbcpQK",
        "outputId": "d7eeabfb-de42-4dd0-ccca-584fe758e5da"
      },
      "outputs": [
        {
          "data": {
            "text/plain": [
              "(23, 343, 45, 454, 54)"
            ]
          },
          "execution_count": 42,
          "metadata": {},
          "output_type": "execute_result"
        }
      ],
      "source": [
        "t3"
      ]
    },
    {
      "cell_type": "code",
      "execution_count": null,
      "metadata": {
        "id": "BK7f878VcpQK",
        "outputId": "deed59f8-331b-4ab6-9ed6-5b0c8b0ca3c1"
      },
      "outputs": [
        {
          "data": {
            "text/plain": [
              "23"
            ]
          },
          "execution_count": 43,
          "metadata": {},
          "output_type": "execute_result"
        }
      ],
      "source": [
        "min(t3)"
      ]
    },
    {
      "cell_type": "code",
      "execution_count": null,
      "metadata": {
        "id": "8sCmRZpdcpQK",
        "outputId": "3937fba9-ad32-4553-b00c-4d7b17c6e53a"
      },
      "outputs": [
        {
          "data": {
            "text/plain": [
              "'Fsdf'"
            ]
          },
          "execution_count": 44,
          "metadata": {},
          "output_type": "execute_result"
        }
      ],
      "source": [
        "min(t4)"
      ]
    },
    {
      "cell_type": "code",
      "execution_count": null,
      "metadata": {
        "id": "VF4-J4S1cpQL",
        "outputId": "e1de0f0c-de4e-43dd-bca2-c7fdf0be937c"
      },
      "outputs": [
        {
          "data": {
            "text/plain": [
              "()"
            ]
          },
          "execution_count": 45,
          "metadata": {},
          "output_type": "execute_result"
        }
      ],
      "source": [
        "t"
      ]
    },
    {
      "cell_type": "code",
      "execution_count": null,
      "metadata": {
        "id": "1t-bDit7cpQL",
        "outputId": "8342f340-6a32-4919-c8df-c4810f1b868c"
      },
      "outputs": [
        {
          "data": {
            "text/plain": [
              "(234, 34, 'sudh', 3.45, 34, 34, 34, True)"
            ]
          },
          "execution_count": 46,
          "metadata": {},
          "output_type": "execute_result"
        }
      ],
      "source": [
        "t1"
      ]
    },
    {
      "cell_type": "code",
      "execution_count": null,
      "metadata": {
        "id": "53404gLvcpQL"
      },
      "outputs": [],
      "source": [
        "t5 =(90,45)"
      ]
    },
    {
      "cell_type": "code",
      "execution_count": null,
      "metadata": {
        "id": "uRn47KpKcpQL",
        "outputId": "03d9b57c-f7a7-422d-c554-76ccd992f29d"
      },
      "outputs": [
        {
          "data": {
            "text/plain": [
              "(234, 34, 'sudh', 3.45, 34, 34, 34, True, 90, 45)"
            ]
          },
          "execution_count": 50,
          "metadata": {},
          "output_type": "execute_result"
        }
      ],
      "source": [
        "t1+t5"
      ]
    },
    {
      "cell_type": "code",
      "execution_count": null,
      "metadata": {
        "id": "XPaan3lacpQL"
      },
      "outputs": [],
      "source": [
        "t6= 56"
      ]
    },
    {
      "cell_type": "code",
      "execution_count": null,
      "metadata": {
        "id": "awDpyAjbcpQL"
      },
      "outputs": [],
      "source": [
        "l5 = list(t1)"
      ]
    },
    {
      "cell_type": "code",
      "execution_count": null,
      "metadata": {
        "id": "yIeAciO0cpQL"
      },
      "outputs": [],
      "source": [
        "l5.insert(3,t6)"
      ]
    },
    {
      "cell_type": "code",
      "execution_count": null,
      "metadata": {
        "id": "qP5s0br6cpQM",
        "outputId": "570740b2-ee02-4d17-b1c2-d46958a7b223"
      },
      "outputs": [
        {
          "data": {
            "text/plain": [
              "[234, 34, 'sudh', 56, 3.45, 34, 34, 34, True]"
            ]
          },
          "execution_count": 56,
          "metadata": {},
          "output_type": "execute_result"
        }
      ],
      "source": [
        "l5"
      ]
    },
    {
      "cell_type": "code",
      "execution_count": null,
      "metadata": {
        "id": "WYoB_TuccpQM",
        "outputId": "22594279-e4e2-4b12-985e-527cbc9a2e74"
      },
      "outputs": [
        {
          "data": {
            "text/plain": [
              "(234, 34, 'sudh', 56, 3.45, 34, 34, 34, True)"
            ]
          },
          "execution_count": 57,
          "metadata": {},
          "output_type": "execute_result"
        }
      ],
      "source": [
        "tuple(l5)"
      ]
    },
    {
      "cell_type": "code",
      "execution_count": null,
      "metadata": {
        "id": "mI2Gw5wCcpQM"
      },
      "outputs": [],
      "source": [
        "t = ((3,4,5,6,7) , (\"sdfsd\",45,45) , (\"454\",54) , 45,454,67 , [4,5,6,7,7])"
      ]
    },
    {
      "cell_type": "code",
      "execution_count": null,
      "metadata": {
        "id": "AYd8nnQ6cpQM",
        "outputId": "ffbf3d03-241f-4fb0-e979-bc220436b866"
      },
      "outputs": [
        {
          "data": {
            "text/plain": [
              "[5, 6, 7]"
            ]
          },
          "execution_count": 65,
          "metadata": {},
          "output_type": "execute_result"
        }
      ],
      "source": [
        "t[6][1:4]"
      ]
    },
    {
      "cell_type": "code",
      "execution_count": null,
      "metadata": {
        "id": "o2N8Tdr3cpQM",
        "outputId": "3b35c703-b629-47a2-cf11-c4e3ff37d576"
      },
      "outputs": [
        {
          "data": {
            "text/plain": [
              "'sdfsd'"
            ]
          },
          "execution_count": 67,
          "metadata": {},
          "output_type": "execute_result"
        }
      ],
      "source": [
        "t[1][0]"
      ]
    },
    {
      "cell_type": "code",
      "execution_count": null,
      "metadata": {
        "id": "We-q8jOOcpQM",
        "outputId": "869d1ddb-0597-4bba-e9b9-06610bab0bb7"
      },
      "outputs": [
        {
          "name": "stdout",
          "output_type": "stream",
          "text": [
            "(3, 4, 5, 6, 7)\n",
            "('sdfsd', 45, 45)\n",
            "('454', 54)\n",
            "45\n",
            "454\n",
            "67\n",
            "[4, 5, 6, 7, 7]\n"
          ]
        }
      ],
      "source": [
        "for i in t :\n",
        "    print(i)"
      ]
    },
    {
      "cell_type": "code",
      "execution_count": null,
      "metadata": {
        "id": "eCMrs2TDcpQN",
        "outputId": "c519504b-17cc-4f83-bf98-7ac9d3ee6f7b"
      },
      "outputs": [
        {
          "name": "stdout",
          "output_type": "stream",
          "text": [
            "3\n",
            "sdfsd\n",
            "454\n"
          ]
        }
      ],
      "source": [
        "for i in t :\n",
        "    if type(i)==tuple :\n",
        "        print(i[0])"
      ]
    },
    {
      "cell_type": "code",
      "execution_count": null,
      "metadata": {
        "id": "bSFt7Ix0cpQN",
        "outputId": "d923d0fe-3a36-47ef-8287-fc904fa2aa33"
      },
      "outputs": [
        {
          "data": {
            "text/plain": [
              "(234, 34, 'sudh', 3.45, 34, 34, 34, True)"
            ]
          },
          "execution_count": 70,
          "metadata": {},
          "output_type": "execute_result"
        }
      ],
      "source": [
        "t1 "
      ]
    },
    {
      "cell_type": "code",
      "execution_count": null,
      "metadata": {
        "id": "3iRpxsSNcpQN",
        "outputId": "a08b192d-b69c-413a-c415-7a2a02373ce6"
      },
      "outputs": [
        {
          "data": {
            "text/plain": [
              "(234, 54, 565)"
            ]
          },
          "execution_count": 71,
          "metadata": {},
          "output_type": "execute_result"
        }
      ],
      "source": [
        "t2"
      ]
    },
    {
      "cell_type": "code",
      "execution_count": null,
      "metadata": {
        "id": "XcjKBWC-cpQN",
        "outputId": "99f5249f-39cc-4c14-83a7-62f034f79feb"
      },
      "outputs": [
        {
          "name": "stdout",
          "output_type": "stream",
          "text": [
            "not same \n"
          ]
        }
      ],
      "source": [
        "if len(t1) == len(t2):\n",
        "    print(\"its same \")\n",
        "else :\n",
        "    print(\"not same \")"
      ]
    },
    {
      "cell_type": "code",
      "execution_count": null,
      "metadata": {
        "id": "KPZuE8d8cpQN"
      },
      "outputs": [],
      "source": [
        "t = (234, 34, 'sudh', 3.45, 34, 34, 34, True , \"kumar\")\n",
        "\n"
      ]
    },
    {
      "cell_type": "code",
      "execution_count": null,
      "metadata": {
        "id": "MWHpnrAvcpQN",
        "outputId": "0b3ccad4-5de2-4d56-cd7e-589acc0294fe"
      },
      "outputs": [
        {
          "name": "stdout",
          "output_type": "stream",
          "text": [
            "take a user input34\n",
            "your name is not available \n"
          ]
        }
      ],
      "source": [
        "i = input(\"take a user input\")\n",
        "\n",
        "if i in t :\n",
        "    print(\"yet s your name is available \")\n",
        "else :\n",
        "    print(\"your name is not available \")"
      ]
    },
    {
      "cell_type": "code",
      "execution_count": null,
      "metadata": {
        "id": "Aq0u7esWcpQN",
        "outputId": "a934b1a9-ac52-4f5f-bb0e-77f737208153"
      },
      "outputs": [
        {
          "data": {
            "text/plain": [
              "(234, 34, 'sudh', 3.45, 34, 34, 34, True, 'kumar')"
            ]
          },
          "execution_count": 78,
          "metadata": {},
          "output_type": "execute_result"
        }
      ],
      "source": [
        "t"
      ]
    },
    {
      "cell_type": "code",
      "execution_count": null,
      "metadata": {
        "id": "Rw_WwJd5cpQO",
        "outputId": "249e78e7-c47f-40ef-91ae-7df7066847af"
      },
      "outputs": [
        {
          "data": {
            "text/plain": [
              "['kumar', 34, 'sudh', 3.45, True]"
            ]
          },
          "execution_count": 80,
          "metadata": {},
          "output_type": "execute_result"
        }
      ],
      "source": [
        "l1"
      ]
    },
    {
      "cell_type": "code",
      "execution_count": null,
      "metadata": {
        "id": "vv4EsH6qcpQO"
      },
      "outputs": [],
      "source": [
        "t1  = (34)"
      ]
    },
    {
      "cell_type": "code",
      "execution_count": null,
      "metadata": {
        "id": "1RMkQmNHcpQO"
      },
      "outputs": [],
      "source": [
        "del(t)"
      ]
    },
    {
      "cell_type": "code",
      "execution_count": null,
      "metadata": {
        "id": "b_qRmvXocpQO",
        "outputId": "344226e3-2ab6-4761-e5e0-ab7f6bf67549"
      },
      "outputs": [
        {
          "ename": "NameError",
          "evalue": "name 't' is not defined",
          "output_type": "error",
          "traceback": [
            "\u001b[1;31m---------------------------------------------------------------------------\u001b[0m",
            "\u001b[1;31mNameError\u001b[0m                                 Traceback (most recent call last)",
            "\u001b[1;32m<ipython-input-87-34fc7a11cb38>\u001b[0m in \u001b[0;36m<module>\u001b[1;34m\u001b[0m\n\u001b[1;32m----> 1\u001b[1;33m \u001b[0mt\u001b[0m\u001b[1;33m\u001b[0m\u001b[1;33m\u001b[0m\u001b[0m\n\u001b[0m",
            "\u001b[1;31mNameError\u001b[0m: name 't' is not defined"
          ]
        }
      ],
      "source": [
        "t"
      ]
    },
    {
      "cell_type": "code",
      "execution_count": null,
      "metadata": {
        "id": "XBfG6j7lcpQO"
      },
      "outputs": [],
      "source": [
        "del(l1)"
      ]
    },
    {
      "cell_type": "code",
      "execution_count": null,
      "metadata": {
        "id": "bT4v6vR6cpQO",
        "outputId": "78bed5d4-f41e-4d9e-ebc3-4897dce4ec3a"
      },
      "outputs": [
        {
          "ename": "NameError",
          "evalue": "name 'l1' is not defined",
          "output_type": "error",
          "traceback": [
            "\u001b[1;31m---------------------------------------------------------------------------\u001b[0m",
            "\u001b[1;31mNameError\u001b[0m                                 Traceback (most recent call last)",
            "\u001b[1;32m<ipython-input-89-6cf485bc2797>\u001b[0m in \u001b[0;36m<module>\u001b[1;34m\u001b[0m\n\u001b[1;32m----> 1\u001b[1;33m \u001b[0ml1\u001b[0m\u001b[1;33m\u001b[0m\u001b[1;33m\u001b[0m\u001b[0m\n\u001b[0m",
            "\u001b[1;31mNameError\u001b[0m: name 'l1' is not defined"
          ]
        }
      ],
      "source": [
        "l1"
      ]
    },
    {
      "cell_type": "code",
      "execution_count": null,
      "metadata": {
        "id": "NktSxBYTcpQO"
      },
      "outputs": [],
      "source": [
        "l = [324,343,343,34]"
      ]
    },
    {
      "cell_type": "code",
      "execution_count": null,
      "metadata": {
        "id": "dyCfjDcecpQP",
        "outputId": "fb9b4bad-b842-4dea-c953-bd7965cc606c"
      },
      "outputs": [
        {
          "data": {
            "text/plain": [
              "(234, 54, 565)"
            ]
          },
          "execution_count": 92,
          "metadata": {},
          "output_type": "execute_result"
        }
      ],
      "source": [
        "t2"
      ]
    },
    {
      "cell_type": "code",
      "execution_count": null,
      "metadata": {
        "id": "EMjrdliZcpQP"
      },
      "outputs": [],
      "source": [
        "x = set()"
      ]
    },
    {
      "cell_type": "code",
      "execution_count": null,
      "metadata": {
        "id": "JY1poONrcpQP",
        "outputId": "4bdfb12e-8199-4163-9044-5092c3e7a47b"
      },
      "outputs": [
        {
          "data": {
            "text/plain": [
              "set"
            ]
          },
          "execution_count": 94,
          "metadata": {},
          "output_type": "execute_result"
        }
      ],
      "source": [
        "type(x)"
      ]
    },
    {
      "cell_type": "code",
      "execution_count": null,
      "metadata": {
        "id": "OsYMv3pMcpQP"
      },
      "outputs": [],
      "source": [
        "l = [34,45,45,45,45,67,34,56,78,\"sudh\",\"sudh\",\"Sudh\",\"kumar\" ,45,454545454,545,4545,545 , [3,45,6]]"
      ]
    },
    {
      "cell_type": "code",
      "execution_count": null,
      "metadata": {
        "id": "7_BBKB0ScpQP",
        "outputId": "836aecc3-da7b-4857-fe0a-3c989e8f87ca"
      },
      "outputs": [
        {
          "ename": "TypeError",
          "evalue": "unhashable type: 'list'",
          "output_type": "error",
          "traceback": [
            "\u001b[1;31m---------------------------------------------------------------------------\u001b[0m",
            "\u001b[1;31mTypeError\u001b[0m                                 Traceback (most recent call last)",
            "\u001b[1;32m<ipython-input-124-3c7060e5ad20>\u001b[0m in \u001b[0;36m<module>\u001b[1;34m\u001b[0m\n\u001b[1;32m----> 1\u001b[1;33m \u001b[0ms\u001b[0m \u001b[1;33m=\u001b[0m \u001b[0mset\u001b[0m\u001b[1;33m(\u001b[0m\u001b[0ml\u001b[0m\u001b[1;33m)\u001b[0m\u001b[1;33m\u001b[0m\u001b[1;33m\u001b[0m\u001b[0m\n\u001b[0m",
            "\u001b[1;31mTypeError\u001b[0m: unhashable type: 'list'"
          ]
        }
      ],
      "source": [
        "s = set(l)"
      ]
    },
    {
      "cell_type": "code",
      "execution_count": null,
      "metadata": {
        "id": "rLgOfIdgcpQP",
        "outputId": "6bf47847-d033-4ee7-f9b8-5ac6c036f757"
      },
      "outputs": [
        {
          "data": {
            "text/plain": [
              "{34, 45, 4545, 454545454, 545, 56, 67, 78, 'Sudh', 'kumar', 'sudh'}"
            ]
          },
          "execution_count": 115,
          "metadata": {},
          "output_type": "execute_result"
        }
      ],
      "source": [
        "s"
      ]
    },
    {
      "cell_type": "code",
      "execution_count": null,
      "metadata": {
        "id": "iXyQPsMHcpQP",
        "outputId": "94d98cfa-3316-491b-e4d7-7c2cfe3ad1c8"
      },
      "outputs": [
        {
          "name": "stdout",
          "output_type": "stream",
          "text": [
            "34\n",
            "67\n",
            "45\n",
            "78\n",
            "Sudh\n",
            "kumar\n",
            "56\n",
            "sudh\n"
          ]
        }
      ],
      "source": [
        "for i in s :\n",
        "    print(i)"
      ]
    },
    {
      "cell_type": "code",
      "execution_count": null,
      "metadata": {
        "id": "9FohVJlqcpQP",
        "outputId": "4308c6de-9881-40f3-a934-15f7a03e0c0d"
      },
      "outputs": [
        {
          "data": {
            "text/plain": [
              "True"
            ]
          },
          "execution_count": 102,
          "metadata": {},
          "output_type": "execute_result"
        }
      ],
      "source": [
        "34 in s "
      ]
    },
    {
      "cell_type": "code",
      "execution_count": null,
      "metadata": {
        "id": "Rbom9EvqcpQQ",
        "outputId": "976725b1-0952-4ff4-94e2-9e7ec328d92c"
      },
      "outputs": [
        {
          "ename": "TypeError",
          "evalue": "'set' object is not subscriptable",
          "output_type": "error",
          "traceback": [
            "\u001b[1;31m---------------------------------------------------------------------------\u001b[0m",
            "\u001b[1;31mTypeError\u001b[0m                                 Traceback (most recent call last)",
            "\u001b[1;32m<ipython-input-106-c9c96910e542>\u001b[0m in \u001b[0;36m<module>\u001b[1;34m\u001b[0m\n\u001b[1;32m----> 1\u001b[1;33m \u001b[0ms\u001b[0m\u001b[1;33m[\u001b[0m\u001b[1;36m0\u001b[0m\u001b[1;33m]\u001b[0m\u001b[1;33m\u001b[0m\u001b[1;33m\u001b[0m\u001b[0m\n\u001b[0m",
            "\u001b[1;31mTypeError\u001b[0m: 'set' object is not subscriptable"
          ]
        }
      ],
      "source": [
        "s[0]"
      ]
    },
    {
      "cell_type": "code",
      "execution_count": null,
      "metadata": {
        "id": "VCcG77s7cpQQ",
        "outputId": "c7350920-8df6-4881-ec66-9ce4861819c7"
      },
      "outputs": [
        {
          "data": {
            "text/plain": [
              "set()"
            ]
          },
          "execution_count": 117,
          "metadata": {},
          "output_type": "execute_result"
        }
      ],
      "source": [
        "s = set()\n",
        "s"
      ]
    },
    {
      "cell_type": "code",
      "execution_count": null,
      "metadata": {
        "id": "tRCCgf3ecpQQ"
      },
      "outputs": [],
      "source": [
        "s.add(45)"
      ]
    },
    {
      "cell_type": "code",
      "execution_count": null,
      "metadata": {
        "id": "AEdqR8aGcpQQ",
        "outputId": "be7b0958-9788-49a7-9f9b-a838d507d24f"
      },
      "outputs": [
        {
          "data": {
            "text/plain": [
              "{45}"
            ]
          },
          "execution_count": 119,
          "metadata": {},
          "output_type": "execute_result"
        }
      ],
      "source": [
        "s"
      ]
    },
    {
      "cell_type": "code",
      "execution_count": null,
      "metadata": {
        "id": "qrWqA4bAcpQQ"
      },
      "outputs": [],
      "source": [
        "s.add(\"sudh\")"
      ]
    },
    {
      "cell_type": "code",
      "execution_count": null,
      "metadata": {
        "id": "ms_npsAScpQQ"
      },
      "outputs": [],
      "source": [
        "s.add(\"fsdfsfs\")"
      ]
    },
    {
      "cell_type": "code",
      "execution_count": null,
      "metadata": {
        "id": "Hj7K9dpWcpQQ",
        "outputId": "40fb2a11-61cb-4353-dbb7-f0a40fb4cab5"
      },
      "outputs": [
        {
          "ename": "TypeError",
          "evalue": "unhashable type: 'list'",
          "output_type": "error",
          "traceback": [
            "\u001b[1;31m---------------------------------------------------------------------------\u001b[0m",
            "\u001b[1;31mTypeError\u001b[0m                                 Traceback (most recent call last)",
            "\u001b[1;32m<ipython-input-122-27fd4cc9406d>\u001b[0m in \u001b[0;36m<module>\u001b[1;34m\u001b[0m\n\u001b[1;32m----> 1\u001b[1;33m \u001b[0ms\u001b[0m\u001b[1;33m.\u001b[0m\u001b[0madd\u001b[0m\u001b[1;33m(\u001b[0m\u001b[1;33m[\u001b[0m\u001b[1;36m2344455\u001b[0m\u001b[1;33m,\u001b[0m\u001b[1;36m454\u001b[0m\u001b[1;33m]\u001b[0m\u001b[1;33m)\u001b[0m\u001b[1;33m\u001b[0m\u001b[1;33m\u001b[0m\u001b[0m\n\u001b[0m",
            "\u001b[1;31mTypeError\u001b[0m: unhashable type: 'list'"
          ]
        }
      ],
      "source": [
        "s.add([2344455,454])"
      ]
    },
    {
      "cell_type": "code",
      "execution_count": null,
      "metadata": {
        "id": "MS-ZCSaHcpQQ",
        "outputId": "734e762d-4448-4c8f-b452-8b985d088f97"
      },
      "outputs": [
        {
          "data": {
            "text/plain": [
              "{45, 'fsdfsfs', 'sudh'}"
            ]
          },
          "execution_count": 125,
          "metadata": {},
          "output_type": "execute_result"
        }
      ],
      "source": [
        "s"
      ]
    },
    {
      "cell_type": "code",
      "execution_count": null,
      "metadata": {
        "id": "liD050IocpQR"
      },
      "outputs": [],
      "source": [
        "s.add(45)"
      ]
    },
    {
      "cell_type": "code",
      "execution_count": null,
      "metadata": {
        "id": "UHbTuUF-cpQR",
        "outputId": "e29b2e98-02dd-4cc3-bcfd-97dc30ca9aa8"
      },
      "outputs": [
        {
          "data": {
            "text/plain": [
              "{45, 'fsdfsfs', 'sudh'}"
            ]
          },
          "execution_count": 127,
          "metadata": {},
          "output_type": "execute_result"
        }
      ],
      "source": [
        "s"
      ]
    },
    {
      "cell_type": "code",
      "execution_count": null,
      "metadata": {
        "id": "M0wchotccpQR",
        "outputId": "ae8e1b85-0a31-4221-c1fd-4bb3f320788d"
      },
      "outputs": [
        {
          "data": {
            "text/plain": [
              "{45, 'fsdfsfs', 'sudh'}"
            ]
          },
          "execution_count": 128,
          "metadata": {},
          "output_type": "execute_result"
        }
      ],
      "source": [
        "s"
      ]
    },
    {
      "cell_type": "code",
      "execution_count": null,
      "metadata": {
        "id": "eQnXJ_CacpQR",
        "outputId": "a8200245-df02-4717-ed78-a34ca5d1589e"
      },
      "outputs": [
        {
          "ename": "KeyError",
          "evalue": "45",
          "output_type": "error",
          "traceback": [
            "\u001b[1;31m---------------------------------------------------------------------------\u001b[0m",
            "\u001b[1;31mKeyError\u001b[0m                                  Traceback (most recent call last)",
            "\u001b[1;32m<ipython-input-131-30b5ee21a9a0>\u001b[0m in \u001b[0;36m<module>\u001b[1;34m\u001b[0m\n\u001b[1;32m----> 1\u001b[1;33m \u001b[0ms\u001b[0m\u001b[1;33m.\u001b[0m\u001b[0mremove\u001b[0m\u001b[1;33m(\u001b[0m\u001b[1;36m45\u001b[0m\u001b[1;33m)\u001b[0m\u001b[1;33m\u001b[0m\u001b[1;33m\u001b[0m\u001b[0m\n\u001b[0m",
            "\u001b[1;31mKeyError\u001b[0m: 45"
          ]
        }
      ],
      "source": [
        "s.remove(45)"
      ]
    },
    {
      "cell_type": "code",
      "execution_count": null,
      "metadata": {
        "id": "o8yt0hNhcpQR",
        "outputId": "7a65ef17-4394-43eb-d69b-19ff36a4d519"
      },
      "outputs": [
        {
          "data": {
            "text/plain": [
              "{'fsdfsfs', 'sudh'}"
            ]
          },
          "execution_count": 130,
          "metadata": {},
          "output_type": "execute_result"
        }
      ],
      "source": [
        "s"
      ]
    },
    {
      "cell_type": "code",
      "execution_count": null,
      "metadata": {
        "id": "_VQCpbCkcpQR",
        "outputId": "f001efc1-cb38-417f-bbc2-a0294970318e"
      },
      "outputs": [
        {
          "data": {
            "text/plain": [
              "False"
            ]
          },
          "execution_count": 132,
          "metadata": {},
          "output_type": "execute_result"
        }
      ],
      "source": [
        "45 in s"
      ]
    },
    {
      "cell_type": "code",
      "execution_count": null,
      "metadata": {
        "id": "BdNneTTCcpQR"
      },
      "outputs": [],
      "source": [
        "s.clear()"
      ]
    },
    {
      "cell_type": "code",
      "execution_count": null,
      "metadata": {
        "id": "7OyYJajzcpQS",
        "outputId": "719c178f-6e8c-4082-b1ba-f11a6e8c74dd"
      },
      "outputs": [
        {
          "data": {
            "text/plain": [
              "set()"
            ]
          },
          "execution_count": 134,
          "metadata": {},
          "output_type": "execute_result"
        }
      ],
      "source": [
        "s"
      ]
    },
    {
      "cell_type": "code",
      "execution_count": null,
      "metadata": {
        "id": "4y86mwt2cpQS",
        "outputId": "a1827db8-27e1-49a2-a51f-8e1ffd607d02"
      },
      "outputs": [
        {
          "data": {
            "text/plain": [
              "set()"
            ]
          },
          "execution_count": 135,
          "metadata": {},
          "output_type": "execute_result"
        }
      ],
      "source": [
        "s "
      ]
    },
    {
      "cell_type": "code",
      "execution_count": null,
      "metadata": {
        "id": "ZAUCPlIncpQS",
        "outputId": "f02845d5-a3f3-486c-8d60-1c1df9135b39"
      },
      "outputs": [
        {
          "data": {
            "text/plain": [
              "set()"
            ]
          },
          "execution_count": 137,
          "metadata": {},
          "output_type": "execute_result"
        }
      ],
      "source": [
        "s "
      ]
    },
    {
      "cell_type": "code",
      "execution_count": null,
      "metadata": {
        "id": "6pzYKJjycpQS"
      },
      "outputs": [],
      "source": [
        "s.add(\"sdfsd\")"
      ]
    },
    {
      "cell_type": "code",
      "execution_count": null,
      "metadata": {
        "id": "Y_SI1VRdcpQS"
      },
      "outputs": [],
      "source": [
        "s.add(234)"
      ]
    },
    {
      "cell_type": "code",
      "execution_count": null,
      "metadata": {
        "id": "7i864RqwcpQS"
      },
      "outputs": [],
      "source": [
        "s.add(345)"
      ]
    },
    {
      "cell_type": "code",
      "execution_count": null,
      "metadata": {
        "id": "KWY6tx9acpQS"
      },
      "outputs": [],
      "source": [
        "s.add(\"wer\")"
      ]
    },
    {
      "cell_type": "code",
      "execution_count": null,
      "metadata": {
        "id": "QmPGUmBZcpQS",
        "outputId": "c03a3bb0-ce7d-46f5-db77-b589b932adb8"
      },
      "outputs": [
        {
          "data": {
            "text/plain": [
              "{234, 345, 'sdfsd', 'wer'}"
            ]
          },
          "execution_count": 142,
          "metadata": {},
          "output_type": "execute_result"
        }
      ],
      "source": [
        "s"
      ]
    },
    {
      "cell_type": "code",
      "execution_count": null,
      "metadata": {
        "id": "Eev2YMkCcpQS"
      },
      "outputs": [],
      "source": [
        "s1 = set(l)"
      ]
    },
    {
      "cell_type": "code",
      "execution_count": null,
      "metadata": {
        "id": "upgAsue_cpQT"
      },
      "outputs": [],
      "source": [
        "l = [345,5464566,54645,6546,4654,654,6]"
      ]
    },
    {
      "cell_type": "code",
      "execution_count": null,
      "metadata": {
        "id": "ZbG1CymycpQT",
        "outputId": "d798cef3-b294-4f20-b8ba-8bf80482ebd6"
      },
      "outputs": [
        {
          "data": {
            "text/plain": [
              "{6, 345, 654, 4654, 6546, 54645, 5464566}"
            ]
          },
          "execution_count": 147,
          "metadata": {},
          "output_type": "execute_result"
        }
      ],
      "source": [
        "s1"
      ]
    },
    {
      "cell_type": "code",
      "execution_count": null,
      "metadata": {
        "id": "GcweyoudcpQT",
        "outputId": "96165b23-3d7f-4d3d-fe1a-e68f825bb401"
      },
      "outputs": [
        {
          "ename": "TypeError",
          "evalue": "unsupported operand type(s) for +: 'set' and 'set'",
          "output_type": "error",
          "traceback": [
            "\u001b[1;31m---------------------------------------------------------------------------\u001b[0m",
            "\u001b[1;31mTypeError\u001b[0m                                 Traceback (most recent call last)",
            "\u001b[1;32m<ipython-input-148-e53cb767b11d>\u001b[0m in \u001b[0;36m<module>\u001b[1;34m\u001b[0m\n\u001b[1;32m----> 1\u001b[1;33m \u001b[0ms\u001b[0m \u001b[1;33m+\u001b[0m \u001b[0ms1\u001b[0m\u001b[1;33m\u001b[0m\u001b[1;33m\u001b[0m\u001b[0m\n\u001b[0m",
            "\u001b[1;31mTypeError\u001b[0m: unsupported operand type(s) for +: 'set' and 'set'"
          ]
        }
      ],
      "source": [
        "s + s1"
      ]
    },
    {
      "cell_type": "code",
      "execution_count": null,
      "metadata": {
        "id": "AXK-AFiCcpQT",
        "outputId": "d8158a19-49a2-42db-df26-bd1513dcdfe9"
      },
      "outputs": [
        {
          "ename": "TypeError",
          "evalue": "unsupported operand type(s) for *: 'set' and 'int'",
          "output_type": "error",
          "traceback": [
            "\u001b[1;31m---------------------------------------------------------------------------\u001b[0m",
            "\u001b[1;31mTypeError\u001b[0m                                 Traceback (most recent call last)",
            "\u001b[1;32m<ipython-input-149-bfe08a66835a>\u001b[0m in \u001b[0;36m<module>\u001b[1;34m\u001b[0m\n\u001b[1;32m----> 1\u001b[1;33m \u001b[0ms\u001b[0m \u001b[1;33m*\u001b[0m \u001b[1;36m4\u001b[0m\u001b[1;33m\u001b[0m\u001b[1;33m\u001b[0m\u001b[0m\n\u001b[0m",
            "\u001b[1;31mTypeError\u001b[0m: unsupported operand type(s) for *: 'set' and 'int'"
          ]
        }
      ],
      "source": [
        "s * 4"
      ]
    },
    {
      "cell_type": "code",
      "execution_count": null,
      "metadata": {
        "id": "-RUxX4w2cpQT",
        "outputId": "42343274-888e-41cb-8630-2a53d148cf1d"
      },
      "outputs": [
        {
          "data": {
            "text/plain": [
              "{234, 345, 'sdfsd', 'wer'}"
            ]
          },
          "execution_count": 150,
          "metadata": {},
          "output_type": "execute_result"
        }
      ],
      "source": [
        "s "
      ]
    },
    {
      "cell_type": "code",
      "execution_count": null,
      "metadata": {
        "id": "apcIjxqYcpQT"
      },
      "outputs": [],
      "source": [
        "l4 = list(s)"
      ]
    },
    {
      "cell_type": "code",
      "execution_count": null,
      "metadata": {
        "id": "n8nX_-BPcpQT"
      },
      "outputs": [],
      "source": [
        "l4.append(345)"
      ]
    },
    {
      "cell_type": "markdown",
      "metadata": {
        "id": "oULytl8GcpQT"
      },
      "source": [
        "#### "
      ]
    },
    {
      "cell_type": "code",
      "execution_count": null,
      "metadata": {
        "id": "-Qn5XhqkcpQU",
        "outputId": "07796449-9049-4910-de6c-48ce265cba55"
      },
      "outputs": [
        {
          "data": {
            "text/plain": [
              "['sdfsd', 345, 234, 'wer', 454, 345]"
            ]
          },
          "execution_count": 156,
          "metadata": {},
          "output_type": "execute_result"
        }
      ],
      "source": [
        "l4"
      ]
    },
    {
      "cell_type": "code",
      "execution_count": null,
      "metadata": {
        "id": "G3zo_c18cpQV"
      },
      "outputs": [],
      "source": [
        " t4 = tuple(s)"
      ]
    },
    {
      "cell_type": "code",
      "execution_count": null,
      "metadata": {
        "id": "E5gop-uFcpQV",
        "outputId": "a71a5961-9786-4b9a-a3b3-29f1a45ddbb5"
      },
      "outputs": [
        {
          "data": {
            "text/plain": [
              "{234, 345, 'sdfsd', 'wer'}"
            ]
          },
          "execution_count": 159,
          "metadata": {},
          "output_type": "execute_result"
        }
      ],
      "source": [
        "set(t4)"
      ]
    },
    {
      "cell_type": "code",
      "execution_count": null,
      "metadata": {
        "id": "-pog3pCLcpQY",
        "outputId": "7b656770-a451-42f8-d5e5-8ecb490372fa"
      },
      "outputs": [
        {
          "data": {
            "text/plain": [
              "{234, 345, 'sdfsd', 'wer'}"
            ]
          },
          "execution_count": 160,
          "metadata": {},
          "output_type": "execute_result"
        }
      ],
      "source": [
        "s "
      ]
    },
    {
      "cell_type": "code",
      "execution_count": null,
      "metadata": {
        "id": "tAja8UD6cpQY",
        "outputId": "bf14e283-b745-4234-bb58-4d991bb311c0"
      },
      "outputs": [
        {
          "ename": "TypeError",
          "evalue": "'set' object does not support item assignment",
          "output_type": "error",
          "traceback": [
            "\u001b[1;31m---------------------------------------------------------------------------\u001b[0m",
            "\u001b[1;31mTypeError\u001b[0m                                 Traceback (most recent call last)",
            "\u001b[1;32m<ipython-input-162-0b3feb6a5a72>\u001b[0m in \u001b[0;36m<module>\u001b[1;34m\u001b[0m\n\u001b[1;32m----> 1\u001b[1;33m \u001b[0ms\u001b[0m\u001b[1;33m[\u001b[0m\u001b[1;36m0\u001b[0m\u001b[1;33m]\u001b[0m \u001b[1;33m=\u001b[0m \u001b[1;34m\"fsdfs\"\u001b[0m\u001b[1;33m\u001b[0m\u001b[1;33m\u001b[0m\u001b[0m\n\u001b[0m",
            "\u001b[1;31mTypeError\u001b[0m: 'set' object does not support item assignment"
          ]
        }
      ],
      "source": [
        "s[0] = \"fsdfs\""
      ]
    },
    {
      "cell_type": "code",
      "execution_count": null,
      "metadata": {
        "id": "6R7yjsw1cpQY"
      },
      "outputs": [],
      "source": [
        "x = {}"
      ]
    },
    {
      "cell_type": "code",
      "execution_count": null,
      "metadata": {
        "id": "6lIFx2AscpQZ",
        "outputId": "28512ae9-6fdf-4869-8f23-3140d98f8266"
      },
      "outputs": [
        {
          "data": {
            "text/plain": [
              "dict"
            ]
          },
          "execution_count": 164,
          "metadata": {},
          "output_type": "execute_result"
        }
      ],
      "source": [
        "type(x)"
      ]
    },
    {
      "cell_type": "code",
      "execution_count": null,
      "metadata": {
        "id": "S0A2oqLdcpQZ"
      },
      "outputs": [],
      "source": [
        "x1 = {34,56}"
      ]
    },
    {
      "cell_type": "code",
      "execution_count": null,
      "metadata": {
        "id": "AcVOYQVfcpQZ",
        "outputId": "8f4bbfa4-5bb8-4200-b5c1-315421089472"
      },
      "outputs": [
        {
          "data": {
            "text/plain": [
              "set"
            ]
          },
          "execution_count": 166,
          "metadata": {},
          "output_type": "execute_result"
        }
      ],
      "source": [
        "type(x1)"
      ]
    },
    {
      "cell_type": "code",
      "execution_count": null,
      "metadata": {
        "id": "M2VVbdr6cpQZ"
      },
      "outputs": [],
      "source": [
        "x = {\"name \" :\"sudh\"  , \"age\": 3455}"
      ]
    },
    {
      "cell_type": "code",
      "execution_count": null,
      "metadata": {
        "id": "fCa8W98ucpQZ",
        "outputId": "9027e7bd-1b91-4b1b-f0f6-24c967e076b9"
      },
      "outputs": [
        {
          "data": {
            "text/plain": [
              "dict"
            ]
          },
          "execution_count": 168,
          "metadata": {},
          "output_type": "execute_result"
        }
      ],
      "source": [
        "type(x)"
      ]
    },
    {
      "cell_type": "code",
      "execution_count": null,
      "metadata": {
        "id": "4voP2qp9cpQZ"
      },
      "outputs": [],
      "source": [
        "x1 = {\"name \" :\"sudh\"  , \"age\": 3455 ,True : {45,34545,454,54}, \"key\" : False , 34554:(45,45,45,45) , \"_sfsdf\" : [34,45,454,54,545]}"
      ]
    },
    {
      "cell_type": "code",
      "execution_count": null,
      "metadata": {
        "id": "xXP2hGEFcpQZ",
        "outputId": "0d6ee12c-9138-46db-81a7-94bd5c96dc65"
      },
      "outputs": [
        {
          "data": {
            "text/plain": [
              "{'name ': 'sudh',\n",
              " 'age': 3455,\n",
              " True: {45, 54, 454, 34545},\n",
              " 'key': False,\n",
              " 34554: (45, 45, 45, 45),\n",
              " '_sfsdf': [34, 45, 454, 54, 545]}"
            ]
          },
          "execution_count": 184,
          "metadata": {},
          "output_type": "execute_result"
        }
      ],
      "source": [
        "x1"
      ]
    },
    {
      "cell_type": "code",
      "execution_count": null,
      "metadata": {
        "id": "D3qqw1U-cpQa"
      },
      "outputs": [],
      "source": [
        "x2 = {\"name \" :{\"k1\":\"wer\",'k4' :[345,534535,534,]} , \"age\": 3455 ,True : {45,34545,454,54}, \"key\" : False , 34554:(45,45,45,45) , \"_sfsdf\" : [34,45,454,54,545]}"
      ]
    },
    {
      "cell_type": "code",
      "execution_count": null,
      "metadata": {
        "id": "6DQJGdqWcpQa",
        "outputId": "b8717e0a-906d-4922-d489-d1fe8ee5ba00"
      },
      "outputs": [
        {
          "data": {
            "text/plain": [
              "{'name ': {'k1': 'wer', 'k4': [345, 534535, 534]},\n",
              " 'age': 3455,\n",
              " True: {45, 54, 454, 34545},\n",
              " 'key': False,\n",
              " 34554: (45, 45, 45, 45),\n",
              " '_sfsdf': [34, 45, 454, 54, 545]}"
            ]
          },
          "execution_count": 186,
          "metadata": {},
          "output_type": "execute_result"
        }
      ],
      "source": [
        "x2"
      ]
    },
    {
      "cell_type": "code",
      "execution_count": null,
      "metadata": {
        "id": "dNrJoa88cpQa"
      },
      "outputs": [],
      "source": [
        "x3 = {5:\"wer\",'k4' :[345,534535,534,]} "
      ]
    },
    {
      "cell_type": "code",
      "execution_count": null,
      "metadata": {
        "id": "QTQMR-l0cpQa",
        "outputId": "c2e80a42-04c2-4258-8909-c6e4408c7718"
      },
      "outputs": [
        {
          "data": {
            "text/plain": [
              "4"
            ]
          },
          "execution_count": 194,
          "metadata": {},
          "output_type": "execute_result"
        }
      ],
      "source": [
        "l = [34,45,4,54]\n",
        "l[2]"
      ]
    },
    {
      "cell_type": "code",
      "execution_count": null,
      "metadata": {
        "id": "sy-KKbgPcpQa",
        "outputId": "cbe1c419-2605-49f6-c29c-c339fa798aa1"
      },
      "outputs": [
        {
          "data": {
            "text/plain": [
              "False"
            ]
          },
          "execution_count": 195,
          "metadata": {},
          "output_type": "execute_result"
        }
      ],
      "source": [
        "x2[\"key\"]"
      ]
    },
    {
      "cell_type": "code",
      "execution_count": null,
      "metadata": {
        "id": "A0lfJFSBcpQa",
        "outputId": "a0458a71-a863-45fc-b381-d666df1fcf91"
      },
      "outputs": [
        {
          "data": {
            "text/plain": [
              "(45, 45, 45, 45)"
            ]
          },
          "execution_count": 196,
          "metadata": {},
          "output_type": "execute_result"
        }
      ],
      "source": [
        "x2[34554]"
      ]
    },
    {
      "cell_type": "code",
      "execution_count": null,
      "metadata": {
        "id": "a-K-m45tcpQb",
        "outputId": "00593050-0ac6-42bd-9c88-45ce905c7979"
      },
      "outputs": [
        {
          "data": {
            "text/plain": [
              "54"
            ]
          },
          "execution_count": 200,
          "metadata": {},
          "output_type": "execute_result"
        }
      ],
      "source": [
        "x2[\"_sfsdf\"][3]"
      ]
    },
    {
      "cell_type": "code",
      "execution_count": null,
      "metadata": {
        "id": "glpaCM_wcpQb",
        "outputId": "7d228240-493a-47de-c225-43e07fa94688"
      },
      "outputs": [
        {
          "data": {
            "text/plain": [
              "534"
            ]
          },
          "execution_count": 205,
          "metadata": {},
          "output_type": "execute_result"
        }
      ],
      "source": [
        "x2[\"name \"]['k4'][2]"
      ]
    },
    {
      "cell_type": "code",
      "execution_count": null,
      "metadata": {
        "id": "Lbw9GlxDcpQb"
      },
      "outputs": [],
      "source": [
        "x3 = {5:\"wer\",'k4' :[345,534535,534,]} "
      ]
    },
    {
      "cell_type": "code",
      "execution_count": null,
      "metadata": {
        "id": "Z_rqDeT9cpQb"
      },
      "outputs": [],
      "source": [
        "x4 = {\"k4\" :\"Fsdfs\"}"
      ]
    },
    {
      "cell_type": "code",
      "execution_count": null,
      "metadata": {
        "id": "d7OHD8JacpQb",
        "outputId": "fc57593c-c116-49c9-8c00-348b788b0860"
      },
      "outputs": [
        {
          "ename": "TypeError",
          "evalue": "unsupported operand type(s) for +: 'dict' and 'dict'",
          "output_type": "error",
          "traceback": [
            "\u001b[1;31m---------------------------------------------------------------------------\u001b[0m",
            "\u001b[1;31mTypeError\u001b[0m                                 Traceback (most recent call last)",
            "\u001b[1;32m<ipython-input-208-6b27f76da613>\u001b[0m in \u001b[0;36m<module>\u001b[1;34m\u001b[0m\n\u001b[1;32m----> 1\u001b[1;33m \u001b[0mx3\u001b[0m\u001b[1;33m+\u001b[0m\u001b[0mx4\u001b[0m\u001b[1;33m\u001b[0m\u001b[1;33m\u001b[0m\u001b[0m\n\u001b[0m",
            "\u001b[1;31mTypeError\u001b[0m: unsupported operand type(s) for +: 'dict' and 'dict'"
          ]
        }
      ],
      "source": [
        "x3+x4"
      ]
    },
    {
      "cell_type": "code",
      "execution_count": null,
      "metadata": {
        "id": "hpCm9TX2cpQb",
        "outputId": "7506ffb8-5402-4ac5-870e-fc69d54a54b5"
      },
      "outputs": [
        {
          "ename": "TypeError",
          "evalue": "unsupported operand type(s) for *: 'dict' and 'int'",
          "output_type": "error",
          "traceback": [
            "\u001b[1;31m---------------------------------------------------------------------------\u001b[0m",
            "\u001b[1;31mTypeError\u001b[0m                                 Traceback (most recent call last)",
            "\u001b[1;32m<ipython-input-211-25847429fcd3>\u001b[0m in \u001b[0;36m<module>\u001b[1;34m\u001b[0m\n\u001b[1;32m----> 1\u001b[1;33m \u001b[0mx3\u001b[0m \u001b[1;33m*\u001b[0m \u001b[1;36m3\u001b[0m\u001b[1;33m\u001b[0m\u001b[1;33m\u001b[0m\u001b[0m\n\u001b[0m",
            "\u001b[1;31mTypeError\u001b[0m: unsupported operand type(s) for *: 'dict' and 'int'"
          ]
        }
      ],
      "source": [
        "x3 * 3"
      ]
    },
    {
      "cell_type": "code",
      "execution_count": null,
      "metadata": {
        "id": "L1xP8vcCcpQb",
        "outputId": "e633d28d-d513-475b-9605-b4df2e817dfa"
      },
      "outputs": [
        {
          "data": {
            "text/plain": [
              "{5: 'wer', 'k4': [345, 534535, 534]}"
            ]
          },
          "execution_count": 212,
          "metadata": {},
          "output_type": "execute_result"
        }
      ],
      "source": [
        "x3 "
      ]
    },
    {
      "cell_type": "code",
      "execution_count": null,
      "metadata": {
        "id": "uLwkaRe0cpQc"
      },
      "outputs": [],
      "source": [
        "x3['k4'] = 456"
      ]
    },
    {
      "cell_type": "code",
      "execution_count": null,
      "metadata": {
        "id": "1BFWtVE1cpQc",
        "outputId": "5f96de3a-923e-4c93-a171-f982a02d1524"
      },
      "outputs": [
        {
          "data": {
            "text/plain": [
              "{5: 'wer', 'k4': 456}"
            ]
          },
          "execution_count": 217,
          "metadata": {},
          "output_type": "execute_result"
        }
      ],
      "source": [
        "x3"
      ]
    },
    {
      "cell_type": "code",
      "execution_count": null,
      "metadata": {
        "id": "6ooAIPG8cpQc"
      },
      "outputs": [],
      "source": [
        "x3['k4'] -= 10"
      ]
    },
    {
      "cell_type": "code",
      "execution_count": null,
      "metadata": {
        "id": "JLCdaE2jcpQc"
      },
      "outputs": [],
      "source": [
        "x3['k4'] = x3['k4'] -10"
      ]
    },
    {
      "cell_type": "code",
      "execution_count": null,
      "metadata": {
        "id": "Xt48wU9tcpQc",
        "outputId": "04a1ea48-885b-4115-e7a7-030012d235e1"
      },
      "outputs": [
        {
          "data": {
            "text/plain": [
              "{5: 'wer', 'k4': 446}"
            ]
          },
          "execution_count": 219,
          "metadata": {},
          "output_type": "execute_result"
        }
      ],
      "source": [
        "x3"
      ]
    },
    {
      "cell_type": "code",
      "execution_count": null,
      "metadata": {
        "id": "Z4EtgApkcpQc",
        "outputId": "68dd3047-6114-42a4-8597-cbd185b9b795"
      },
      "outputs": [
        {
          "data": {
            "text/plain": [
              "True"
            ]
          },
          "execution_count": 222,
          "metadata": {},
          "output_type": "execute_result"
        }
      ],
      "source": [
        "'k4' in x3.keys()"
      ]
    },
    {
      "cell_type": "code",
      "execution_count": null,
      "metadata": {
        "id": "pPgIifyYcpQd",
        "outputId": "62b502ad-f1a7-4371-9b78-06912f666f6b"
      },
      "outputs": [
        {
          "data": {
            "text/plain": [
              "dict_keys([5, 'k4'])"
            ]
          },
          "execution_count": 223,
          "metadata": {},
          "output_type": "execute_result"
        }
      ],
      "source": [
        "x3.keys()"
      ]
    },
    {
      "cell_type": "code",
      "execution_count": null,
      "metadata": {
        "id": "lNbqTrxEcpQd",
        "outputId": "be5b07b6-1bf6-4fd5-d454-b32be20371f0"
      },
      "outputs": [
        {
          "name": "stdout",
          "output_type": "stream",
          "text": [
            "wer\n",
            "446\n"
          ]
        }
      ],
      "source": [
        "for i in x3.keys() :\n",
        "    print(x3[i])"
      ]
    },
    {
      "cell_type": "code",
      "execution_count": null,
      "metadata": {
        "id": "GSfrdpqVcpQd",
        "outputId": "4a610c0d-5710-4c18-9bf9-c8428e31869e"
      },
      "outputs": [
        {
          "data": {
            "text/plain": [
              "{5: 'wer', 'k4': 446}"
            ]
          },
          "execution_count": 225,
          "metadata": {},
          "output_type": "execute_result"
        }
      ],
      "source": [
        "x3"
      ]
    },
    {
      "cell_type": "code",
      "execution_count": null,
      "metadata": {
        "id": "0x4YWyT3cpQd",
        "outputId": "62cc9455-3a5a-48f7-b8bb-4415524721ae"
      },
      "outputs": [
        {
          "data": {
            "text/plain": [
              "{'name ': {'k1': 'wer', 'k4': [345, 534535, 534]},\n",
              " 'age': 3455,\n",
              " True: {45, 54, 454, 34545},\n",
              " 'key': False,\n",
              " 34554: (45, 45, 45, 45),\n",
              " '_sfsdf': [34, 45, 454, 54, 545]}"
            ]
          },
          "execution_count": 227,
          "metadata": {},
          "output_type": "execute_result"
        }
      ],
      "source": [
        "x2 "
      ]
    },
    {
      "cell_type": "code",
      "execution_count": null,
      "metadata": {
        "id": "VbZa_alVcpQd",
        "outputId": "2f117966-ed77-4a74-f534-c7b8d2cc3fd4"
      },
      "outputs": [
        {
          "data": {
            "text/plain": [
              "dict_keys(['name ', 'age', True, 'key', 34554, '_sfsdf'])"
            ]
          },
          "execution_count": 228,
          "metadata": {},
          "output_type": "execute_result"
        }
      ],
      "source": [
        "x2.keys()"
      ]
    },
    {
      "cell_type": "code",
      "execution_count": null,
      "metadata": {
        "id": "JXXqYCYHcpQd",
        "outputId": "e923131b-165c-4044-be1b-9f38f66f5ebc"
      },
      "outputs": [
        {
          "name": "stdout",
          "output_type": "stream",
          "text": [
            "<class 'dict'>\n",
            "<class 'int'>\n",
            "<class 'set'>\n",
            "<class 'bool'>\n",
            "<class 'tuple'>\n",
            "<class 'list'>\n"
          ]
        }
      ],
      "source": [
        "for i in x2.keys():\n",
        "    print(type(x2[i]))"
      ]
    },
    {
      "cell_type": "code",
      "execution_count": null,
      "metadata": {
        "id": "E4gV_9pPcpQd",
        "outputId": "9ad01ccb-6d8b-4d1e-cd30-50eec427873d"
      },
      "outputs": [
        {
          "data": {
            "text/plain": [
              "dict_items([('name ', {'k1': 'wer', 'k4': [345, 534535, 534]}), ('age', 3455), (True, {54, 34545, 45, 454}), ('key', False), (34554, (45, 45, 45, 45)), ('_sfsdf', [34, 45, 454, 54, 545])])"
            ]
          },
          "execution_count": 232,
          "metadata": {},
          "output_type": "execute_result"
        }
      ],
      "source": [
        "x2.items()"
      ]
    },
    {
      "cell_type": "code",
      "execution_count": null,
      "metadata": {
        "scrolled": true,
        "id": "Vt95eAaKcpQe",
        "outputId": "c346b99d-a503-4110-81c4-24bbabfc3a18"
      },
      "outputs": [
        {
          "name": "stdout",
          "output_type": "stream",
          "text": [
            "{'k1': 'wer', 'k4': [345, 534535, 534]}\n",
            "3455\n",
            "{54, 34545, 45, 454}\n",
            "False\n",
            "(45, 45, 45, 45)\n",
            "[34, 45, 454, 54, 545]\n"
          ]
        }
      ],
      "source": [
        "for i in x2.items():\n",
        "    print(i[1])"
      ]
    },
    {
      "cell_type": "code",
      "execution_count": null,
      "metadata": {
        "id": "EeVen8skcpQe"
      },
      "outputs": [],
      "source": [
        "x5 = {(34,56,56) : \"Fsdfsfsd\"}"
      ]
    },
    {
      "cell_type": "code",
      "execution_count": null,
      "metadata": {
        "id": "9IXjhL-ncpQe",
        "outputId": "996e17c5-c304-454a-f0f9-e36f336642da"
      },
      "outputs": [
        {
          "data": {
            "text/plain": [
              "'Fsdfsfsd'"
            ]
          },
          "execution_count": 239,
          "metadata": {},
          "output_type": "execute_result"
        }
      ],
      "source": [
        "x5[(34,56,56) ]"
      ]
    },
    {
      "cell_type": "code",
      "execution_count": null,
      "metadata": {
        "id": "_ws2R5wncpQe",
        "outputId": "ede3efb1-f544-4221-93b7-df8275c2ca3e"
      },
      "outputs": [
        {
          "data": {
            "text/plain": [
              "{'name ': {'k1': 'wer', 'k4': [345, 534535, 534]},\n",
              " 'age': 3455,\n",
              " True: {45, 54, 454, 34545},\n",
              " 'key': False,\n",
              " 34554: (45, 45, 45, 45),\n",
              " '_sfsdf': [34, 45, 454, 54, 545]}"
            ]
          },
          "execution_count": 240,
          "metadata": {},
          "output_type": "execute_result"
        }
      ],
      "source": [
        "x2"
      ]
    },
    {
      "cell_type": "code",
      "execution_count": null,
      "metadata": {
        "id": "3u51nAE-cpQe",
        "outputId": "ac9fed97-beaf-40b3-fe19-d73634184a81"
      },
      "outputs": [
        {
          "data": {
            "text/plain": [
              "6"
            ]
          },
          "execution_count": 241,
          "metadata": {},
          "output_type": "execute_result"
        }
      ],
      "source": [
        "len(x2)"
      ]
    },
    {
      "cell_type": "code",
      "execution_count": null,
      "metadata": {
        "id": "sk7VMkwPcpQe",
        "outputId": "88d20f53-a999-474b-a133-ed93f13abc69"
      },
      "outputs": [
        {
          "data": {
            "text/plain": [
              "{45, 78, 89}"
            ]
          },
          "execution_count": 242,
          "metadata": {},
          "output_type": "execute_result"
        }
      ],
      "source": [
        "e = {56: {45, 78, 89}}\n",
        "e[56]\n"
      ]
    },
    {
      "cell_type": "code",
      "execution_count": null,
      "metadata": {
        "id": "PU_pH0nwcpQe",
        "outputId": "ad039384-bb96-4491-8949-65c0ef5d5e0b"
      },
      "outputs": [
        {
          "data": {
            "text/plain": [
              "89"
            ]
          },
          "execution_count": 243,
          "metadata": {},
          "output_type": "execute_result"
        }
      ],
      "source": [
        "list(e[56])[0]\n"
      ]
    },
    {
      "cell_type": "code",
      "execution_count": null,
      "metadata": {
        "id": "ylOnOCbrcpQf"
      },
      "outputs": [],
      "source": [
        "data=input(\"Enter the paragraph-->> \")\n",
        "\n",
        "# Q1\n",
        "data_list= data.split(\" \")\n",
        "\n",
        "# Q2\n",
        "no_duplicate=set(data_list)\n",
        "\n",
        "# Q3\n",
        "my_dict={}\n",
        "for i in no_duplicate:\n",
        "    my_dict[i]=\"akshat\"\n",
        "# my_dict\n",
        "\n",
        "# Q4\n",
        "tup_list=[]\n",
        "for i in my_dict.keys():\n",
        "    tup_list.append(my_dict[i])\n",
        "\n",
        "print(\"Tuple List-->> \",tuple(tup_list))\n",
        "\n",
        "\n",
        "    \n",
        "# Q5\n",
        "list_keys=[]\n",
        "for i in my_dict.keys():\n",
        "    list_keys.append(i)\n",
        "\n",
        "print(\"List Keys-->> \",list_keys)\n"
      ]
    },
    {
      "cell_type": "code",
      "execution_count": null,
      "metadata": {
        "id": "Jn_Ys59ocpQf",
        "outputId": "48e9b9cc-8176-456b-f3d9-a1054535b6ce"
      },
      "outputs": [
        {
          "name": "stdout",
          "output_type": "stream",
          "text": [
            "Enter the para:dfsafs fds adfas fsdfas dfasfd asdfdsfsa sfa\n"
          ]
        }
      ],
      "source": [
        "paragph = input(\"Enter the para:\")\n",
        "lst1=paragph.split(\" \")\n",
        "s1=set(lst1)\n",
        "dic1=dict.fromkeys(s1,'db')\n",
        "t1=tuple(dic1.keys())\n",
        "l2=list(dic1.values())\n"
      ]
    },
    {
      "cell_type": "code",
      "execution_count": null,
      "metadata": {
        "id": "8Y8_hpKycpQf",
        "outputId": "51846d2c-ff0b-4309-e203-65f769d113e7"
      },
      "outputs": [
        {
          "data": {
            "text/plain": [
              "{'adfas', 'asdfdsfsa', 'dfasfd', 'dfsafs', 'fds', 'fsdfas', 'sfa'}"
            ]
          },
          "execution_count": 245,
          "metadata": {},
          "output_type": "execute_result"
        }
      ],
      "source": [
        "s1"
      ]
    },
    {
      "cell_type": "code",
      "execution_count": null,
      "metadata": {
        "id": "Zx-u6xVRcpQf",
        "outputId": "ef8deb46-d41b-4eaa-c525-5b0b51ef491e"
      },
      "outputs": [
        {
          "data": {
            "text/plain": [
              "{'sfa': 'db',\n",
              " 'dfsafs': 'db',\n",
              " 'adfas': 'db',\n",
              " 'dfasfd': 'db',\n",
              " 'fsdfas': 'db',\n",
              " 'asdfdsfsa': 'db',\n",
              " 'fds': 'db'}"
            ]
          },
          "execution_count": 246,
          "metadata": {},
          "output_type": "execute_result"
        }
      ],
      "source": [
        "dic1"
      ]
    },
    {
      "cell_type": "code",
      "execution_count": null,
      "metadata": {
        "id": "oXvXQ01RcpQf",
        "outputId": "4498d333-a378-4b91-a0a4-2a83fd89626c"
      },
      "outputs": [
        {
          "data": {
            "text/plain": [
              "('sfa', 'dfsafs', 'adfas', 'dfasfd', 'fsdfas', 'asdfdsfsa', 'fds')"
            ]
          },
          "execution_count": 247,
          "metadata": {},
          "output_type": "execute_result"
        }
      ],
      "source": [
        "t1"
      ]
    },
    {
      "cell_type": "code",
      "execution_count": null,
      "metadata": {
        "id": "UzcShNrvcpQf",
        "outputId": "0569deba-2ad8-49eb-e7d9-3ef8183fbbe2"
      },
      "outputs": [
        {
          "data": {
            "text/plain": [
              "['db', 'db', 'db', 'db', 'db', 'db', 'db']"
            ]
          },
          "execution_count": 248,
          "metadata": {},
          "output_type": "execute_result"
        }
      ],
      "source": [
        "l2"
      ]
    },
    {
      "cell_type": "code",
      "execution_count": null,
      "metadata": {
        "id": "7OooCNxXcpQg"
      },
      "outputs": [],
      "source": [
        "d = {\"company\":\"ineuron\" ,\"course\": \"full stack data science\" , \"year\" : 2021}"
      ]
    },
    {
      "cell_type": "code",
      "execution_count": null,
      "metadata": {
        "id": "24BiblG7cpQg",
        "outputId": "e631557b-ccbd-4223-b88a-23536511b676"
      },
      "outputs": [
        {
          "name": "stdout",
          "output_type": "stream",
          "text": [
            " print a key  :  company  ;  value wise :   ineuron\n",
            " print a key  :  course  ;  value wise :   full stack data science\n",
            " print a key  :  year  ;  value wise :   2021\n"
          ]
        }
      ],
      "source": [
        "for i in d :\n",
        "    print(\" print a key  : \" ,i  , \" ; \", \"value wise :  \" , d[i])"
      ]
    },
    {
      "cell_type": "code",
      "execution_count": null,
      "metadata": {
        "id": "o8wnHyFrcpQg",
        "outputId": "fd6b01bc-e45f-482c-e36d-d47fc25bd61d"
      },
      "outputs": [
        {
          "data": {
            "text/plain": [
              "True"
            ]
          },
          "execution_count": 254,
          "metadata": {},
          "output_type": "execute_result"
        }
      ],
      "source": [
        "\"course\" in d "
      ]
    },
    {
      "cell_type": "code",
      "execution_count": null,
      "metadata": {
        "id": "yof0c7S1cpQg",
        "outputId": "33bc268b-2e1e-4cb8-a880-57e5042f68f8"
      },
      "outputs": [
        {
          "name": "stdout",
          "output_type": "stream",
          "text": [
            "year is fine \n"
          ]
        }
      ],
      "source": [
        "for i in d :\n",
        "    if i == 'year':\n",
        "        if d[i] > 2021:\n",
        "            print(\"year is fine \")\n",
        "        else :\n",
        "            d[i] = 2022"
      ]
    },
    {
      "cell_type": "code",
      "execution_count": null,
      "metadata": {
        "id": "4NDdL4lycpQg",
        "outputId": "61413dfd-fd48-4ec8-849d-2efcacdb92a1"
      },
      "outputs": [
        {
          "data": {
            "text/plain": [
              "{'company': 'ineuron', 'course': 'full stack data science', 'year': 2022}"
            ]
          },
          "execution_count": 259,
          "metadata": {},
          "output_type": "execute_result"
        }
      ],
      "source": [
        "d"
      ]
    },
    {
      "cell_type": "code",
      "execution_count": null,
      "metadata": {
        "id": "6lgX1ZvfcpQg"
      },
      "outputs": [],
      "source": [
        "my_dict = {}\n",
        "for i in range(10):\n",
        "    my_dict[i] = i *i"
      ]
    },
    {
      "cell_type": "code",
      "execution_count": null,
      "metadata": {
        "id": "Uc5z8NN5cpQh",
        "outputId": "5a8199cd-3a59-4ec8-f48d-b1d395b43283"
      },
      "outputs": [
        {
          "data": {
            "text/plain": [
              "{0: 0, 1: 1, 2: 4, 3: 9, 4: 16, 5: 25, 6: 36, 7: 49, 8: 64, 9: 81}"
            ]
          },
          "execution_count": 261,
          "metadata": {},
          "output_type": "execute_result"
        }
      ],
      "source": [
        "my_dict"
      ]
    },
    {
      "cell_type": "code",
      "execution_count": null,
      "metadata": {
        "id": "83EtJgWMcpQh",
        "outputId": "c28ae512-c1db-4cff-fc69-01ad23e3d105"
      },
      "outputs": [
        {
          "data": {
            "text/plain": [
              "{0: 0, 3: 9, 6: 36, 9: 81}"
            ]
          },
          "execution_count": 264,
          "metadata": {},
          "output_type": "execute_result"
        }
      ],
      "source": [
        "{i:i*i for i in range(0,10,3)}"
      ]
    },
    {
      "cell_type": "code",
      "execution_count": null,
      "metadata": {
        "id": "OQBbCt8HcpQh"
      },
      "outputs": [],
      "source": []
    }
  ],
  "metadata": {
    "kernelspec": {
      "display_name": "Python 3",
      "language": "python",
      "name": "python3"
    },
    "language_info": {
      "codemirror_mode": {
        "name": "ipython",
        "version": 3
      },
      "file_extension": ".py",
      "mimetype": "text/x-python",
      "name": "python",
      "nbconvert_exporter": "python",
      "pygments_lexer": "ipython3",
      "version": "3.8.3"
    },
    "colab": {
      "name": "TUPLE SET AND DICT.ipynb",
      "provenance": [],
      "include_colab_link": true
    }
  },
  "nbformat": 4,
  "nbformat_minor": 0
}