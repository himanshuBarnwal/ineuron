{
  "nbformat": 4,
  "nbformat_minor": 0,
  "metadata": {
    "colab": {
      "provenance": [],
      "authorship_tag": "ABX9TyPfXpTuFaMt3buGEB85Dwyq",
      "include_colab_link": true
    },
    "kernelspec": {
      "name": "python3",
      "display_name": "Python 3"
    },
    "language_info": {
      "name": "python"
    }
  },
  "cells": [
    {
      "cell_type": "markdown",
      "metadata": {
        "id": "view-in-github",
        "colab_type": "text"
      },
      "source": [
        "<a href=\"https://colab.research.google.com/github/himanshuBarnwal/ineuron/blob/main/Python%20Basics%20Assignment/Assignment_7.ipynb\" target=\"_parent\"><img src=\"https://colab.research.google.com/assets/colab-badge.svg\" alt=\"Open In Colab\"/></a>"
      ]
    },
    {
      "cell_type": "markdown",
      "source": [
        "# **Assignment 7 Solutions**\n",
        "\n",
        "---\n",
        "\n"
      ],
      "metadata": {
        "id": "qBDKyi_scqNF"
      }
    },
    {
      "cell_type": "markdown",
      "source": [
        "**1. What is the name of the feature responsible for generating Regex objects?**\n",
        "\n",
        "**Answer:**\n",
        "\n",
        "`re.compile()` is the name of the feature \n"
      ],
      "metadata": {
        "id": "CsXlnDQlc_Cz"
      }
    },
    {
      "cell_type": "markdown",
      "source": [
        "**2. Why do raw strings often appear in Regex objects?**\n",
        "\n",
        "**Answer:**\n",
        "\n",
        "Regular expression uses the backslash character ('\\\\') to indicate special forms. for example: r'\\d{3}' here this string represents special pattern but if we write this string in normal string form then '\\' will be work as a escape character. So, Raw strings are used so that backslashes do not have to be escaped. "
      ],
      "metadata": {
        "id": "qMEUm5PNfUPp"
      }
    },
    {
      "cell_type": "markdown",
      "source": [
        "**3. What is the return value of the search() method?**\n",
        "\n",
        "**Answer:**\n",
        "\n",
        "The return value of `re.search(pattern,string)` method is a match object if the pattern is observed in the string else it returns a None."
      ],
      "metadata": {
        "id": "hki46rKxhryN"
      }
    },
    {
      "cell_type": "code",
      "source": [
        "import re\n",
        "\n",
        "match1 = re.search('i',\"I love my India.\")\n",
        "print(match1)\n",
        "match2 = re.search('i',\"I love my India.\", flags=re.IGNORECASE)\n",
        "print(match2)\n",
        "match3 = re.search('z',\"I love my India.\", flags=re.IGNORECASE)\n",
        "print(match3)"
      ],
      "metadata": {
        "colab": {
          "base_uri": "https://localhost:8080/"
        },
        "id": "FtidYjz8ikyJ",
        "outputId": "53308c87-d2b2-47b1-bd3d-1ab905f75308"
      },
      "execution_count": 4,
      "outputs": [
        {
          "output_type": "stream",
          "name": "stdout",
          "text": [
            "<re.Match object; span=(13, 14), match='i'>\n",
            "<re.Match object; span=(0, 1), match='I'>\n",
            "None\n"
          ]
        }
      ]
    },
    {
      "cell_type": "markdown",
      "source": [
        "**4. From a Match item, how do you get the actual strings that match the pattern?**\n",
        "\n",
        "**Answer:**\n",
        "\n",
        "Fom a Matched item` group()` methods returns actual strings that match the pattern"
      ],
      "metadata": {
        "id": "_xq5PCLCjpqW"
      }
    },
    {
      "cell_type": "code",
      "source": [
        "import re\n",
        "match = re.search('indi','I love my India.', flags=re.IGNORECASE)\n",
        "print('Output:',match.group())"
      ],
      "metadata": {
        "colab": {
          "base_uri": "https://localhost:8080/"
        },
        "id": "oZ4HAQtCkR4p",
        "outputId": "e6560945-aa4b-46dc-aef1-eef1aabbf5cb"
      },
      "execution_count": 8,
      "outputs": [
        {
          "output_type": "stream",
          "name": "stdout",
          "text": [
            "Output: Indi\n"
          ]
        }
      ]
    },
    {
      "cell_type": "markdown",
      "source": [
        "**5. In the regex which created from the r'(\\d\\d\\d)-(\\d\\d\\d-\\d\\d\\d\\d)', what does group zero cover? Group 2? Group 1?**\n",
        "\n",
        "**Answer:**\n",
        "\n",
        "In the Regex which create from the` r'(\\d\\d\\d)-(\\d\\d\\d-\\d\\d\\d\\d)'` the `zero group` covers the entire pattern match where as the `first group` cover `(\\d\\d\\d)` and the` second group` cover `(\\d\\d\\d-\\d\\d\\d\\d)`."
      ],
      "metadata": {
        "id": "tdVssUwYk61E"
      }
    },
    {
      "cell_type": "code",
      "source": [
        "import re\n",
        "\n",
        "mobile_no_regex = re.compile(r'(\\d\\d\\d)-(\\d\\d\\d-\\d\\d\\d\\d)')\n",
        "\n",
        "mob_no = mobile_no_regex.search('My number is 415-555-4242.')\n",
        "#zero group\n",
        "print('Zero group: ',mob_no.group(0))\n",
        "#Group 1\n",
        "print('Group 1: ',mob_no.group(1))\n",
        "#Group 2\n",
        "print('Group 2: ',mob_no.group(2))\n",
        "#print all groups in a tuple format\n",
        "print('All groups in tuple:',mob_no.groups())  "
      ],
      "metadata": {
        "colab": {
          "base_uri": "https://localhost:8080/"
        },
        "id": "h30YbjkEmB7v",
        "outputId": "8689ffdc-7458-4e66-ae4a-89e490f7aa60"
      },
      "execution_count": 13,
      "outputs": [
        {
          "output_type": "stream",
          "name": "stdout",
          "text": [
            "Zero group:  415-555-4242\n",
            "Group 1:  415\n",
            "Group 2:  555-4242\n",
            "All groups in tuple: ('415', '555-4242')\n"
          ]
        }
      ]
    },
    {
      "cell_type": "markdown",
      "source": [
        "**6. In standard expression syntax, parentheses and intervals have distinct meanings. How can you tell a regex that you want it to fit real parentheses and periods?**\n",
        "\n",
        "**Answer:**\n",
        "\n",
        "The` \\.` `\\(` and `\\)` escape characters in the raw string passed to re.compile() will match actual parenthesis characters."
      ],
      "metadata": {
        "id": "AtcgmL2inzhj"
      }
    },
    {
      "cell_type": "code",
      "source": [
        "mobile_no_regex = re.compile(r'(\\(\\d\\d\\d\\))-(\\d\\d\\d-\\d\\d\\d\\d)')\n",
        "\n",
        "mob_no = mobile_no_regex.search('My number is (415)-555-4242.')\n",
        "print(mob_no.group())"
      ],
      "metadata": {
        "colab": {
          "base_uri": "https://localhost:8080/"
        },
        "id": "Un9MGV5PrVms",
        "outputId": "e3ca1e8e-8986-46e8-a383-9344fbae4d0f"
      },
      "execution_count": 14,
      "outputs": [
        {
          "output_type": "stream",
          "name": "stdout",
          "text": [
            "(415)-555-4242\n"
          ]
        }
      ]
    },
    {
      "cell_type": "markdown",
      "source": [
        "**7. The findall() method returns a string list or a list of string tuples. What causes it to return one of the two options?**\n",
        "\n",
        "**Answer:**\n",
        "\n",
        " The `findall()` method returns a string list when the regex pattern has no groups and if the regex pattern has groups, a list of tuple of strings is returned."
      ],
      "metadata": {
        "id": "gxDBictYr74W"
      }
    },
    {
      "cell_type": "code",
      "source": [
        "mobile_no_regex = re.compile(r'(\\d{3})-(\\d{3}-\\d{4})')\n",
        "mob_no = mobile_no_regex.findall('My number is 415-555-4242.')\n",
        "print(\"List of string tuples: \",mob_no) \n",
        "\n",
        "mobile_no_regex = re.compile(r'\\d{3}-\\d{3}-\\d{4}')\n",
        "mob_no = mobile_no_regex.findall('My number is 415-555-4242.')\n",
        "print(\"List of string: \",mob_no)"
      ],
      "metadata": {
        "colab": {
          "base_uri": "https://localhost:8080/"
        },
        "id": "8jszk9J5s25a",
        "outputId": "89c49474-9fb0-417f-d507-207a18a4623e"
      },
      "execution_count": 21,
      "outputs": [
        {
          "output_type": "stream",
          "name": "stdout",
          "text": [
            "List of string tuples:  [('415', '555-4242')]\n",
            "List of string:  ['415-555-4242']\n"
          ]
        }
      ]
    },
    {
      "cell_type": "markdown",
      "source": [
        "**8. In standard expressions, what does the | character mean?**\n",
        "\n",
        "**Answer:** \n",
        "\n",
        "In standard expressions,` | mean OR operator`"
      ],
      "metadata": {
        "id": "U_aNkgK4u-Gl"
      }
    },
    {
      "cell_type": "markdown",
      "source": [
        "**9. In regular expressions, what does the ? character stand for?**\n",
        "\n",
        "**Answer:**\n",
        "\n",
        "In regular expressions, ? character represents zero or one match of the preceeding group."
      ],
      "metadata": {
        "id": "T_o_FOAwvTGf"
      }
    },
    {
      "cell_type": "code",
      "source": [
        "match1 = re.search('Bat(wo)?man',\"Batman returns\")\n",
        "print(match1)\n",
        "match2 = re.search('Bat(wo)?man',\"Batwoman returns\")\n",
        "print(match2)\n",
        "match2 = re.search('(Bat)?(wo)?man',\"Superman returns\")\n",
        "print(match2)"
      ],
      "metadata": {
        "colab": {
          "base_uri": "https://localhost:8080/"
        },
        "id": "rei-ayIswF2R",
        "outputId": "3d0f08b6-d148-4a3a-e7ae-2b9505041f7b"
      },
      "execution_count": 25,
      "outputs": [
        {
          "output_type": "stream",
          "name": "stdout",
          "text": [
            "<re.Match object; span=(0, 6), match='Batman'>\n",
            "<re.Match object; span=(0, 8), match='Batwoman'>\n",
            "<re.Match object; span=(5, 8), match='man'>\n"
          ]
        }
      ]
    },
    {
      "cell_type": "markdown",
      "source": [
        " **10. In regular expressions, what is the difference between the + and * characters?**\n",
        "\n",
        "**Answer:**\n",
        "\n",
        "In Regular Expressions, * Represents zero ore more occurances of the preceeding group, whereas + represents one or more occurances of the preceeding group."
      ],
      "metadata": {
        "id": "3VZgGsofxF7e"
      }
    },
    {
      "cell_type": "code",
      "source": [
        "match1 = re.search('Bat(wo)*man',\"Batman return\")\n",
        "print(match1)\n",
        "match2 = re.search('Bat(wo)+man',\"Batman return\")\n",
        "print(match2)\n",
        "match3 = re.search('Bat(wo)+man',\"Batwowoman return\")\n",
        "print(match3)"
      ],
      "metadata": {
        "colab": {
          "base_uri": "https://localhost:8080/"
        },
        "id": "TRMTEK-lwmZC",
        "outputId": "e348f099-dcf4-4ef8-9bed-b2c801550898"
      },
      "execution_count": 29,
      "outputs": [
        {
          "output_type": "stream",
          "name": "stdout",
          "text": [
            "<re.Match object; span=(0, 6), match='Batman'>\n",
            "None\n",
            "<re.Match object; span=(0, 10), match='Batwowoman'>\n"
          ]
        }
      ]
    },
    {
      "cell_type": "markdown",
      "source": [
        "**11. What is the difference between {4} and {4,5} in regular expression?**\n",
        "\n",
        "**Answer:**\n",
        "\n",
        "{4} means that its preceeding group should repeat 4 times. where as {4,5} means that its preceeding group should repeat mininum 4 maximum 5 times."
      ],
      "metadata": {
        "id": "xBKXOgcszMxM"
      }
    },
    {
      "cell_type": "code",
      "source": [
        "match1 = re.search('(ha){4}',\"hahahaha, u are funny\")\n",
        "print(match1)\n",
        "match1 = re.search('(ha){4}',\"haha, u are funny\")\n",
        "print(match1)\n",
        "match2 = re.search('(ha){4,5}',\"hahahahaha, u are funny\")\n",
        "print(match2)"
      ],
      "metadata": {
        "colab": {
          "base_uri": "https://localhost:8080/"
        },
        "id": "kvnANnsyzsmw",
        "outputId": "a0fbc45e-c473-417a-ccfc-1d6a3f966410"
      },
      "execution_count": 32,
      "outputs": [
        {
          "output_type": "stream",
          "name": "stdout",
          "text": [
            "<re.Match object; span=(0, 8), match='hahahaha'>\n",
            "None\n",
            "<re.Match object; span=(0, 10), match='hahahahaha'>\n"
          ]
        }
      ]
    },
    {
      "cell_type": "markdown",
      "source": [
        "**12. What do you mean by the \\d, \\w, and \\s shorthand character classes signify in regular expressions?**\n",
        "\n",
        "**Answer:**\n",
        "\n",
        "1. `\\w `: Matches a word character equivalent to [a-zA-Z0-9_]\n",
        "2. `\\d `:Matches digit character equivalent to [0-9]\n",
        "3. `\\s `:Matches whitespace character (space, tab, newline, etc.)"
      ],
      "metadata": {
        "id": "iosKUplD0P6l"
      }
    },
    {
      "cell_type": "markdown",
      "source": [
        "**13. What do means by \\D, \\W, and \\S shorthand character classes signify in regular expressions?**\n",
        "\n",
        "**Answer:**\n",
        "\n",
        "* `\\W` : Matches any non-alphanumeric character equivalent to [^a-zA-Z0-9_]\n",
        "* `\\D` : Matches any non-digit character, this is equivalent to the set class [^0-9]\n",
        "* `\\S `: Matches any non-whitespace character"
      ],
      "metadata": {
        "id": "BtNJc_FhGOQI"
      }
    },
    {
      "cell_type": "markdown",
      "source": [
        "**14. What is the difference between `.⋆?` and `.⋆` ?**\n",
        "\n",
        "**Answer:**\n",
        "\n",
        "`.*` is a Greedy mode, which returns the longest string that meets the condition. Whereas `.*?` is a non greedy mode which returns the shortest string that meets the condition.\n",
        "\n"
      ],
      "metadata": {
        "id": "94T8wicQHH9j"
      }
    },
    {
      "cell_type": "markdown",
      "source": [
        "**15. What is the syntax for matching both numbers and lowercase letters with a character class?**\n",
        "\n",
        "**Answer:**\n",
        "\n",
        "The syntax is [a-z0-9] or [0-9a-z] for matching both numbers and lowercase letters."
      ],
      "metadata": {
        "id": "Ow8hV7W_I49D"
      }
    },
    {
      "cell_type": "markdown",
      "source": [
        "**16. What is the procedure for making a normal expression in regax case insensitive?**\n",
        "\n",
        "**Answer:**\n",
        "\n",
        "For making a normal expression in regex case insensitive, we will pass `flags=re.IGNORECASE`"
      ],
      "metadata": {
        "id": "WHVUsmUrJVpH"
      }
    },
    {
      "cell_type": "markdown",
      "source": [
        "**17. What does the . character normally match? What does it match if re.DOTALL is passed as 2nd argument in re.compile()?**\n",
        "\n",
        "**Answer:**\n",
        "\n",
        "Dot` .` character matches everything in input except newline character while By passing` re.DOTALL `as a flag to `re.compile()`, you can make the dot character match all characters, including the newline character."
      ],
      "metadata": {
        "id": "zG9G_88sKAX2"
      }
    },
    {
      "cell_type": "markdown",
      "source": [
        "**18. If numReg = re.compile(r'\\d+'), what will numRegex.sub('X', '11 drummers, 10 pipers, five rings, 4 hen') return?**\n",
        "\n",
        "**Answer:**\n",
        "\n",
        "The output will substitute X with digits i.e` X drummers, X pipers, five rings, X hen`."
      ],
      "metadata": {
        "id": "qnaER16WLNiZ"
      }
    },
    {
      "cell_type": "code",
      "source": [
        "numReg = re.compile(r'\\d+')\n",
        "x=numReg.sub('X', '11 drummers, 10 pipers, five rings, 4 hen')\n",
        "print(\"Output: \",x)"
      ],
      "metadata": {
        "colab": {
          "base_uri": "https://localhost:8080/"
        },
        "id": "rlAJQEDaQjnV",
        "outputId": "bd065e87-e938-42d6-d88a-56de34279914"
      },
      "execution_count": 37,
      "outputs": [
        {
          "output_type": "stream",
          "name": "stdout",
          "text": [
            "Output:  X drummers, X pipers, five rings, X hen\n"
          ]
        }
      ]
    },
    {
      "cell_type": "markdown",
      "source": [
        "**19. What does passing re.VERBOSE as the 2nd argument to re.compile() allow to do?**\n",
        "\n",
        "**Answer:**\n",
        "\n",
        "Using `re.VERBOSE` as 2nd argument, we can add whitespace and add comments to the string."
      ],
      "metadata": {
        "id": "vE_wJHGDRczG"
      }
    },
    {
      "cell_type": "code",
      "source": [
        "# Using VERBOSE\n",
        "regex_email = re.compile(r\"\"\"\n",
        "                            ^([a-z0-9_\\.-]+)              # local Part like username\n",
        "                            @                             # single @ sign \n",
        "                            ([0-9a-z\\.-]+)                # Domain name like google\n",
        "                            \\.                            # single Dot .\n",
        "                            ([a-z]{2,6})$                 # Top level Domain  like com/in/org\n",
        "                         \"\"\",re.VERBOSE | re.IGNORECASE)   \n",
        "\n",
        "# Without Using VERBOSE\n",
        "regex_email = re.compile(r'^([a-z0-9_\\.-]+)@([0-9a-z\\.-]+)\\.([a-z\\.]{2, 6})$', re.IGNORECASE)"
      ],
      "metadata": {
        "id": "qTI0f55zR8Pp"
      },
      "execution_count": 39,
      "outputs": []
    },
    {
      "cell_type": "markdown",
      "source": [
        "**20. How would you write a regex that match a number with comma for every three digits?**\n",
        "* **It must match the given following: '42', '1,234', '6,368,745'**\n",
        "* **but not following: '12,34,567'(which has only two digits between commas, '1234' which lacks comma.**\n",
        "    \n",
        "**Answer:**\n",
        "\n",
        "   `regex: '^\\d{1,3}(,\\d{3})*$'`"
      ],
      "metadata": {
        "id": "56IjrsroSd9i"
      }
    },
    {
      "cell_type": "code",
      "source": [
        "pattern = r'^\\d{1,3}(,\\d{3})*$'\n",
        "pagex = re.compile(pattern)\n",
        "for ele in ['42','1,234', '6,368,745','12,34,567','1234']:\n",
        "    print('Output:',ele, '->', pagex.search(ele))\n"
      ],
      "metadata": {
        "colab": {
          "base_uri": "https://localhost:8080/"
        },
        "id": "yQYdDuQqU8nB",
        "outputId": "7b5ad47c-ef2c-44fe-fb3b-b705106dcb65"
      },
      "execution_count": 52,
      "outputs": [
        {
          "output_type": "stream",
          "name": "stdout",
          "text": [
            "Output: 42 -> <re.Match object; span=(0, 2), match='42'>\n",
            "Output: 1,234 -> <re.Match object; span=(0, 5), match='1,234'>\n",
            "Output: 6,368,745 -> <re.Match object; span=(0, 9), match='6,368,745'>\n",
            "Output: 12,34,567 -> None\n",
            "Output: 1234 -> None\n"
          ]
        }
      ]
    },
    {
      "cell_type": "markdown",
      "source": [
        "**21. How would you write a regex that matches the full name of someone whose last name is Watanabe? You can assume that the first name that comes before it will always be one word that begins with a capital letter.** \n",
        "\n",
        "**The regex must match the following:**\n",
        "\n",
        ">'Haruto Watanabe'\n",
        "\n",
        ">'Alice Watanabe'\n",
        "\n",
        ">'RoboCop Watanabe'\n",
        "\n",
        "**but not the following:**\n",
        "\n",
        ">'haruto Watanabe' (where the first name is not capitalized)\n",
        "\n",
        ">'Mr. Watanabe' (where the preceding word has a nonletter character)\n",
        "\n",
        ">'Watanabe' (which has no first name)\n",
        "\n",
        ">'Haruto watanabe' (where Watanabe is not capitalized)\n",
        "\n",
        "**Answer:**\n",
        "\n",
        ">`Regex_pattern = r'[A-Z]{1}[a-z]*\\sWatanabe'`"
      ],
      "metadata": {
        "id": "Ww8Elq5BXpTn"
      }
    },
    {
      "cell_type": "markdown",
      "source": [
        "**22. How would you write a regex that matches a sentence where the first word is either Alice, Bob,or Carol; the second word is either eats, pets, or throws; the third word is apples, cats, or baseballs; and the sentence ends with a period? This regex should be case-insensitive. **\n",
        "\n",
        "**It must match the following:**\n",
        "\n",
        ">'Alice eats apples.'\n",
        "\n",
        ">'Bob pets cats.'\n",
        "\n",
        ">'Carol throws baseballs.'\n",
        "\n",
        ">'Alice throws Apples.'\n",
        "\n",
        ">'BOB EATS CATS.'\n",
        "\n",
        "**but not the following:**\n",
        "\n",
        ">'RoboCop eats apples.'\n",
        "\n",
        ">'ALICE THROWS FOOTBALLS.'\n",
        "\n",
        ">'Carol eats 7 cats.'\n",
        "\n",
        "**Answer:**\n",
        "\n",
        ">`Regex_Pattern = r'(Alice|Bob|Carol)\\s(eats|pets|throws)\\s(apples|cats|baseballs)\\.'`"
      ],
      "metadata": {
        "id": "9_PqqN31ZCbh"
      }
    },
    {
      "cell_type": "markdown",
      "source": [
        "**Submitted By:** \n",
        " **Himanshu Kumar**\n",
        "\n",
        "**Date: 12-05-2023**\n"
      ],
      "metadata": {
        "id": "3VEMaWR7aNyF"
      }
    },
    {
      "cell_type": "code",
      "source": [],
      "metadata": {
        "id": "6z0nIhMeSHrC"
      },
      "execution_count": null,
      "outputs": []
    }
  ]
}