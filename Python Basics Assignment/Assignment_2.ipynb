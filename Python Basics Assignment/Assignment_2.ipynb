{
  "nbformat": 4,
  "nbformat_minor": 0,
  "metadata": {
    "colab": {
      "name": "Assignment_2.ipynb",
      "provenance": [],
      "authorship_tag": "ABX9TyPg8e6+cuwqLHAMILNxYEeZ",
      "include_colab_link": true
    },
    "kernelspec": {
      "name": "python3",
      "display_name": "Python 3"
    },
    "language_info": {
      "name": "python"
    }
  },
  "cells": [
    {
      "cell_type": "markdown",
      "metadata": {
        "id": "view-in-github",
        "colab_type": "text"
      },
      "source": [
        "<a href=\"https://colab.research.google.com/github/himanshuBarnwal/ineuron/blob/main/Python%20Basics%20Assignment/Assignment_2.ipynb\" target=\"_parent\"><img src=\"https://colab.research.google.com/assets/colab-badge.svg\" alt=\"Open In Colab\"/></a>"
      ]
    },
    {
      "cell_type": "markdown",
      "source": [
        "# **Assignment 2 Solutions**\n",
        "\n",
        "---\n",
        "\n",
        "\n"
      ],
      "metadata": {
        "id": "EXGBbuZRJ9TW"
      }
    },
    {
      "cell_type": "markdown",
      "source": [
        "**1.What are the two values of the Boolean data type? How do you write them?**\n",
        "\n",
        "**Solution:** The two values of the Boolean data type is True and False.\n",
        "we write first letter as capital and rest letter is small.\n",
        ">a = True\n",
        "\n",
        ">b= False"
      ],
      "metadata": {
        "id": "LEiqzxVvLAk_"
      }
    },
    {
      "cell_type": "markdown",
      "source": [
        "**2. What are the three different types of Boolean operators?**\n",
        "\n",
        "**Solution:**\n",
        ">The three different types of Boolean operators in python are: `and`, `or`, and `not`."
      ],
      "metadata": {
        "id": "BTbdAH3lMr0r"
      }
    },
    {
      "cell_type": "markdown",
      "source": [
        "**3. Make a list of each Boolean operators truth tables (i.e. every possible combination of Boolean values for the operator and what it evaluate).**\n",
        "\n",
        "**Solution:**\n",
        "\n",
        ">a. Truth Table for AND Operator -\n",
        "True and True is True\n",
        "True and False is False\n",
        "False and True is False\n",
        "False and False is False\n",
        "\n",
        ">b. Truth Table for OR Operator -\n",
        "True or True is True\n",
        "True or False is True\n",
        "False or True is True\n",
        "False or False is False\n",
        "\n",
        ">c. Truth Table for NOT Operator -\n",
        "True not is False\n",
        "False not is True"
      ],
      "metadata": {
        "id": "ArJ6ZuV6NMUO"
      }
    },
    {
      "cell_type": "markdown",
      "source": [
        "**4. What are the values of the following expressions?**\n",
        "\n",
        ">(5 &gt; 4) and (3 == 5)\n",
        "\n",
        ">not (5 &gt; 4)\n",
        "\n",
        ">(5 &gt; 4) or (3 == 5)\n",
        "\n",
        ">not ((5 &gt; 4) or (3 == 5))\n",
        "\n",
        ">(True and True) and (True == False)\n",
        "\n",
        ">(not False) or (not True) \n",
        "\n",
        "**Solution:**\n",
        "\n",
        ">(5 &gt; 4) and (3 == 5) => True and False => False\n",
        "\n",
        ">not (5 &gt; 4) => not (True) => False\n",
        "\n",
        ">(5 &gt; 4) or (3 == 5) => True or False => True\n",
        "\n",
        ">not ((5 &gt; 4) or (3 == 5)) => not (True) => False\n",
        "\n",
        ">(True and True) and (True == False) => True and False ==> False\n",
        "\n",
        ">(not False) or (not True) => True or False => True\n"
      ],
      "metadata": {
        "id": "KetKa1_tOXMi"
      }
    },
    {
      "cell_type": "markdown",
      "source": [
        "**5. What are the six comparison operators?**\n",
        "\n",
        "**Solution:**\n",
        "\n",
        ">The six comparison operators in Python are -\n",
        ">><, >, <=, >=, ==, !="
      ],
      "metadata": {
        "id": "WqA0lej7QkZo"
      }
    },
    {
      "cell_type": "markdown",
      "source": [
        "**6. How do you tell the difference between the equal to and assignment operators? Describe a condition and when you would use one.**\n",
        "\n",
        "**Solution:**\n",
        "\n",
        "For equal to, we use `==` and for assignment, we use `=`. Equal to is used when there is a comparison between variables whereas assignment is used when a value is assigned to a variable."
      ],
      "metadata": {
        "id": "jz2553RcREmu"
      }
    },
    {
      "cell_type": "markdown",
      "source": [
        "7. Identify the three blocks in this code:\n",
        "\n",
        "spam = 0\n",
        "\n",
        "if spam == 10:\n",
        "print('eggs')\n",
        "\n",
        "if spam > 5:\n",
        "\n",
        "print('bacon')\n",
        "\n",
        "else:\n",
        "\n",
        "print('ham')\n",
        "\n",
        "print('spam')\n",
        "\n",
        "print('spam')\n",
        "\n",
        "**Solution:**"
      ],
      "metadata": {
        "id": "DEfs0jFmR_W-"
      }
    },
    {
      "cell_type": "code",
      "source": [
        "spam = 0  \n",
        "if spam == 10:  \n",
        "    print('eggs')  # block 1\n",
        "if spam > 5:  \n",
        "    print('bacon')  # block 2\n",
        "else:  \n",
        "    print('ham')  # block 3\n",
        "    print('spam') # bloack 3\n",
        "    print('spam') # bloack 3"
      ],
      "metadata": {
        "id": "kkiuqSt0J_u9"
      },
      "execution_count": null,
      "outputs": []
    },
    {
      "cell_type": "markdown",
      "source": [
        "**8. Write code that prints Hello if 1 is stored in spam, prints Howdy if 2 is stored in spam, and prints Greetings! if anything else is stored in spam.**\n",
        "\n",
        "**Solution:** "
      ],
      "metadata": {
        "id": "IagmsmiATV0g"
      }
    },
    {
      "cell_type": "code",
      "source": [
        "def spam_value_check(spam):\n",
        "  if spam == 1:\n",
        "    print(\"Hello\")\n",
        "  elif spam == 2:\n",
        "    print(\"Howdy\")\n",
        "  else:\n",
        "    print(\"Greetings!\")\n",
        "\n",
        "spam_value_check(1)\n",
        "spam_value_check(2)\n",
        "spam_value_check(5)"
      ],
      "metadata": {
        "id": "DmoauSGVUAjD"
      },
      "execution_count": null,
      "outputs": []
    },
    {
      "cell_type": "markdown",
      "source": [
        "**9.If your programme is stuck in an endless loop, what keys you’ll press?**\n",
        "\n",
        "**Solution:**\n",
        "\n",
        ">Press `Ctrl + c` to terminate a program which is stucked in an infinite loop."
      ],
      "metadata": {
        "id": "MP63gJPKVE5l"
      }
    },
    {
      "cell_type": "markdown",
      "source": [
        "**10. How can you tell the difference between break and continue?**\n",
        "\n",
        "**Solution:**\n",
        "\n",
        "Break will terminate the loop while continue will again iterate the loop."
      ],
      "metadata": {
        "id": "3Gwm4_9AVlEM"
      }
    },
    {
      "cell_type": "markdown",
      "source": [
        "**11. In a for loop, what is the difference between range(10), range(0, 10), and range(0, 10, 1)?**\n",
        "\n",
        "**Solution:**\n",
        "\n",
        "There is no difference between range(10), range(0,10) and range(0,10,1). All three are equivalent. all will iterate the loop from range 0 to 9.\n"
      ],
      "metadata": {
        "id": "i2jiUHFKWj0h"
      }
    },
    {
      "cell_type": "markdown",
      "source": [
        "**12. Write a short program that prints the numbers 1 to 10 using a for loop. Then write an equivalent program that prints the numbers 1 to 10 using a while loop.**\n",
        "\n",
        "**Solution:** "
      ],
      "metadata": {
        "id": "4Kbajbq4XH3N"
      }
    },
    {
      "cell_type": "code",
      "source": [
        "print(\"numbers 1 to 10 using a for loop\")\n",
        "for i in range(1,11):\n",
        "  print(i,end=\" \")\n",
        "\n",
        "print()\n",
        "print(\"\\nnumbers 1 to 10 using a while loop\")\n",
        "i = 1\n",
        "while i<11:\n",
        "  print(i,end=\" \")\n",
        "  i+=1"
      ],
      "metadata": {
        "colab": {
          "base_uri": "https://localhost:8080/"
        },
        "id": "pR57LsrIXLi_",
        "outputId": "9fbeda4f-b370-46dd-9f1c-26c91e321ce0"
      },
      "execution_count": 5,
      "outputs": [
        {
          "output_type": "stream",
          "name": "stdout",
          "text": [
            "numbers 1 to 10 using a for loop\n",
            "1 2 3 4 5 6 7 8 9 10 \n",
            "\n",
            "numbers 1 to 10 using a while loop\n",
            "1 2 3 4 5 6 7 8 9 10 "
          ]
        }
      ]
    },
    {
      "cell_type": "markdown",
      "source": [
        "**13. If you had a function named bacon() inside a module named spam, how would you call it after importing spam ?**\n",
        "\n",
        "**Solution:**\n",
        "\n",
        "import spam\n",
        "\n",
        "spam.bacon() # calling the function spam from the bacon module."
      ],
      "metadata": {
        "id": "f5rxpxEKYAVR"
      }
    },
    {
      "cell_type": "markdown",
      "source": [
        "***Submitted By: Himanshu Kumar***\n",
        "\n",
        "***Date: 24-08-2022***"
      ],
      "metadata": {
        "id": "MVVXCnruYwpb"
      }
    }
  ]
}