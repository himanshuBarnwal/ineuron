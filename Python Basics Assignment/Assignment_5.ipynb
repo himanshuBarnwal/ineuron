{
  "nbformat": 4,
  "nbformat_minor": 0,
  "metadata": {
    "colab": {
      "name": "Assignment_5.ipynb",
      "provenance": [],
      "authorship_tag": "ABX9TyM31Asriw/bGztzK8pq4jc8",
      "include_colab_link": true
    },
    "kernelspec": {
      "name": "python3",
      "display_name": "Python 3"
    },
    "language_info": {
      "name": "python"
    }
  },
  "cells": [
    {
      "cell_type": "markdown",
      "metadata": {
        "id": "view-in-github",
        "colab_type": "text"
      },
      "source": [
        "<a href=\"https://colab.research.google.com/github/himanshuBarnwal/ineuron/blob/main/Python%20Basics%20Assignment/Assignment_5.ipynb\" target=\"_parent\"><img src=\"https://colab.research.google.com/assets/colab-badge.svg\" alt=\"Open In Colab\"/></a>"
      ]
    },
    {
      "cell_type": "markdown",
      "source": [
        "# **Assignment 5 Solutions**\n",
        "\n",
        "---\n",
        "\n"
      ],
      "metadata": {
        "id": "QJ3w1MLkexRF"
      }
    },
    {
      "cell_type": "markdown",
      "source": [
        "**1. What does an empty dictionary&#39;s code look like?**\n",
        "\n",
        "**Solution:**\n",
        "\n",
        "An empty diction code looks like : d = {} or d = dict();"
      ],
      "metadata": {
        "id": "UQUuX0eGe58M"
      }
    },
    {
      "cell_type": "markdown",
      "source": [
        "**2. What is the value of a dictionary value with the key &#39;foo&#39; and the value 42?**\n",
        "\n",
        "**Solution:**\n",
        "\n",
        "`>{'foo':42}`"
      ],
      "metadata": {
        "id": "yZGLBjiMf-03"
      }
    },
    {
      "cell_type": "markdown",
      "source": [
        "**3. What is the most significant distinction between a dictionary and a list?**\n",
        "\n",
        "**Solution:**\n",
        "\n",
        "The most significant distinction between a dictionary and a list is that\n",
        "\n",
        ">i). A dictionary is unordered while list is ordered.\n",
        "\n",
        ">ii). A dictionary has a key value pair while list has only values."
      ],
      "metadata": {
        "id": "y0eIX72Xgw-Y"
      }
    },
    {
      "cell_type": "markdown",
      "source": [
        "**4. What happens if you try to access spam[&#39;foo&#39;] if spam is {&#39;bar&#39;: 100}?**\n",
        "\n",
        "**Solution:**\n",
        "\n",
        "We will get a `KeyError`."
      ],
      "metadata": {
        "id": "B8_h7oXzhZiA"
      }
    },
    {
      "cell_type": "markdown",
      "source": [
        "**5. If a dictionary is stored in spam, what is the difference between the expressions &#39;cat&#39; in spam and &#39;cat&#39; in spam.keys()?**\n",
        "\n",
        "**Solution:**\n",
        "\n",
        ">There is no difference. Both will search that 'cat' key is present or not in the spam dictionary."
      ],
      "metadata": {
        "id": "0uo6U9qHiIQ5"
      }
    },
    {
      "cell_type": "markdown",
      "source": [
        "**6. If a dictionary is stored in spam, what is the difference between the expressions &#39;cat&#39; in spam and &#39;cat&#39; in spam.values()?**\n",
        "\n",
        "**Solution:**\n",
        "\n",
        ">`'cat' in spam` check for the 'cat' key is present or not in the dictionary spam while `'cat' in spam.values()` will check 'cat' is the values or not of one of the key in dictionary spam."
      ],
      "metadata": {
        "id": "c1O_v-DjjVqi"
      }
    },
    {
      "cell_type": "markdown",
      "source": [
        "**7. What is a shortcut for the following code?** \n",
        "\n",
        "if &#39;color&#39; not in spam:\n",
        "\n",
        " spam[&#39;color&#39;] = &#39;black&#39;\n",
        "\n",
        "**Solution:**\n",
        "\n",
        ">`spam.setdefault('color','black)`"
      ],
      "metadata": {
        "id": "fnQ4LvV3kCIV"
      }
    },
    {
      "cell_type": "markdown",
      "source": [
        "**8. How do you &quot;pretty print&quot; dictionary values using which module and function?**\n",
        "\n",
        "**Solution:**\n",
        "\n",
        "We can pretty print a dictionary using the following three functions -\n",
        "\n",
        "1. pprint() function of pprint module\n",
        "2. dumps() method of json module\n",
        "3. dumps() method of yaml module\n",
        "\n",
        ">NOTE: pprint() function doesnot prettify nested dictionary."
      ],
      "metadata": {
        "id": "YNeeBBt2k8DG"
      }
    },
    {
      "cell_type": "code",
      "execution_count": 8,
      "metadata": {
        "colab": {
          "base_uri": "https://localhost:8080/"
        },
        "id": "vv6WrIALeqm-",
        "outputId": "7116d8fc-32ee-4a60-8ec0-814f83a39582"
      },
      "outputs": [
        {
          "output_type": "stream",
          "name": "stdout",
          "text": [
            "Normal Print\n",
            "[{'Name': 'John', 'Age': '23', 'Country': 'USA'}, {'Name': 'Jose', 'Age': '44', 'Country': 'Spain'}, {'Name': 'Anne', 'Age': '29', 'Country': 'UK'}, {'Name': 'Lee', 'Age': '35', 'Country': 'Japan'}]\n",
            "\n",
            "Print using pprint module\n",
            "[{'Age': '23', 'Country': 'USA', 'Name': 'John'},\n",
            " {'Age': '44', 'Country': 'Spain', 'Name': 'Jose'},\n",
            " {'Age': '29', 'Country': 'UK', 'Name': 'Anne'},\n",
            " {'Age': '35', 'Country': 'Japan', 'Name': 'Lee'}]\n",
            "\n",
            "Print using json module\n",
            "[\n",
            "    {\n",
            "        \"Name\": \"John\",\n",
            "        \"Age\": \"23\",\n",
            "        \"Country\": \"USA\"\n",
            "    },\n",
            "    {\n",
            "        \"Name\": \"Jose\",\n",
            "        \"Age\": \"44\",\n",
            "        \"Country\": \"Spain\"\n",
            "    },\n",
            "    {\n",
            "        \"Name\": \"Anne\",\n",
            "        \"Age\": \"29\",\n",
            "        \"Country\": \"UK\"\n",
            "    },\n",
            "    {\n",
            "        \"Name\": \"Lee\",\n",
            "        \"Age\": \"35\",\n",
            "        \"Country\": \"Japan\"\n",
            "    }\n",
            "]\n",
            "\n",
            "Print using yaml module\n",
            "- Age: '23'\n",
            "  Country: USA\n",
            "  Name: John\n",
            "- Age: '44'\n",
            "  Country: Spain\n",
            "  Name: Jose\n",
            "- Age: '29'\n",
            "  Country: UK\n",
            "  Name: Anne\n",
            "- Age: '35'\n",
            "  Country: Japan\n",
            "  Name: Lee\n",
            "\n"
          ]
        }
      ],
      "source": [
        "import pprint\n",
        "import json\n",
        "import yaml\n",
        "\n",
        "dic = [\n",
        "    {'Name': 'John', 'Age': '23', 'Country': 'USA'},\n",
        "    {'Name': 'Jose', 'Age': '44', 'Country': 'Spain'},\n",
        "    {'Name': 'Anne', 'Age': '29', 'Country': 'UK'},\n",
        "    {'Name': 'Lee', 'Age': '35', 'Country': 'Japan'}\n",
        "]\n",
        "\n",
        "print(\"Normal Print\")\n",
        "print(dic)\n",
        "\n",
        "print(\"\\nPrint using pprint module\")\n",
        "pprint.pprint(dic)\n",
        "\n",
        "print(\"\\nPrint using json module\")\n",
        "dump = json.dumps(dic, indent=4)\n",
        "print(dump)\n",
        "\n",
        "print(\"\\nPrint using yaml module\")\n",
        "dump = yaml.dump(dic)\n",
        "print(dump)\n"
      ]
    },
    {
      "cell_type": "markdown",
      "source": [
        "**Submitted By : Himanshu Kumar**\n",
        "\n",
        "**Date: 26-08-2022**"
      ],
      "metadata": {
        "id": "PM8BC4uamaUh"
      }
    },
    {
      "cell_type": "code",
      "source": [],
      "metadata": {
        "id": "cD05J_N_f4Jt"
      },
      "execution_count": null,
      "outputs": []
    }
  ]
}