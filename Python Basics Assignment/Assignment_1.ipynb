{
  "nbformat": 4,
  "nbformat_minor": 0,
  "metadata": {
    "colab": {
      "name": "Assignment_1.ipynb",
      "provenance": []
    },
    "kernelspec": {
      "name": "python3",
      "display_name": "Python 3"
    },
    "language_info": {
      "name": "python"
    }
  },
  "cells": [
    {
      "cell_type": "markdown",
      "source": [
        "# Assignment 1 Solutions\n",
        "\n",
        "---\n",
        "\n"
      ],
      "metadata": {
        "id": "0r1t7a3_lN4i"
      }
    },
    {
      "cell_type": "markdown",
      "source": [
        "1. **In the below elements which of them are values or an expression? eg:- values can be integer or string and expressions will be mathematical operators.**\n",
        "*,\n",
        "'hello'\n",
        "-87.8,\n",
        "-, \n",
        "/,\n",
        "+,6 \n",
        "\n",
        "**Solution:**\n",
        "\n",
        ">  **Values:** 'hello', -87.8, 6\n",
        "\n",
        " > **Expressions:** *, -, /,+\n",
        "\n",
        "\n",
        "\n"
      ],
      "metadata": {
        "id": "5G4ese6llXgZ"
      }
    },
    {
      "cell_type": "markdown",
      "source": [
        "**2. What is the difference between string and variable?**\n",
        "\n",
        "**Solution:** \n",
        "\n",
        "A `variable` is used to store the  information in the memory. It is used to store the multiple types of data like int, float, string, bool etc. **while**\n",
        "A `string` is a type of  data which is stored in the variable."
      ],
      "metadata": {
        "id": "TZzyJFnKnugq"
      }
    },
    {
      "cell_type": "markdown",
      "source": [
        "**3. Describe three different data types.**\n",
        "\n",
        "**Solution:**\n",
        "\n",
        "`int:` This data type is used to store integer number.\n",
        "\n",
        "`float:` This datatype is used to store decimal number.\n",
        "\n",
        "`complex:` This datatype is used to store complex number. \n",
        "\n"
      ],
      "metadata": {
        "id": "Nfh2rN-spFTj"
      }
    },
    {
      "cell_type": "markdown",
      "source": [
        "**4. What is an expression made up of? What do all expressions do?**\n",
        "\n",
        "**Solution:**\n",
        "\n",
        "An expression is the combination of the variables, operators and values. for examples: 2x-y, 3x+5 etc.\n",
        "\n",
        "An expression contains some information which is to be evaluated by the python interpreter and corresponding values is generated."
      ],
      "metadata": {
        "id": "9CtmPJNNGo1j"
      }
    },
    {
      "cell_type": "markdown",
      "source": [
        "**5. This assignment statements, like spam = 10. What is the difference between an expression and a statement?**\n",
        "\n",
        "**Solution:** \n",
        "\n",
        "An expression is a combination of values, variables, and operators.When we type an expression at the prompt, the interpreter evaluates it, which means that it finds the value of the expression.\n",
        "\n",
        ">example : 20*3+5 is an example of an expression\n",
        "\n",
        "\n",
        "Whereas any instruction that a python interpreter can execute (carry out) is called a Statement.\n",
        "\n",
        ">example : variable declaration and variable assignment are statements."
      ],
      "metadata": {
        "id": "bRymGHjaHj4M"
      }
    },
    {
      "cell_type": "markdown",
      "source": [
        "**6. After running the following code, what does the variable bacon contain?**\n",
        "\n",
        ">**bacon = 22**\n",
        "\n",
        ">**bacon + 1**\n",
        "\n",
        "**Solution:**\n",
        "\n",
        "The variable bacon contains 22. To add 1 in bacon variable. we also have to use assignment operator like bacon = bacon + 1."
      ],
      "metadata": {
        "id": "fXXfeE8TI8n2"
      }
    },
    {
      "cell_type": "markdown",
      "source": [
        "**7. What should the values of the following two terms be?**\n",
        "\n",
        "\n",
        ">**'spam' + 'spamspam'**\n",
        "\n",
        ">**'spam' * 3**\n",
        "\n",
        "**Solution:**\n",
        "\n",
        "The values the above two terms will be same i.e. 'spamspamspam'.\n"
      ],
      "metadata": {
        "id": "2ZO0bBWaKO3N"
      }
    },
    {
      "cell_type": "markdown",
      "source": [
        "**8. Why is eggs a valid variable name while 100 is invalid?**\n",
        "\n",
        "Solution: \n",
        "\n",
        "100 is invalid variable name because a varible name must start with a letter ('A-Z', 'a-z'') or an underscore('_').\n"
      ],
      "metadata": {
        "id": "ZBd4AAa2LSSt"
      }
    },
    {
      "cell_type": "markdown",
      "source": [
        "**9. What three functions can be used to get the integer, floating-point number or string version of a value?**\n",
        "\n",
        "**Solution:** \n",
        "Let's say, x is a varible where x = 100.67.\n",
        "\n",
        "To get integer value, int(x) will be used where int(x) gives 100 output.\n",
        "\n",
        "To get floating point number, float(x) will be used where float(100) gives 100.0 output.\n",
        "\n",
        "To get string version, string(x) will be used where string(x) gives '100.67' output.\n",
        "\n"
      ],
      "metadata": {
        "id": "qHU1ZMvQMRPH"
      }
    },
    {
      "cell_type": "markdown",
      "source": [
        "**10. Why does this expression cause an error? How can you fix it?**\n",
        "\n",
        "'I have eaten' + 99 + 'burritos.'\n",
        "\n",
        "**Solution:**\n",
        "\n",
        "The given line will cause an error because there is a string concatenation of non string type data.\n",
        "'I have eaten' and 'burritos.' are strings. So, their concatenation is possible but 99 is an integer, it's concatenation is not possible with above two strings.\n",
        "\n",
        "Correct way to write -\n",
        "Type cast the integer 99 to string.\n",
        "We can write -\n",
        "'I have eaten' + str(99) + 'burritos.'"
      ],
      "metadata": {
        "id": "I8Aj8ACHNzHJ"
      }
    },
    {
      "cell_type": "markdown",
      "source": [
        "***Submitted by: Himanshu Kumar***\n",
        "\n",
        "***Date: 23-08-2022***"
      ],
      "metadata": {
        "id": "0kkRkRvbO4O9"
      }
    }
  ]
}