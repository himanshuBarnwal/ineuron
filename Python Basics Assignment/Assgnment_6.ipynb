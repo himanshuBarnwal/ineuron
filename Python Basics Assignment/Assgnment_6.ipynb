{
  "nbformat": 4,
  "nbformat_minor": 0,
  "metadata": {
    "colab": {
      "name": "Assgnment_6.ipynb",
      "provenance": [],
      "authorship_tag": "ABX9TyPpFfhWJYivhV4z/PxYVdC3",
      "include_colab_link": true
    },
    "kernelspec": {
      "name": "python3",
      "display_name": "Python 3"
    },
    "language_info": {
      "name": "python"
    }
  },
  "cells": [
    {
      "cell_type": "markdown",
      "metadata": {
        "id": "view-in-github",
        "colab_type": "text"
      },
      "source": [
        "<a href=\"https://colab.research.google.com/github/himanshuBarnwal/ineuron/blob/main/Python%20Basics%20Assignment/Assgnment_6.ipynb\" target=\"_parent\"><img src=\"https://colab.research.google.com/assets/colab-badge.svg\" alt=\"Open In Colab\"/></a>"
      ]
    },
    {
      "cell_type": "markdown",
      "source": [
        "# **Assignment 6 Solutions**\n",
        "\n",
        "---\n",
        "\n"
      ],
      "metadata": {
        "id": "RD_d0Wf5t2a3"
      }
    },
    {
      "cell_type": "markdown",
      "source": [
        "**1. What are escape characters, and how do you use them?**\n",
        "\n",
        "**Solution:**\n",
        "\n",
        "An escape character is a backslash \\ followed by the character you want to insert. for example:  \\' for printing ' in the string, \\\\ for writing \\ in the strings.\n",
        "\n",
        "we use by write in the string.\n",
        "\n",
        "\n",
        "---\n",
        "\n"
      ],
      "metadata": {
        "id": "qH1M8BcVt_r_"
      }
    },
    {
      "cell_type": "markdown",
      "source": [
        "**2. What do the escape characters n and t stand for?**\n",
        "\n",
        "**Solution:**\n",
        "\n",
        "escape character n (`\\n`) stands for new line.\n",
        "\n",
        "escape character t (`\\t`) stands for tab.\n",
        "\n",
        "---\n",
        "\n"
      ],
      "metadata": {
        "id": "_kjxaVE4vqRe"
      }
    },
    {
      "cell_type": "markdown",
      "source": [
        "**3. What is the way to include backslash characters in a string?**\n",
        "\n",
        "**Solution:**\n",
        "\n",
        "To include backslah characters in a string we use double backslash (\\\\) at that time. first \\ will act as escape character and second \\ will act a backslash characters in a string.\n",
        "\n",
        "\n",
        "---\n",
        "\n"
      ],
      "metadata": {
        "id": "WcSYF63pwA6x"
      }
    },
    {
      "cell_type": "markdown",
      "source": [
        "**4. The string &quot;Howl&#39;s Moving Castle&quot; is a correct value. Why isn&#39;t the single quote character in the word Howl&#39;s not escaped a problem?**\n",
        "\n",
        "**Solution:**\n",
        "\n",
        "In \"Howl's Moving Castle\", single quote character not escaped because string is written within double quote. So, single quote will be treated as normal character.\n",
        "\n",
        "---\n",
        "\n"
      ],
      "metadata": {
        "id": "iw_vocpdwnio"
      }
    },
    {
      "cell_type": "markdown",
      "source": [
        "**5. How do you write a string of newlines if you don&#39;t want to use the n character?**\n",
        "\n",
        "**Solution:**\n",
        "\n",
        "We can use multiline string if we don't want to use escape n character.\n",
        "\n",
        "for example: str=  \"\"\"Howl's Moving Castle\n",
        "                        Ram eats Mango. \"\"\""
      ],
      "metadata": {
        "id": "apJpySIzx4hv"
      }
    },
    {
      "cell_type": "code",
      "source": [
        "str=  \"\"\"Howl's Moving Castle\n",
        "                        Ram eats Mango. \"\"\"\n",
        "print(str)"
      ],
      "metadata": {
        "colab": {
          "base_uri": "https://localhost:8080/"
        },
        "id": "rOMjGzkY8ZCZ",
        "outputId": "85dfed45-265a-4263-ef6a-b269d8250697"
      },
      "execution_count": null,
      "outputs": [
        {
          "output_type": "stream",
          "name": "stdout",
          "text": [
            "Howl's Moving Castle\n",
            "                        Ram eats Mango. \n"
          ]
        }
      ]
    },
    {
      "cell_type": "markdown",
      "source": [
        "**6. What are the values of the given expressions?**\n",
        "\n",
        "**&#39;Hello, world!&#39;[1]**\n",
        "\n",
        "**&#39;Hello, world!&#39;[0:5]**\n",
        "\n",
        "**&#39;Hello, world!&#39;[:5]**\n",
        "\n",
        "**&#39;Hello, world!&#39;[3:]**\n",
        "\n",
        "**Solution:**\n",
        "\n",
        "'Hello, world!'[1] ----> 'e'\n",
        "\n",
        "'Hello, world!'[0:5] --> 'Hello'\n",
        "\n",
        "'Hello, world!'[:5] ---> 'Hello'\n",
        "\n",
        "'Hello, world!'[3:] ---> 'lo, world!'\n",
        "\n",
        "---\n",
        "\n",
        "\n"
      ],
      "metadata": {
        "id": "bWomjiZ-yfiF"
      }
    },
    {
      "cell_type": "markdown",
      "source": [
        "**7. What are the values of the following expressions?**\n",
        "\n",
        "**&#39;Hello&#39;.upper()**\n",
        "\n",
        "**&#39;Hello&#39;.upper().isupper()**\n",
        "\n",
        "**&#39;Hello&#39;.upper().lower()**\n",
        "\n",
        "**Solution:**\n",
        "\n",
        "'Hello'.upper()  ---> 'HELLO'\n",
        "\n",
        "'Hello'.upper().isupper() ---> True\n",
        "\n",
        "'Hello'.upper().lower()   ---> 'hello'\n",
        "\n",
        "\n",
        "---\n",
        "\n"
      ],
      "metadata": {
        "id": "3ER2SZFh1hwZ"
      }
    },
    {
      "cell_type": "markdown",
      "source": [
        "**8. What are the values of the following expressions?**\n",
        "\n",
        "**&#39;Remember, remember, the fifth of July.&#39;.split()**\n",
        " \n",
        "**&#39;-&#39;.join(&#39;There can only one.&#39;.split())**\n",
        "\n",
        "**Solution:**\n",
        "\n",
        "'Remember, remember, the fifth of July.'.split() ==>` ['Remember,', 'remember,', 'the', 'fifth', 'of', 'July.']`\n",
        "\n",
        "'-'.join('There can only one.'.split())   ==> `'There-can-only-one.'`\n",
        "\n",
        "\n",
        "---\n",
        "\n",
        "\n"
      ],
      "metadata": {
        "id": "cNco2KIa2ISq"
      }
    },
    {
      "cell_type": "markdown",
      "source": [
        "**9. What are the methods for right-justifying, left-justifying, and centering a string?**\n",
        "\n",
        "**Solution:**\n",
        "\n",
        "center(len, fillchr) --> for centering a string\n",
        "\n",
        "ljust(len, fillchr)--> for left-justifying a string\n",
        "\n",
        "rjust(len, fillchr)  --> for right-justifying a string\n",
        "\n",
        "\n",
        "\n",
        "---\n",
        "\n"
      ],
      "metadata": {
        "id": "4O3H78ln3w-R"
      }
    },
    {
      "cell_type": "code",
      "execution_count": null,
      "metadata": {
        "colab": {
          "base_uri": "https://localhost:8080/"
        },
        "id": "zWSY33_Etx6T",
        "outputId": "0bdd4bc1-99cd-4697-e1fb-8dd0084d0fd6"
      },
      "outputs": [
        {
          "output_type": "stream",
          "name": "stdout",
          "text": [
            "______________Hello World!______________\n",
            "Hello World!............................\n",
            "                            Hello World!\n"
          ]
        }
      ],
      "source": [
        "str = \"Hello World!\"\n",
        "\n",
        "print(str.center(40,'_'))\n",
        "print(str.ljust(40,'.'))\n",
        "print(str.rjust(40,' '))"
      ]
    },
    {
      "cell_type": "markdown",
      "source": [
        "**10. What is the best way to remove whitespace characters from the start or end?**\n",
        "\n",
        "**Solution:**\n",
        "\n",
        "1. strip() method: To remove whitespaces from both the end.\n",
        "2. lstrip() method: To remove whitespaces from the begnning\n",
        "3. rstrip() method: To remove whitespaces from the end.\n",
        "\n",
        "---\n",
        "\n"
      ],
      "metadata": {
        "id": "aqIFEM1C6Q4M"
      }
    },
    {
      "cell_type": "code",
      "source": [
        "str = \"     Hello      \"\n",
        "print(str+\"world\")\n",
        "print(str.strip()+\" world\\n\")\n",
        "print(str.lstrip()+\" world\\n\")\n",
        "print(str.rstrip()+\" world\\n\")\n"
      ],
      "metadata": {
        "colab": {
          "base_uri": "https://localhost:8080/"
        },
        "id": "hMRm66l97Dqh",
        "outputId": "75c9160a-44f3-41ed-b58e-78f85297d0cc"
      },
      "execution_count": null,
      "outputs": [
        {
          "output_type": "stream",
          "name": "stdout",
          "text": [
            "     Hello      world\n",
            "Hello world\n",
            "\n",
            "Hello       world\n",
            "\n",
            "     Hello world\n",
            "\n"
          ]
        }
      ]
    },
    {
      "cell_type": "markdown",
      "source": [
        "**Submitted By: Himanshu Kumar**\n",
        "\n",
        "**Date: 26-08-2022**\n",
        "\n",
        "\n",
        "---\n",
        "\n"
      ],
      "metadata": {
        "id": "-wc0hHuT7uug"
      }
    }
  ]
}