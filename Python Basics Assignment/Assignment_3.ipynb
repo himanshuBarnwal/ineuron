{
  "nbformat": 4,
  "nbformat_minor": 0,
  "metadata": {
    "colab": {
      "name": "Assignment_3.ipynb",
      "provenance": [],
      "authorship_tag": "ABX9TyOmArRom3y+W2apI1tayQDF",
      "include_colab_link": true
    },
    "kernelspec": {
      "name": "python3",
      "display_name": "Python 3"
    },
    "language_info": {
      "name": "python"
    }
  },
  "cells": [
    {
      "cell_type": "markdown",
      "metadata": {
        "id": "view-in-github",
        "colab_type": "text"
      },
      "source": [
        "<a href=\"https://colab.research.google.com/github/himanshuBarnwal/ineuron/blob/main/Python%20Basics%20Assignment/Assignment_3.ipynb\" target=\"_parent\"><img src=\"https://colab.research.google.com/assets/colab-badge.svg\" alt=\"Open In Colab\"/></a>"
      ]
    },
    {
      "cell_type": "markdown",
      "source": [
        "# **Assignment 3 Solutions**\n",
        "\n",
        "---"
      ],
      "metadata": {
        "id": "SWK_T9HQSQ7w"
      }
    },
    {
      "cell_type": "markdown",
      "source": [
        "**1. Why are functions advantageous to have in your programs?**\n",
        "\n",
        "**Solution:**\n",
        "\n",
        "The major advantage of functions is `code Reusability` means Functions reduces the needs of duplicate code instead we can use the same code multiple time by just calling function instead of writing it again and again. This makes my `program shorter, easier to read, easier to update and easier to maintain.`"
      ],
      "metadata": {
        "id": "QZHxclwaSabD"
      }
    },
    {
      "cell_type": "markdown",
      "source": [
        "**2. When does the code in a function run: when it&#39;s specified or when it's called?**\n",
        "\n",
        "**Solution:** \n",
        "\n",
        ">The code in a function run `when it is called` not when it is specified."
      ],
      "metadata": {
        "id": "HXS3Cg7HT-Ls"
      }
    },
    {
      "cell_type": "markdown",
      "source": [
        "**3. What statement creates a function?**\n",
        "\n",
        "**Solution:**\n",
        "\n",
        "The `def keyword` followed by a function name with round brackets and a colon. The indented statements forms a body of the function. \n"
      ],
      "metadata": {
        "id": "b7ckA4oHUhZW"
      }
    },
    {
      "cell_type": "markdown",
      "source": [
        "**4. What is the difference between a function and a function call?**\n",
        "\n",
        "**Solution:**\n",
        "\n",
        "A `function` is a procedure to achieve particular result whereas `function call` is a call to start executing a function."
      ],
      "metadata": {
        "id": "RzC8UuhWVnQ8"
      }
    },
    {
      "cell_type": "markdown",
      "source": [
        "**5. How many global scopes are there in a Python program? How many local scopes?**\n",
        "\n",
        "**Solution:** \n",
        "\n",
        "Variables that are defined inside a function body have a local scope, and those defined outside have a global scope. So, there is only one global scope in python program whereas for each function call a local scope is created."
      ],
      "metadata": {
        "id": "ZRvPkePhW0CA"
      }
    },
    {
      "cell_type": "markdown",
      "source": [
        "**6. What happens to variables in a local scope when the function call returns?**\n",
        "\n",
        "**Solution:**\n",
        "\n",
        "When the function call returns, the activation records is removed from stack(in main memory). The activation records keeps all the variables of a function which has a local scope. So, these variables are also removed."
      ],
      "metadata": {
        "id": "87TVfW9-X5dk"
      }
    },
    {
      "cell_type": "markdown",
      "source": [
        "**7. What is the concept of a return value? Is it possible to have a return value in an expression?**\n",
        "\n",
        "**Solution:**\n",
        "\n",
        "Return value is the final value after execution of the function which is send back to the function call. Yes, It's possible to have a return value in a expression."
      ],
      "metadata": {
        "id": "PMoLdJf0Y2ce"
      }
    },
    {
      "cell_type": "markdown",
      "source": [
        "**8. If a function does not have a return statement, what is the return value of a call to that function?**\n",
        "\n",
        "**Solution:**\n",
        "\n",
        ">`None`"
      ],
      "metadata": {
        "id": "v8EAqKRbZgLI"
      }
    },
    {
      "cell_type": "code",
      "source": [
        "def fun():\n",
        "  print(\"hello\")\n",
        "  return\n",
        "\n",
        "a=fun()\n",
        "print(a)"
      ],
      "metadata": {
        "colab": {
          "base_uri": "https://localhost:8080/"
        },
        "id": "fgac3L3cX3d_",
        "outputId": "49ab0ca6-82fe-4cd7-ffdd-b7cf3666c04e"
      },
      "execution_count": 1,
      "outputs": [
        {
          "output_type": "stream",
          "name": "stdout",
          "text": [
            "hello\n",
            "None\n"
          ]
        }
      ]
    },
    {
      "cell_type": "markdown",
      "source": [
        "**9. How do you make a function variable refer to the global variable?**\n",
        "\n",
        "**Solution:**\n",
        "\n",
        "To make a function variable refer to the global variable, we can use the `global` keyword to declare which variables are global."
      ],
      "metadata": {
        "id": "AfX1cBKZagLk"
      }
    },
    {
      "cell_type": "markdown",
      "source": [
        "**10. What is the data type of None?**\n",
        "\n",
        "**Solution:**\n",
        "\n",
        ">`NoneType`"
      ],
      "metadata": {
        "id": "3H1xgPsTbiRe"
      }
    },
    {
      "cell_type": "code",
      "source": [
        "def fun():\n",
        "  return\n",
        "\n",
        "a = fun()\n",
        "print(a)\n",
        "print(type(a))"
      ],
      "metadata": {
        "colab": {
          "base_uri": "https://localhost:8080/"
        },
        "id": "OOfeSsEtbx73",
        "outputId": "a91485a6-1b0d-480d-fe05-d8b758b9ca72"
      },
      "execution_count": 2,
      "outputs": [
        {
          "output_type": "stream",
          "name": "stdout",
          "text": [
            "None\n",
            "<class 'NoneType'>\n"
          ]
        }
      ]
    },
    {
      "cell_type": "markdown",
      "source": [
        "**11. What does the sentence import areallyourpetsnamederic do?**\n",
        "\n",
        "**Solution:**\n",
        "\n",
        "This sentence will import the areallyourpetsnamederic named module in that python program."
      ],
      "metadata": {
        "id": "ZEZD4qaDcDfL"
      }
    },
    {
      "cell_type": "markdown",
      "source": [
        "**12. If you had a bacon() feature in a spam module, what would you call it after importing spam?**\n",
        "\n",
        "**Solution:**\n",
        "\n",
        "we call it by `spam.bacon()`."
      ],
      "metadata": {
        "id": "TpwI1gbIcioE"
      }
    },
    {
      "cell_type": "markdown",
      "source": [
        "**13. What can you do to save a programme from crashing if it encounters an error?**\n",
        "\n",
        "**Solution:**\n",
        "\n",
        "We can use `try` and `except` block to save a programme from crashing if it encounters an error."
      ],
      "metadata": {
        "id": "ACFw7ewXc679"
      }
    },
    {
      "cell_type": "markdown",
      "source": [
        "**14. What is the purpose of the try clause? What is the purpose of the except clause?**\n",
        "\n",
        "**Solution:**\n",
        "\n",
        ">The `try` block is used to check some code for errors i.e the code inside the try block will execute when there is no error in the program. Whereas the code inside the `except` block will execute whenever the program encounters some error in the preceding try block."
      ],
      "metadata": {
        "id": "2kyUPrUSeqOQ"
      }
    }
  ]
}