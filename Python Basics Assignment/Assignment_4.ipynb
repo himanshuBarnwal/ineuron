{
  "nbformat": 4,
  "nbformat_minor": 0,
  "metadata": {
    "colab": {
      "name": "Assignment_4.ipynb",
      "provenance": [],
      "authorship_tag": "ABX9TyNnTw5u7pgrNArpB/XiAlv5",
      "include_colab_link": true
    },
    "kernelspec": {
      "name": "python3",
      "display_name": "Python 3"
    },
    "language_info": {
      "name": "python"
    }
  },
  "cells": [
    {
      "cell_type": "markdown",
      "metadata": {
        "id": "view-in-github",
        "colab_type": "text"
      },
      "source": [
        "<a href=\"https://colab.research.google.com/github/himanshuBarnwal/ineuron/blob/main/Python%20Basics%20Assignment/Assignment_4.ipynb\" target=\"_parent\"><img src=\"https://colab.research.google.com/assets/colab-badge.svg\" alt=\"Open In Colab\"/></a>"
      ]
    },
    {
      "cell_type": "markdown",
      "source": [
        "# **Assignment 4 Solutions**\n",
        "\n",
        "---\n",
        "\n"
      ],
      "metadata": {
        "id": "JtfosYArzTzg"
      }
    },
    {
      "cell_type": "markdown",
      "source": [
        "**1. What exactly is []?**\n",
        "\n",
        "**Solution:**\n",
        "\n",
        ">[] is a `empty list.`"
      ],
      "metadata": {
        "id": "HNY2D7DczbBf"
      }
    },
    {
      "cell_type": "markdown",
      "source": [],
      "metadata": {
        "id": "zX5Kc-kC2aEn"
      }
    },
    {
      "cell_type": "markdown",
      "source": [
        "**2. In a list of values stored in a variable called spam, how would you assign the value &#39;hello&#39; as the third value? (Assume [2, 4, 6, 8, 10] are in spam.)**\n",
        "\n",
        "**Solution:** \n",
        "\n",
        ">`spam[2]='hello'`"
      ],
      "metadata": {
        "id": "lJR7jXLS2dXn"
      }
    },
    {
      "cell_type": "markdown",
      "source": [
        "**Let&#39;s pretend the spam includes the list [&#39;a&#39;, &#39;b&#39;, &#39;c&#39;, &#39;d&#39;] for the next three queries.**"
      ],
      "metadata": {
        "id": "_bhaTrEv26EE"
      }
    },
    {
      "cell_type": "markdown",
      "source": [
        "**3. What is the value of spam[int(int(&#39;3&#39; * 2) / 11)]?**\n",
        "\n",
        "**Solution:**\n",
        "\n",
        ">spam[int(int('33')/11)] = spam[3] = 'd'"
      ],
      "metadata": {
        "id": "zuU928kp29QB"
      }
    },
    {
      "cell_type": "markdown",
      "source": [
        "**4. What is the value of spam[-1]?**\n",
        "\n",
        "**Solution:**\n",
        "\n",
        ">spam[-1] will give the last element of the list. so the value of spam at -1th position is 'd'."
      ],
      "metadata": {
        "id": "Ax626loG3_RS"
      }
    },
    {
      "cell_type": "markdown",
      "source": [
        "**5. What is the value of spam[:2]?**\n",
        "\n",
        "**Solution:**\n",
        "\n",
        ">`spam[:2] = ['a','b']`\n"
      ],
      "metadata": {
        "id": "UpBz55TA4BpF"
      }
    },
    {
      "cell_type": "markdown",
      "source": [
        "**Let&#39;s pretend bacon has the list [3.14, &#39;cat,&#39; 11, &#39;cat,&#39; True] for the next three questions.**"
      ],
      "metadata": {
        "id": "avVbvQmfDHnB"
      }
    },
    {
      "cell_type": "markdown",
      "source": [
        "**6. What is the value of bacon.index(&#39;cat&#39;)?**\n",
        "\n",
        "**Solution:**\n",
        "\n",
        ">`bacon.index('cat') will give the first index of 'cat' i.e. 1.`"
      ],
      "metadata": {
        "id": "1UEYcMg1DOoZ"
      }
    },
    {
      "cell_type": "markdown",
      "source": [
        "**7. How does bacon.append(99) change the look of the list value in bacon?**\n",
        "\n",
        "**Solution:**\n",
        "\n",
        ">`bacon.append(99)` will add 99 in the last position of the list. The final list will be `[3.14, 'cat', 11, 'cat', True, 99]`."
      ],
      "metadata": {
        "id": "60l3FL_AEGwp"
      }
    },
    {
      "cell_type": "markdown",
      "source": [
        "**8. How does bacon.remove(&#39;cat&#39;) change the look of the list in bacon?**\n",
        "\n",
        "**Solution:**\n",
        "\n",
        "It will remove the cat from the 1st index of bacon. The final list will be look like `[3.14, 11, 'cat', True]`."
      ],
      "metadata": {
        "id": "-lusdbkkFOxS"
      }
    },
    {
      "cell_type": "markdown",
      "source": [
        "**9. What are the list concatenation and list replication operators?**\n",
        "\n",
        "**Solution:**\n",
        "\n"
      ],
      "metadata": {
        "id": "5-UpXEefGA6y"
      }
    },
    {
      "cell_type": "markdown",
      "source": [
        "**10. What is difference between the list methods append() and insert()?**\n",
        "\n",
        "**Solution:**\n",
        "\n",
        ">`append()` method will add the element in the last index. whereas `insert()` method insert the element in the specific index."
      ],
      "metadata": {
        "id": "WKLSBV5zHQGB"
      }
    },
    {
      "cell_type": "markdown",
      "source": [
        "**11. What are the two methods for removing items from a list?**\n",
        "\n",
        "**Solution:**\n",
        "\n",
        ">pop() -> It will remove the item which is present at the last index.\n",
        "\n",
        ">remove() -> It will remove the specific item."
      ],
      "metadata": {
        "id": "Gv5iS_CvHvdi"
      }
    },
    {
      "cell_type": "markdown",
      "source": [
        "**12. Describe how list values and string values are identical.**\n",
        "\n",
        "**Solution:**\n",
        "\n",
        ">The list values and string values are both sequences."
      ],
      "metadata": {
        "id": "-ywLpeaWKJXc"
      }
    },
    {
      "cell_type": "markdown",
      "source": [
        "**13. What&#39;s the difference between tuples and lists?**\n",
        "\n",
        "**Solution:**\n",
        "\n",
        ">The tuples are mutable while list are immutable. Tuples are more memory efficient than list. Also, tuples are more time efficient than lists."
      ],
      "metadata": {
        "id": "f_-Y3JWALBFx"
      }
    },
    {
      "cell_type": "markdown",
      "source": [
        "**14. How do you type a tuple value that only contains the integer 42?**\n",
        "\n",
        "**Solution:**\n",
        "\n",
        ">`a = (42)`\n"
      ],
      "metadata": {
        "id": "JopUTXmMMsQw"
      }
    },
    {
      "cell_type": "markdown",
      "source": [
        "**15. How do you get a list value&#39;s tuple form? How do you get a tuple value&#39;s list form?**\n",
        "\n",
        "**Solution:**\n",
        "\n",
        ">To get a list from tuple, we use `list()` function. while To get a tuple from list, we use` tuple()` function.\n"
      ],
      "metadata": {
        "id": "SDRp8S5FNUQe"
      }
    },
    {
      "cell_type": "markdown",
      "source": [
        "**16. Variables that &quot;contain&quot; list values are not necessarily lists themselves. Instead, what do they contain?**\n",
        "\n",
        "**Solution:**\n",
        "\n",
        ">Variables will contain the references to the list values. \n",
        "\n"
      ],
      "metadata": {
        "id": "UJeh7mDdOQdl"
      }
    },
    {
      "cell_type": "markdown",
      "source": [
        "**17. How do you distinguish between copy.copy() and copy.deepcopy()?**\n",
        "\n",
        "**Solution:**\n",
        "\n",
        ">The copy.copy() function will do a `shallow copy` of a list, while the copy.deepcopy() function will do a `deep copy` of a list. That is, only copy.deepcopy() will duplicate any lists inside the list."
      ],
      "metadata": {
        "id": "xmX54SAVOquR"
      }
    }
  ]
}