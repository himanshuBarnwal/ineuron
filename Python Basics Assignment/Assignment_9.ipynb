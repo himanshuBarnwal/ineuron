{
  "nbformat": 4,
  "nbformat_minor": 0,
  "metadata": {
    "colab": {
      "provenance": [],
      "authorship_tag": "ABX9TyP3AWpVscc4QEre2M9DlGyp",
      "include_colab_link": true
    },
    "kernelspec": {
      "name": "python3",
      "display_name": "Python 3"
    },
    "language_info": {
      "name": "python"
    }
  },
  "cells": [
    {
      "cell_type": "markdown",
      "metadata": {
        "id": "view-in-github",
        "colab_type": "text"
      },
      "source": [
        "<a href=\"https://colab.research.google.com/github/himanshuBarnwal/ineuron/blob/main/Python%20Basics%20Assignment/Assignment_9.ipynb\" target=\"_parent\"><img src=\"https://colab.research.google.com/assets/colab-badge.svg\" alt=\"Open In Colab\"/></a>"
      ]
    },
    {
      "cell_type": "markdown",
      "source": [
        "# **Assignment 9 Solutions**\n",
        "\n",
        "---\n",
        "\n"
      ],
      "metadata": {
        "id": "qBDKyi_scqNF"
      }
    },
    {
      "cell_type": "markdown",
      "source": [
        "**1. To what does a relative path refer?**\n",
        "\n",
        "**Answer:**\n",
        "\n",
        "> A relative path is a file or directory path that is relative to the current working directory. The current working directory is the directory that the user is currently \"in\", or working from, in the file system.\n"
      ],
      "metadata": {
        "id": "CsXlnDQlc_Cz"
      }
    },
    {
      "cell_type": "markdown",
      "source": [
        "**2. What does an absolute path start with your operating system?**\n",
        "\n",
        "**Answer:**\n",
        "\n",
        ">On Windows, an absolute path usually starts with the drive letter followed by a colon (:), and then a backslash (\\) character. \n",
        "\n",
        ">       Example: C:\\Users\\<username>\\Documents\\example.txt\n"
      ],
      "metadata": {
        "id": "qMEUm5PNfUPp"
      }
    },
    {
      "cell_type": "markdown",
      "source": [
        "**3. What do the functions os.getcwd() and os.chdir() do?**\n",
        "\n",
        "**Answer:**\n",
        "\n",
        ">`os.getcwd()` method tells us the location of current working directory (CWD). Whereas `os.chdir()` method in Python used to change the current working directory to specified path."
      ],
      "metadata": {
        "id": "hki46rKxhryN"
      }
    },
    {
      "cell_type": "markdown",
      "source": [
        "**4. What are the . and .. folders?**\n",
        "\n",
        "**Answer:**\n",
        ">`.` Represents the Current Directory Whereas `..` Represents the Parent Directory of the Current Directory"
      ],
      "metadata": {
        "id": "_xq5PCLCjpqW"
      }
    },
    {
      "cell_type": "markdown",
      "source": [
        "**5. In C:\\bacon\\eggs\\spam.txt, which part is the dir name, and which part is the base name?**\n",
        "\n",
        "**Answer:**\n",
        "\n",
        "> For C:\\bacon\\eggs\\spam.txt\n",
        "\n",
        ">     The dir name is C:\\\\bacon\\\\eggs\n",
        ">     The Base name is spam.txt"
      ],
      "metadata": {
        "id": "tdVssUwYk61E"
      }
    },
    {
      "cell_type": "markdown",
      "source": [
        "**6. What are the three “mode” arguments that can be passed to the open() function?**\n",
        "\n",
        "**Answer:**\n",
        "\n",
        ">A file can be Accessed in python using open() function. open function takes two arguments filename and mode of operation (optional). if mode is not provided the default mode of opening is read mode\n",
        "\n",
        ">     So, the syntax is: open(filename, mode)\n",
        "\n",
        ">     file1 = open(\"filename.txt\", \"r\")  #open a file for reading\n",
        ">     file2 = open(\"filename.txt\", \"w\")  #open a file for writing\n",
        ">     file3 = open(\"filename.txt\", \"a\")  #open a file for appending\n",
        "\n"
      ],
      "metadata": {
        "id": "AtcgmL2inzhj"
      }
    },
    {
      "cell_type": "markdown",
      "source": [
        "**7. What happens if an existing file is opened in write mode?**\n",
        "\n",
        "**Answer:**\n",
        "\n",
        ">Using this mode will overwrite any existing content in a file. If the given file does not exist, a new one will be created."
      ],
      "metadata": {
        "id": "gxDBictYr74W"
      }
    },
    {
      "cell_type": "markdown",
      "source": [
        "**8. How do you tell the difference between read() and readlines()?**\n",
        "\n",
        "**Answer:**\n",
        "\n",
        ">`read()` reads the entire contents of the file as a single string. It reads from the current position of the file pointer to the end of the file, or to the number of bytes specified as an argument. If no argument is provided, it reads the entire file. For example: \n",
        "\n",
        ">     with open(\"file.txt\", \"r\") as file:\n",
        "        data = file.read() # Reads the entire file into a string\n",
        "\n",
        ">readlines() reads the entire contents of the file into a list of strings, where each string represents a line in the file. It reads from the current position of the file pointer to the end of the file, or to the number of bytes specified as an argument. If no argument is provided, it reads the entire file. For example:\n",
        "\n",
        ">     with open(\"file.txt\", \"r\") as file:\n",
        "         lines = file.readlines() # Reads the entire file into a list of strings\n",
        "\n"
      ],
      "metadata": {
        "id": "NkDvTqRAARYg"
      }
    },
    {
      "cell_type": "markdown",
      "source": [
        "**9. What data structure does a shelf value resemble?**\n",
        "\n",
        "**Answer:**\n",
        "\n",
        ">In Python, the shelve module provides a simple way to store and retrieve Python objects as key-value pairs, similar to a dictionary. So, the data structure a shelf value resemble is `Dictionary`."
      ],
      "metadata": {
        "id": "XW5yGbKkB5Fe"
      }
    },
    {
      "cell_type": "markdown",
      "source": [
        "\n",
        "**Submitted By:** \n",
        "\n",
        " **Himanshu Kumar**\n",
        "\n",
        "**Date: 15-05-2023**\n",
        "\n",
        "\n",
        "---\n",
        "\n"
      ],
      "metadata": {
        "id": "3VEMaWR7aNyF"
      }
    }
  ]
}