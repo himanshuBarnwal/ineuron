{
  "nbformat": 4,
  "nbformat_minor": 0,
  "metadata": {
    "colab": {
      "provenance": [],
      "authorship_tag": "ABX9TyO/2kJYmM+Cm1x4v0lCz8+/",
      "include_colab_link": true
    },
    "kernelspec": {
      "name": "python3",
      "display_name": "Python 3"
    },
    "language_info": {
      "name": "python"
    }
  },
  "cells": [
    {
      "cell_type": "markdown",
      "metadata": {
        "id": "view-in-github",
        "colab_type": "text"
      },
      "source": [
        "<a href=\"https://colab.research.google.com/github/himanshuBarnwal/ineuron/blob/main/ML%20Assignment/ML_Assignment_1.ipynb\" target=\"_parent\"><img src=\"https://colab.research.google.com/assets/colab-badge.svg\" alt=\"Open In Colab\"/></a>"
      ]
    },
    {
      "cell_type": "markdown",
      "source": [
        "# **Machine Learning Assignment 1 Solutions**\n",
        "\n",
        "\n",
        "---\n",
        "\n"
      ],
      "metadata": {
        "id": "hNt6QyRQ1lw4"
      }
    },
    {
      "cell_type": "markdown",
      "source": [
        "**1. What does one mean by the term \"machine learning\"?**"
      ],
      "metadata": {
        "id": "QE0Gaiom1wWV"
      }
    },
    {
      "cell_type": "markdown",
      "source": [
        ">Machine learning is one of the type of artificial intelligence, which enables system/application/computer to get in to mode of self learning without being explicitly programmed."
      ],
      "metadata": {
        "id": "RPGkO_pa18s3"
      }
    },
    {
      "cell_type": "markdown",
      "source": [
        "**2.Can you think of 4 distinct types of issues where it shines?**"
      ],
      "metadata": {
        "id": "p6HT4kOQ2qLz"
      }
    },
    {
      "cell_type": "markdown",
      "source": [
        ">1. Identifying Spam\n",
        "2. Product Recommendation\n",
        "3. Speech Recognition\n",
        "4. Image Recognition"
      ],
      "metadata": {
        "id": "jcGOdB-R21X7"
      }
    },
    {
      "cell_type": "markdown",
      "source": [
        "**3.What is a labeled training set, and how does it work?**"
      ],
      "metadata": {
        "id": "k4uLVh134Dly"
      }
    },
    {
      "cell_type": "markdown",
      "source": [
        ">A labeled training set is a collection of examples used in supervised machine learning that includes both input data and their corresponding correct output labels. The labeled training set is used to train a machine learning model to predict the correct output labels for new input data. \n",
        "\n",
        ">The labeled training set is used to train a machine learning model by showing it many examples of input data with their correct output labels. The model learns to recognize patterns and relationships in the data that enable it to make accurate predictions about the output label for new, unseen input data.\n",
        "\n"
      ],
      "metadata": {
        "id": "31ctnIt44I9l"
      }
    },
    {
      "cell_type": "markdown",
      "source": [
        "**4. What are the two most important tasks that are supervised?**"
      ],
      "metadata": {
        "id": "Y19iaj4f5cnD"
      }
    },
    {
      "cell_type": "markdown",
      "source": [
        ">Both classification and regression are important supervised learning tasks and have many practical applications in fields such as healthcare, finance, and marketing."
      ],
      "metadata": {
        "id": "F9KS2pHc5n6c"
      }
    },
    {
      "cell_type": "markdown",
      "source": [
        "**5. Can you think of four examples of unsupervised tasks?**"
      ],
      "metadata": {
        "id": "wRMw-HDC5438"
      }
    },
    {
      "cell_type": "markdown",
      "source": [
        ">**1. Clustering:** Clustering is the process of grouping similar data points together based on their features, without any prior knowledge of their labels or categories.\n",
        "\n",
        ">**2. Dimensionality Reduction:** In dimensionality reduction, the machine learning model is trained on an unlabeled dataset, and the goal is to identify a smaller set of features that capture the most important information in the data. Examples: principal component analysis (PCA), t-distributed stochastic neighbor embedding (t-SNE), and autoencoders.\n",
        "\n",
        ">**3. Generative Modelling:** In generative modeling, the machine learning model is trained on an unlabeled dataset, and the goal is to learn the patterns and relationships in the data that enable the generation of new, realistic examples. Examples of generative modeling tasks include generating realistic images, music, and text.\n",
        "\n",
        ">**4. Association Rule Learning:** In association rule learning, the machine learning model is trained on an unlabeled dataset, and the goal is to identify rules or patterns that describe the relationships between different items or features in the data. Examples: In a retail store which items tend to be purchased together."
      ],
      "metadata": {
        "id": "X63d2Kh759xF"
      }
    },
    {
      "cell_type": "markdown",
      "source": [
        "**6.State the machine learning model that would be best to make a robot walk through various unfamiliar terrains?**"
      ],
      "metadata": {
        "id": "CIs71ZqT7zGJ"
      }
    },
    {
      "cell_type": "markdown",
      "source": [
        ">To make a robot walk through various unfamiliar terrains, the best machine learning model would likely be a **Reinforcement Learning (RL)** model. Reinforcement Learning is a type of machine learning where an agent learns to take actions in an environment to maximize a reward signal. "
      ],
      "metadata": {
        "id": "_q8SPFUJ79im"
      }
    },
    {
      "cell_type": "markdown",
      "source": [
        "**7.Which algorithm will you use to divide your customers into different groups?**"
      ],
      "metadata": {
        "id": "byG7vzFR8OnS"
      }
    },
    {
      "cell_type": "markdown",
      "source": [
        ">A **clustering Algorithm** will be used to divide your customers into different groups."
      ],
      "metadata": {
        "id": "GoXWdV1X8sky"
      }
    },
    {
      "cell_type": "markdown",
      "source": [
        "**8.Will you consider the problem of spam detection to be a supervised or unsupervised learning problem?**"
      ],
      "metadata": {
        "id": "hAwjYHOG9iAZ"
      }
    },
    {
      "cell_type": "markdown",
      "source": [
        ">Spam detection is a **Supervised Learning problem**."
      ],
      "metadata": {
        "id": "YObFBd0e9ncQ"
      }
    },
    {
      "cell_type": "markdown",
      "source": [
        "**9.What is the concept of an online learning system?**"
      ],
      "metadata": {
        "id": "AQBrU0PY97Io"
      }
    },
    {
      "cell_type": "markdown",
      "source": [
        ">An **online learning system** is a type of machine learning system that can learn and adapt to new data in real-time as it becomes available, without the need for retraining the entire model from scratch."
      ],
      "metadata": {
        "id": "CDUF8I2T-AOI"
      }
    },
    {
      "cell_type": "markdown",
      "source": [
        "**10.What is out-of-core learning, and how does it differ from core learning?**"
      ],
      "metadata": {
        "id": "ybc2Rkw--hB0"
      }
    },
    {
      "cell_type": "markdown",
      "source": [
        ">**Out-of-core learning** is a technique used in machine learning to train models on datasets that are too large to fit into memory at once. In contrast to **core learning**, where the entire dataset is loaded into memory and processed as a single unit, out-of-core learning processes the data in smaller batches, one at a time."
      ],
      "metadata": {
        "id": "bSq7_-qA-mHU"
      }
    },
    {
      "cell_type": "markdown",
      "source": [
        "**11.What kind of learning algorithm makes predictions using a similarity measure?**"
      ],
      "metadata": {
        "id": "IpD7T4PD_Jf3"
      }
    },
    {
      "cell_type": "markdown",
      "source": [
        ">The type of learning algorithm that makes predictions using a similarity measure is called a **Instance-Based Learning algorithm**, also known as Memory-Based Learning or Lazy Learning.\n",
        "\n",
        ">Instance-Based Learning algorithms work by comparing new instances to previously seen instances in a training dataset, and making predictions based on the similarities between them. The similarity measure used to compare instances is typically a distance metric, such as Euclidean distance or cosine similarity. For example: k-NN algorithm"
      ],
      "metadata": {
        "id": "zPECFn1__ZE4"
      }
    },
    {
      "cell_type": "markdown",
      "source": [
        "**12.What is the difference between a model parameter and a hyperparameter in a learning algorithm?**"
      ],
      "metadata": {
        "id": "naqLHr_fAJ2-"
      }
    },
    {
      "cell_type": "markdown",
      "source": [
        "In a machine learning algorithm, model parameters and hyperparameters are two types of settings that affect the behavior of the model.\n",
        "\n",
        ">The main difference between ***model parameters*** and ***hyperparameters*** is that model parameters are learned from the training data, while hyperparameters are set by the user before training the model. \n",
        "\n",
        ">Model parameters are specific to the model and the data, and they change with every new dataset or model architecture. In contrast, hyperparameters are general to the learning algorithm, and they remain the same across different datasets or model architectures."
      ],
      "metadata": {
        "id": "9Gi_ZfzhARxu"
      }
    },
    {
      "cell_type": "markdown",
      "source": [
        "**13.What are the criteria that model-based learning algorithms look for? What is the most popular method they use to achieve success? What method do they use to make predictions?**"
      ],
      "metadata": {
        "id": "ntxSrk27BtFd"
      }
    },
    {
      "cell_type": "markdown",
      "source": [
        " >There are many criteria that model-based learning algorithms look for:\n",
        " 1. Good fit: The model should fit the training data well and capture the underlying patterns and relationships between the input features and output values.\n",
        " 2. Generalization: The model should generalize well to new, unseen data. This means that the model should not overfit the training data and should be able to make accurate predictions on new data that it has not seen before.\n",
        " 3. Simplicity: The model should be as simple as possible, while still providing a good fit and generalization performance. \n",
        "\n",
        " >We often use a cost function or similar to determine what the parameter value has to be in order to minimize the function. The model makes prediction by using the value of the new instance and the parameters in its function.\n",
        " For example, linear regression models use a linear function to map the input features to the output values, \n",
        "\n",
        "\n",
        "\n",
        "\n",
        "\n"
      ],
      "metadata": {
        "id": "Z3YWBPN1B_K7"
      }
    },
    {
      "cell_type": "markdown",
      "source": [
        "**14.Can you name four of the most important Machine Learning challenges?**"
      ],
      "metadata": {
        "id": "BfsA0ed_GD_x"
      }
    },
    {
      "cell_type": "markdown",
      "source": [
        "1. Data quality: (Poor quality data can lead to biased or inaccurate models.)\n",
        "2. Overfitting: (Overfitting occurs when the model is too complex and fits the noise in the training data)\n",
        "3. Underfitting: (Underfitting occurs when the model is too simple and cannot capture the underlying patterns in the data.)\n",
        "4. Generalization: (Generalization is the ability of the model to make accurate predictions on new, unseen data.)"
      ],
      "metadata": {
        "id": "JIVAoVKRGI05"
      }
    },
    {
      "cell_type": "markdown",
      "source": [
        "**15. What happens if the model performs well on the training data but fails to generalize the results to new situations? Can you think of three different options?**"
      ],
      "metadata": {
        "id": "cYkkyp19ItY3"
      }
    },
    {
      "cell_type": "markdown",
      "source": [
        "If the model performs poorly to new instances, then it has overfitted on the training data. To address this issue, we can do any of the following three:\n",
        "1. Get more data\n",
        "2. Implement a simpler model\n",
        "3. Eliminate outliers or noise from the existing data set."
      ],
      "metadata": {
        "id": "QMHpI4KHF5X_"
      }
    },
    {
      "cell_type": "markdown",
      "source": [
        "**16.What exactly is a test set, and why would you need one?**"
      ],
      "metadata": {
        "id": "8bo5uVsWJ0G-"
      }
    },
    {
      "cell_type": "markdown",
      "source": [
        "Test set is a set to test your model (fit using training data) to see how it performs.Test set is necessary to determine how good (or bad) a model performs."
      ],
      "metadata": {
        "id": "luXXfb9iJ58d"
      }
    },
    {
      "cell_type": "markdown",
      "source": [
        "**17.What is a validation set's purpose?**"
      ],
      "metadata": {
        "id": "Ozt7jPl8KGAV"
      }
    },
    {
      "cell_type": "markdown",
      "source": [
        "> A validation set is a set of data that is used to evaluate the performance of a trained machine learning model.\n",
        "\n",
        ">During the training process, the model is typically trained on a training set and the performance of the model is evaluated on a separate validation set. The validation set is used to tune the hyperparameters of the model, such as the learning rate, regularization strength, or the number of hidden layers, in order to improve its performance.\n",
        "\n",
        ">Once the hyperparameters are tuned, the model is tested on a separate test set to evaluate its final performance. The test set is a completely independent set of data that the model has not seen during the training or validation process."
      ],
      "metadata": {
        "id": "ojYUzg4pObp2"
      }
    },
    {
      "cell_type": "markdown",
      "source": [
        "**18.What precisely is the train-dev kit, when will you need it, how do you put it to use?**"
      ],
      "metadata": {
        "id": "SboB6DKKPEbR"
      }
    },
    {
      "cell_type": "markdown",
      "source": [
        ">The train-dev kit, also known as the development set, is a subset of the training data that is used to evaluate the performance of the model during the development phase.\n",
        "\n",
        ">The train-dev kit is typically used when the size of the training set is small, and there is a risk of overfitting to the training data.\n",
        "\n",
        ">To use the train-dev kit, the training data is split into three subsets: the training set, the train-dev set, and the test set. The model is trained on the training set, and its performance is evaluated on the train-dev set. If the model performs well on the train-dev set, it is expected to perform well on the test set as well. But, If the model performs well on the training set but poorly on the train-dev set, it is a sign of overfitting, and the model needs to be modified to improve its generalization performance. "
      ],
      "metadata": {
        "id": "9RYH_V3_PKTh"
      }
    },
    {
      "cell_type": "markdown",
      "source": [
        "**19.What could go wrong if you use the test set to tune hyperparameters?**"
      ],
      "metadata": {
        "id": "sOfXzxY2QPkN"
      }
    },
    {
      "cell_type": "markdown",
      "source": [
        ">If you use the test set to tune hyperparameters, you risk overfitting to the test set, which can lead to poor generalization performance on new and unseen data."
      ],
      "metadata": {
        "id": "6HrhqdEYQTuI"
      }
    },
    {
      "cell_type": "markdown",
      "source": [
        "---\n",
        "\n",
        "**Submitted By: Himanshu Kumar**\n",
        "\n",
        "**Date:15-05-2022**"
      ],
      "metadata": {
        "id": "cCWuUNXy19Qf"
      }
    }
  ]
}