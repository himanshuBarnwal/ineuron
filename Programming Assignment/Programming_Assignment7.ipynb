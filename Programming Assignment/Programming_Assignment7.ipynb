{
  "nbformat": 4,
  "nbformat_minor": 0,
  "metadata": {
    "colab": {
      "provenance": [],
      "authorship_tag": "ABX9TyORnwq4mZdSyta5K0BLErUx",
      "include_colab_link": true
    },
    "kernelspec": {
      "name": "python3",
      "display_name": "Python 3"
    },
    "language_info": {
      "name": "python"
    }
  },
  "cells": [
    {
      "cell_type": "markdown",
      "metadata": {
        "id": "view-in-github",
        "colab_type": "text"
      },
      "source": [
        "<a href=\"https://colab.research.google.com/github/himanshuBarnwal/ineuron/blob/main/Programming%20Assignment/Programming_Assignment7.ipynb\" target=\"_parent\"><img src=\"https://colab.research.google.com/assets/colab-badge.svg\" alt=\"Open In Colab\"/></a>"
      ]
    },
    {
      "cell_type": "markdown",
      "source": [
        "# **Programming Assignment 7 Solutions**\n",
        "\n",
        "---\n",
        "\n"
      ],
      "metadata": {
        "id": "LT1QeinsFuyi"
      }
    },
    {
      "cell_type": "markdown",
      "source": [
        "**1. Write a Python Program to find sum of Array ?**"
      ],
      "metadata": {
        "id": "f7GmSIWiFv66"
      }
    },
    {
      "cell_type": "code",
      "execution_count": 2,
      "metadata": {
        "colab": {
          "base_uri": "https://localhost:8080/"
        },
        "id": "4R1t30jeFNui",
        "outputId": "87583023-3dd2-4c85-924f-edef67b6dd1c"
      },
      "outputs": [
        {
          "output_type": "stream",
          "name": "stdout",
          "text": [
            "The sum of [2, 3, 4, 5] is 14\n"
          ]
        }
      ],
      "source": [
        "def sumOfArray(in_arr):\n",
        "    print(f'The sum of {in_arr} is {sum(in_arr)}')\n",
        "\n",
        "lst = [2,3,4,5]\n",
        "sumOfArray(lst)"
      ]
    },
    {
      "cell_type": "markdown",
      "source": [
        "**2. Write a Python Program to find Largest element in an Array ?**"
      ],
      "metadata": {
        "id": "ZQHIjruBIMfv"
      }
    },
    {
      "cell_type": "code",
      "source": [
        "from re import A\n",
        "import sys\n",
        "def maxNum(arr):\n",
        "  max = -sys.maxsize\n",
        "  for i in arr:\n",
        "    if i>max:\n",
        "      max=i\n",
        "  return max\n",
        "\n",
        "lst = [3,5,1,2,8,4,3]\n",
        "print(maxNum(lst))"
      ],
      "metadata": {
        "colab": {
          "base_uri": "https://localhost:8080/"
        },
        "id": "oJQQ3i_KIJFA",
        "outputId": "a245ed83-57e8-47a4-99c7-56702b191429"
      },
      "execution_count": 7,
      "outputs": [
        {
          "output_type": "stream",
          "name": "stdout",
          "text": [
            "8\n"
          ]
        }
      ]
    },
    {
      "cell_type": "markdown",
      "source": [
        "**3. Write a Python Program for array rotation ?**"
      ],
      "metadata": {
        "id": "RGr_gSe6IuI7"
      }
    },
    {
      "cell_type": "code",
      "source": [
        "def arrRotate(arr):\n",
        "  return arr[::-1]\n",
        "\n",
        "lst = [5,22,11,4]\n",
        "print(arrRotate(lst))"
      ],
      "metadata": {
        "colab": {
          "base_uri": "https://localhost:8080/"
        },
        "id": "AGDzmAYMIyDL",
        "outputId": "c0764b60-e954-48b1-ea2c-dcfeb6e012b8"
      },
      "execution_count": 8,
      "outputs": [
        {
          "output_type": "stream",
          "name": "stdout",
          "text": [
            "[4, 11, 22, 5]\n"
          ]
        }
      ]
    },
    {
      "cell_type": "markdown",
      "source": [
        "**4. Write a Python Program to Split the array and add the first part to the end ?**"
      ],
      "metadata": {
        "id": "db7cAxqaK_S9"
      }
    },
    {
      "cell_type": "code",
      "source": [
        "def splAdd(arr,x):\n",
        "  return arr[x:len(arr)+1]+arr[0:x]\n",
        "\n",
        "lst = [5,22,11,4,7]\n",
        "print(splAdd(lst,2))"
      ],
      "metadata": {
        "colab": {
          "base_uri": "https://localhost:8080/"
        },
        "id": "kVT27qPELGQF",
        "outputId": "12260057-4604-490a-c798-7bd684f6f49d"
      },
      "execution_count": 15,
      "outputs": [
        {
          "output_type": "stream",
          "name": "stdout",
          "text": [
            "[11, 4, 7, 5, 22]\n"
          ]
        }
      ]
    },
    {
      "cell_type": "markdown",
      "source": [
        "**5. Write a Python Program to check if given array is Monotonic ?**"
      ],
      "metadata": {
        "id": "PU6rQfqjLoCJ"
      }
    },
    {
      "cell_type": "code",
      "source": [
        "def checkMonotonic(arr):\n",
        "  if(all(arr[i+1]>=arr[i] for i in range(len(arr)-1)) or all(arr[i+1]<=arr[i] for i in range(len(arr)-1))):\n",
        "    return True\n",
        "  else:\n",
        "    return False\n",
        "\n",
        "lst=[4,7,8,9,13]\n",
        "print(f'The given {lst} is Monotonic: {checkMonotonic(lst)}')\n",
        "\n",
        "lst=[4,7,44,9,13]\n",
        "print(f'The given {lst} is Monotonic: {checkMonotonic(lst)}')"
      ],
      "metadata": {
        "colab": {
          "base_uri": "https://localhost:8080/"
        },
        "id": "1P6TFmvcLtIy",
        "outputId": "d33e9598-ff2e-4848-9c28-7e00ce89e5a1"
      },
      "execution_count": 19,
      "outputs": [
        {
          "output_type": "stream",
          "name": "stdout",
          "text": [
            "The given [4, 7, 8, 9, 13] is Monotonic: True\n",
            "The given [4, 7, 44, 9, 13] is Monotonic: False\n"
          ]
        }
      ]
    },
    {
      "cell_type": "markdown",
      "source": [
        "\n",
        "\n",
        "---\n",
        "\n",
        "**Submitted By: Himanshu Kumar**\n",
        "\n",
        "**Date:15-05-2022**"
      ],
      "metadata": {
        "id": "IkSPZEauMji0"
      }
    }
  ]
}