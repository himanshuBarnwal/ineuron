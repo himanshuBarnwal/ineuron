{
  "nbformat": 4,
  "nbformat_minor": 0,
  "metadata": {
    "colab": {
      "provenance": [],
      "authorship_tag": "ABX9TyPvXJcIGSUb3EyhYPY4aXRb",
      "include_colab_link": true
    },
    "kernelspec": {
      "name": "python3",
      "display_name": "Python 3"
    },
    "language_info": {
      "name": "python"
    }
  },
  "cells": [
    {
      "cell_type": "markdown",
      "metadata": {
        "id": "view-in-github",
        "colab_type": "text"
      },
      "source": [
        "<a href=\"https://colab.research.google.com/github/himanshuBarnwal/ineuron/blob/main/Programming%20Assignment/Programming_Assignment8.ipynb\" target=\"_parent\"><img src=\"https://colab.research.google.com/assets/colab-badge.svg\" alt=\"Open In Colab\"/></a>"
      ]
    },
    {
      "cell_type": "markdown",
      "source": [
        "# **Programming Assignment 8 Solutions**\n",
        "\n",
        "---\n",
        "\n"
      ],
      "metadata": {
        "id": "LT1QeinsFuyi"
      }
    },
    {
      "cell_type": "markdown",
      "source": [
        "**1. Write a Python Program to Add two Matrices ?**"
      ],
      "metadata": {
        "id": "f7GmSIWiFv66"
      }
    },
    {
      "cell_type": "code",
      "execution_count": 9,
      "metadata": {
        "colab": {
          "base_uri": "https://localhost:8080/"
        },
        "id": "4R1t30jeFNui",
        "outputId": "fe149eb9-572c-4177-afc3-e1e21bdc4569"
      },
      "outputs": [
        {
          "output_type": "stream",
          "name": "stdout",
          "text": [
            "Input:  [[1, 2, 3], [4, 5, 6], [7, 8, 9]], [[9, 8, 7], [6, 5, 4], [3, 2, 1]]\n",
            "[[10, 10, 10], [10, 10, 10], [10, 10, 10]]\n"
          ]
        }
      ],
      "source": [
        "def addMatrix(a,b):\n",
        "    print(f'Input:  {a}, {b}')\n",
        "    if len(a)==len(b):\n",
        "      ans = []\n",
        "      for i in range(len(a)):\n",
        "        if len(a[i])==len(b[i]):\n",
        "          ans.append([])\n",
        "          for j in range(len(a[i])):\n",
        "            ans[i].append(a[i][j]+b[i][j])\n",
        "        else:\n",
        "          print('Both Matrices must contains same no of rows and columns') \n",
        "    else:\n",
        "      print('Both Matrices must contain same no of rows')\n",
        "    print(ans)\n",
        "        \n",
        "m1=[[1,2,3],[4,5,6],[7,8,9]]\n",
        "m2 = [[9,8,7],[6,5,4],[3,2,1]]\n",
        "addMatrix(m1,m2)"
      ]
    },
    {
      "cell_type": "markdown",
      "source": [
        "**2. Write a Python Program to Multiply Two Matrices?**"
      ],
      "metadata": {
        "id": "ZQHIjruBIMfv"
      }
    },
    {
      "cell_type": "code",
      "source": [
        "a = [[1,2,3],[4,5,6],[7,8,9]]\n",
        "b = [[1,4,7],[2,5,8],[3,6,9]]\n",
        "\n",
        "def multiply_matrix(a,b):\n",
        "    output = []\n",
        "    if len(a[0]) == len(b):\n",
        "        for ele in range(len(a[0])):\n",
        "            output.append([0 for ele in range(len(b[0]))])\n",
        "        for i in range(len(a)):\n",
        "            for j in range(len(b[0])):\n",
        "                for k in range(len(b)):\n",
        "                    output[i][j] += a[i][k]*b[k][j]\n",
        "        print(output)     \n",
        "    else:\n",
        "        print('Matrix Multiplication is Not Possible')\n",
        "        \n",
        "multiply_matrix(a,b)"
      ],
      "metadata": {
        "colab": {
          "base_uri": "https://localhost:8080/"
        },
        "id": "oJQQ3i_KIJFA",
        "outputId": "7a78570d-621f-4e3f-f496-203c91f55f53"
      },
      "execution_count": 1,
      "outputs": [
        {
          "output_type": "stream",
          "name": "stdout",
          "text": [
            "[[14, 32, 50], [32, 77, 122], [50, 122, 194]]\n"
          ]
        }
      ]
    },
    {
      "cell_type": "markdown",
      "source": [
        "**3. Write a Python Program to transpose a Matrix ?**"
      ],
      "metadata": {
        "id": "RGr_gSe6IuI7"
      }
    },
    {
      "cell_type": "code",
      "source": [
        "a = [[1,2,3],[4,5,6],[7,8,9]]\n",
        "\n",
        "\n",
        "def generate_transpose(in_matrix):\n",
        "    out_matrix = []\n",
        "    for ele in range(len(in_matrix[0])):\n",
        "        out_matrix.append([0 for i in range(len(in_matrix))])\n",
        "    for i in range(len(in_matrix)):\n",
        "        for j in range(len(in_matrix[i])):\n",
        "            out_matrix[j][i] = in_matrix[i][j]\n",
        "    print(f'{in_matrix} -> {out_matrix}')\n",
        "        \n",
        "generate_transpose(a)\n"
      ],
      "metadata": {
        "colab": {
          "base_uri": "https://localhost:8080/"
        },
        "id": "AGDzmAYMIyDL",
        "outputId": "c549bc03-337c-42de-b9ec-d4a576c6f995"
      },
      "execution_count": 2,
      "outputs": [
        {
          "output_type": "stream",
          "name": "stdout",
          "text": [
            "[[1, 2, 3], [4, 5, 6], [7, 8, 9]] -> [[1, 4, 7], [2, 5, 8], [3, 6, 9]]\n"
          ]
        }
      ]
    },
    {
      "cell_type": "markdown",
      "source": [
        "**4. Write a Python Program to Sort Words in Alphabetic Order?**"
      ],
      "metadata": {
        "id": "db7cAxqaK_S9"
      }
    },
    {
      "cell_type": "code",
      "source": [
        "def sortString(in_string):\n",
        "    sorted_list = sorted(in_string.split(' '))\n",
        "    print(' '.join(sorted_list))\n",
        "\n",
        "s= input(\"Enter a String: \").title()\n",
        "sortString(s)"
      ],
      "metadata": {
        "colab": {
          "base_uri": "https://localhost:8080/"
        },
        "id": "kVT27qPELGQF",
        "outputId": "4b213666-b498-4042-ffd6-d831ffbbfb64"
      },
      "execution_count": 5,
      "outputs": [
        {
          "output_type": "stream",
          "name": "stdout",
          "text": [
            "Enter a String: hello world indias\n",
            "Hello Indias World\n"
          ]
        }
      ]
    },
    {
      "cell_type": "markdown",
      "source": [
        "**5. Write a Python Program to Remove Punctuation From a String?**"
      ],
      "metadata": {
        "id": "PU6rQfqjLoCJ"
      }
    },
    {
      "cell_type": "code",
      "source": [
        "def removePunctuatuions():\n",
        "    punctuations = '''!()-[]{};:'\"\\,<>./?@#$%^&*_~'''\n",
        "    in_string = input('Enter a String: ')\n",
        "    out_string = ''\n",
        "    for ele in in_string:\n",
        "        if ele not in punctuations:\n",
        "            out_string += ele\n",
        "    print(out_string)\n",
        "    \n",
        "removePunctuatuions()"
      ],
      "metadata": {
        "colab": {
          "base_uri": "https://localhost:8080/"
        },
        "id": "1P6TFmvcLtIy",
        "outputId": "14036c40-08cf-417f-e7aa-1bfec7ea1c34"
      },
      "execution_count": 6,
      "outputs": [
        {
          "output_type": "stream",
          "name": "stdout",
          "text": [
            "Enter a String: hello!@gmail.ocm\n",
            "hellogmailocm\n"
          ]
        }
      ]
    },
    {
      "cell_type": "markdown",
      "source": [
        "\n",
        "\n",
        "---\n",
        "\n",
        "**Submitted By: Himanshu Kumar**\n",
        "\n",
        "**Date:17-05-2022**"
      ],
      "metadata": {
        "id": "IkSPZEauMji0"
      }
    }
  ]
}