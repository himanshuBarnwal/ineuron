{
  "nbformat": 4,
  "nbformat_minor": 0,
  "metadata": {
    "colab": {
      "provenance": [],
      "authorship_tag": "ABX9TyPBexX2B1Tb4bKyTGukcFGN",
      "include_colab_link": true
    },
    "kernelspec": {
      "name": "python3",
      "display_name": "Python 3"
    },
    "language_info": {
      "name": "python"
    }
  },
  "cells": [
    {
      "cell_type": "markdown",
      "metadata": {
        "id": "view-in-github",
        "colab_type": "text"
      },
      "source": [
        "<a href=\"https://colab.research.google.com/github/himanshuBarnwal/ineuron/blob/main/Programming%20Assignment/Programming_Assignment5.ipynb\" target=\"_parent\"><img src=\"https://colab.research.google.com/assets/colab-badge.svg\" alt=\"Open In Colab\"/></a>"
      ]
    },
    {
      "cell_type": "markdown",
      "source": [
        "# **Programming Assignment 5 Solutions**\n",
        "\n",
        "---\n",
        "\n"
      ],
      "metadata": {
        "id": "LT1QeinsFuyi"
      }
    },
    {
      "cell_type": "markdown",
      "source": [
        "**1. Write a Python Program to find LCM ?**"
      ],
      "metadata": {
        "id": "f7GmSIWiFv66"
      }
    },
    {
      "cell_type": "code",
      "execution_count": 18,
      "metadata": {
        "colab": {
          "base_uri": "https://localhost:8080/"
        },
        "id": "4R1t30jeFNui",
        "outputId": "7b010ed1-ceff-4dc6-80af-8ab8fdd838fd"
      },
      "outputs": [
        {
          "output_type": "stream",
          "name": "stdout",
          "text": [
            "The LCM of 5,100 is 100\n"
          ]
        }
      ],
      "source": [
        "def Lcm(x_term,y_term):\n",
        "    if x_term > y_term:\n",
        "        greater = x_term\n",
        "    else:\n",
        "        greater = x_term\n",
        "    while True:\n",
        "        if((greater%x_term == 0) and (greater%y_term == 0)):\n",
        "            lcm = greater\n",
        "            break\n",
        "        else:\n",
        "            greater +=1\n",
        "    print(f'The LCM of {x_term},{y_term} is {lcm}')\n",
        "\n",
        "Lcm(5,100)"
      ]
    },
    {
      "cell_type": "markdown",
      "source": [
        "**2. Write a Python Program to find HCF ?**"
      ],
      "metadata": {
        "id": "ZQHIjruBIMfv"
      }
    },
    {
      "cell_type": "code",
      "source": [
        "def Hcf(x_term,y_term):\n",
        "    if x_term>y_term:\n",
        "        smaller = y_term\n",
        "    else:\n",
        "        smaller = x_term\n",
        "    for ele in range(1,smaller+1):\n",
        "        if((x_term%ele == 0) and (y_term%ele == 0)):\n",
        "            hcf = ele\n",
        "    print(f'The HCF of {x_term},{y_term} is {hcf}')\n",
        "\n",
        "\n",
        "Hcf(10,26)"
      ],
      "metadata": {
        "colab": {
          "base_uri": "https://localhost:8080/"
        },
        "id": "oJQQ3i_KIJFA",
        "outputId": "9984809e-2b00-4bbc-a52a-f6c7ca623dd3"
      },
      "execution_count": 20,
      "outputs": [
        {
          "output_type": "stream",
          "name": "stdout",
          "text": [
            "The HCF of 10,26 is 2\n"
          ]
        }
      ]
    },
    {
      "cell_type": "markdown",
      "source": [
        "**3. Write a Python Program to Convert Decimal to Binary, Octal and Hexadecimal ?**"
      ],
      "metadata": {
        "id": "RGr_gSe6IuI7"
      }
    },
    {
      "cell_type": "code",
      "source": [
        "def DecimalToOther():\n",
        "    num = int(input('Enter a Number: '))\n",
        "    print(f'Binary Number -> {bin(num)}')\n",
        "    print(f'Octal Number -> {oct(num)}')    \n",
        "    print(f'Hexadecimal Number -> {hex(num)}')    \n",
        "\n",
        "DecimalToOther()"
      ],
      "metadata": {
        "colab": {
          "base_uri": "https://localhost:8080/"
        },
        "id": "AGDzmAYMIyDL",
        "outputId": "a2bd3c7c-af75-47e7-9d58-b0b804efaa3c"
      },
      "execution_count": 21,
      "outputs": [
        {
          "output_type": "stream",
          "name": "stdout",
          "text": [
            "Enter a Number: 100\n",
            "Binary Number -> 0b1100100\n",
            "Octal Number -> 0o144\n",
            "Hexadecimal Number -> 0x64\n"
          ]
        }
      ]
    },
    {
      "cell_type": "markdown",
      "source": [
        "**4. Write a Python Program to Find the ASCII value of a Character ?**"
      ],
      "metadata": {
        "id": "db7cAxqaK_S9"
      }
    },
    {
      "cell_type": "code",
      "source": [
        "def charToAscii():\n",
        "    char = input('Enter a Character: ')\n",
        "    if len(char) > 1:\n",
        "        print('Please Enter a Single Character')\n",
        "    else:\n",
        "        print(f'Ascii Character of {char} is {ord(char)}')\n",
        "\n",
        "charToAscii()"
      ],
      "metadata": {
        "colab": {
          "base_uri": "https://localhost:8080/"
        },
        "id": "kVT27qPELGQF",
        "outputId": "c8b3176e-f1e3-4fdf-85a3-8b9cdeba7267"
      },
      "execution_count": 22,
      "outputs": [
        {
          "output_type": "stream",
          "name": "stdout",
          "text": [
            "Enter a Character: &\n",
            "Ascii Character of & is 38\n"
          ]
        }
      ]
    },
    {
      "cell_type": "markdown",
      "source": [
        "**5. Write a Python Program to Make a Simple Calculator with 4 Basic Mathematical operations ?**"
      ],
      "metadata": {
        "id": "PU6rQfqjLoCJ"
      }
    },
    {
      "cell_type": "code",
      "source": [
        "import operator\n",
        "\n",
        "ops = { \"+\": operator.add, \"-\": operator.sub, \"*\":operator.mul, \"/\":operator.truediv } \n",
        "\n",
        "print('Select a Arithmetic Operation: \\\n",
        "        \\n1.Addition(+)\\\n",
        "        \\n2.Division(-)\\\n",
        "        \\n2.Multiplication(*)\\\n",
        "        \\n4.Division(/)\\\n",
        "        \\n3.Stop(0)\\n')\n",
        "   \n",
        "\n",
        "operator = input('Enter a arithmetic operation -> ')\n",
        "if operator == '0':\n",
        "    print(\"Program Stopped successfully\")\n",
        "elif operator not in ['+','-','*','/']:\n",
        "    print(\"Please enter a valid operator\")\n",
        "else:\n",
        "    num_1 = int(input('\\nEnter 1st Number: '))\n",
        "    num_2 = int(input('Enter 2nd Number: '))\n",
        "    print(f'{num_1}{operator}{num_2}={ops[operator](num_1,num_2)}\\n')\n"
      ],
      "metadata": {
        "colab": {
          "base_uri": "https://localhost:8080/"
        },
        "id": "1P6TFmvcLtIy",
        "outputId": "c9535d2b-5d1a-4ade-d07f-3da80d88490a"
      },
      "execution_count": 26,
      "outputs": [
        {
          "output_type": "stream",
          "name": "stdout",
          "text": [
            "Select a Arithmetic Operation:         \n",
            "1.Addition(+)        \n",
            "2.Division(-)        \n",
            "2.Multiplication(*)        \n",
            "4.Division(/)        \n",
            "3.Stop(0)\n",
            "\n",
            "Enter a arithmetic operation -> +\n",
            "\n",
            "Enter 1st Number: 80\n",
            "Enter 2nd Number: 46\n",
            "80+46=126\n",
            "\n"
          ]
        }
      ]
    },
    {
      "cell_type": "markdown",
      "source": [
        "\n",
        "\n",
        "---\n",
        "\n",
        "**Submitted By: Himanshu Kumar**\n",
        "\n",
        "**Date:13-05-2022**"
      ],
      "metadata": {
        "id": "IkSPZEauMji0"
      }
    }
  ]
}