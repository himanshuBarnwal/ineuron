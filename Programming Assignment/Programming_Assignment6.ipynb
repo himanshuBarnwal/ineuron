{
  "nbformat": 4,
  "nbformat_minor": 0,
  "metadata": {
    "colab": {
      "provenance": [],
      "authorship_tag": "ABX9TyMtg2AnCk12k8W7XQAGeR//",
      "include_colab_link": true
    },
    "kernelspec": {
      "name": "python3",
      "display_name": "Python 3"
    },
    "language_info": {
      "name": "python"
    }
  },
  "cells": [
    {
      "cell_type": "markdown",
      "metadata": {
        "id": "view-in-github",
        "colab_type": "text"
      },
      "source": [
        "<a href=\"https://colab.research.google.com/github/himanshuBarnwal/ineuron/blob/main/Programming%20Assignment/Programming_Assignment6.ipynb\" target=\"_parent\"><img src=\"https://colab.research.google.com/assets/colab-badge.svg\" alt=\"Open In Colab\"/></a>"
      ]
    },
    {
      "cell_type": "markdown",
      "source": [
        "# **Programming Assignment 6 Solutions**\n",
        "\n",
        "---\n",
        "\n"
      ],
      "metadata": {
        "id": "LT1QeinsFuyi"
      }
    },
    {
      "cell_type": "markdown",
      "source": [
        "**1. Write a Python Program to Display Fibonacci Sequence using Recursion ?**"
      ],
      "metadata": {
        "id": "f7GmSIWiFv66"
      }
    },
    {
      "cell_type": "code",
      "execution_count": 17,
      "metadata": {
        "colab": {
          "base_uri": "https://localhost:8080/"
        },
        "id": "4R1t30jeFNui",
        "outputId": "a869db6e-ccb8-4f26-a43b-7c37b99df740"
      },
      "outputs": [
        {
          "output_type": "stream",
          "name": "stdout",
          "text": [
            "Enter the length of Series: 5\n",
            "0 1 1 2 3 5 "
          ]
        }
      ],
      "source": [
        "def recur_fibo(n):\n",
        "   if n <= 1:\n",
        "       return n\n",
        "   else:\n",
        "       return(recur_fibo(n-1) + recur_fibo(n-2))\n",
        "\n",
        "def printFib(n,num):\n",
        "  if n<0:\n",
        "      return;\n",
        "  else:\n",
        "    print(recur_fibo(num-n),end=\" \")\n",
        "    return printFib(n-1,num)\n",
        "\n",
        "in_num = int(input('Enter the length of Series: '))\n",
        "printFib(in_num,in_num)"
      ]
    },
    {
      "cell_type": "markdown",
      "source": [
        "**2. Write a Python Program to Find Factorial of a Number using Recursion ?**"
      ],
      "metadata": {
        "id": "ZQHIjruBIMfv"
      }
    },
    {
      "cell_type": "code",
      "source": [
        "def factorial(num):\n",
        "    if (num < 1):\n",
        "        return 1\n",
        "    else:\n",
        "        return num*factorial(num-1)\n",
        "in_num=int(input('Enter a number'))\n",
        "print(factorial(in_num))"
      ],
      "metadata": {
        "colab": {
          "base_uri": "https://localhost:8080/"
        },
        "id": "oJQQ3i_KIJFA",
        "outputId": "510593a4-e9a9-4692-d1f9-c834edbb2a2a"
      },
      "execution_count": 18,
      "outputs": [
        {
          "output_type": "stream",
          "name": "stdout",
          "text": [
            "Enter a number5\n",
            "120\n"
          ]
        }
      ]
    },
    {
      "cell_type": "markdown",
      "source": [
        "**3. Write a Python Program to Calculate your Body Mass Index ?**"
      ],
      "metadata": {
        "id": "RGr_gSe6IuI7"
      }
    },
    {
      "cell_type": "code",
      "source": [
        "def calculateBMI():\n",
        "    in_weight = eval(input('Enter your Weight(kgs): '))\n",
        "    in_height = eval(input('Enter your Height(mts): '))\n",
        "    calc_bmi = in_weight/pow(in_height,2)\n",
        "    if (calc_bmi < 18.5):\n",
        "        status = 'Underweight'\n",
        "    elif (calc_bmi >= 18.5 and calc_bmi < 24.9):\n",
        "        status = 'Healthy'\n",
        "    elif (calc_bmi >= 24.9 and calc_bmi < 30):\n",
        "        status = 'Overweight'\n",
        "    elif (calc_bmi >=30):\n",
        "        status = 'Suffering from Obesity'\n",
        "    print(f'Your\\'s BMI is {calc_bmi} and status is {status} ')\n",
        "calculateBMI()"
      ],
      "metadata": {
        "colab": {
          "base_uri": "https://localhost:8080/"
        },
        "id": "AGDzmAYMIyDL",
        "outputId": "4ac0dfc8-bf39-4fb5-b3fc-de1b9d37b179"
      },
      "execution_count": 20,
      "outputs": [
        {
          "output_type": "stream",
          "name": "stdout",
          "text": [
            "Enter your Weight(kgs): 59\n",
            "Enter your Height(mts): 1.73\n",
            "Your's BMI is 19.713321527615356 and status is Healthy \n"
          ]
        }
      ]
    },
    {
      "cell_type": "markdown",
      "source": [
        "**4. Write a Python Program to Calculate the Natural Logarithm of any Number ?**"
      ],
      "metadata": {
        "id": "db7cAxqaK_S9"
      }
    },
    {
      "cell_type": "code",
      "source": [
        "import math\n",
        "def genNatLog(n):\n",
        "    print(math.log(n))\n",
        "in_num = int(input(\"Enter a Number:\"))\n",
        "genNatLog(in_num)"
      ],
      "metadata": {
        "colab": {
          "base_uri": "https://localhost:8080/"
        },
        "id": "kVT27qPELGQF",
        "outputId": "73ffd2c1-47e1-421a-cdf0-a04c4057a28f"
      },
      "execution_count": 23,
      "outputs": [
        {
          "output_type": "stream",
          "name": "stdout",
          "text": [
            "Enter a Number:5\n",
            "1.6094379124341003\n"
          ]
        }
      ]
    },
    {
      "cell_type": "markdown",
      "source": [
        "**5. Write a Python Program for Cube sum of first n Natural Numbers ?**"
      ],
      "metadata": {
        "id": "PU6rQfqjLoCJ"
      }
    },
    {
      "cell_type": "code",
      "source": [
        "def cubeOfNaturalNumbers(n):\n",
        "    return pow(((n * (n +1))/2),2)\n",
        "\n",
        "\n",
        "\n",
        "in_num = int(input(\"Enter the no of Natural Numbers: \"))\n",
        "result = cubeOfNaturalNumbers(in_num)\n",
        "print(f'The Cube Sum of First {in_num} Natural Numbers is {result}')"
      ],
      "metadata": {
        "colab": {
          "base_uri": "https://localhost:8080/"
        },
        "id": "1P6TFmvcLtIy",
        "outputId": "cc65d6ed-dc75-4adb-bf8a-d6f8e73ee314"
      },
      "execution_count": 24,
      "outputs": [
        {
          "output_type": "stream",
          "name": "stdout",
          "text": [
            "Enter the no of Natural Numbers: 5\n",
            "The Cube Sum of First 5 Natural Numbers is 225.0\n"
          ]
        }
      ]
    },
    {
      "cell_type": "markdown",
      "source": [
        "\n",
        "\n",
        "---\n",
        "\n",
        "**Submitted By: Himanshu Kumar**\n",
        "\n",
        "**Date:13-05-2022**"
      ],
      "metadata": {
        "id": "IkSPZEauMji0"
      }
    }
  ]
}