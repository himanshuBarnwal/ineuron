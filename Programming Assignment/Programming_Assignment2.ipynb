{
  "nbformat": 4,
  "nbformat_minor": 0,
  "metadata": {
    "colab": {
      "provenance": [],
      "authorship_tag": "ABX9TyPLOcwVSyTjXG41qBJEkqs3",
      "include_colab_link": true
    },
    "kernelspec": {
      "name": "python3",
      "display_name": "Python 3"
    },
    "language_info": {
      "name": "python"
    }
  },
  "cells": [
    {
      "cell_type": "markdown",
      "metadata": {
        "id": "view-in-github",
        "colab_type": "text"
      },
      "source": [
        "<a href=\"https://colab.research.google.com/github/himanshuBarnwal/ineuron/blob/main/Programming%20Assignment/Programming_Assignment2.ipynb\" target=\"_parent\"><img src=\"https://colab.research.google.com/assets/colab-badge.svg\" alt=\"Open In Colab\"/></a>"
      ]
    },
    {
      "cell_type": "markdown",
      "source": [
        "# **Programming Assignment 2 Solutions**"
      ],
      "metadata": {
        "id": "pjmeD4DGwoQB"
      }
    },
    {
      "cell_type": "markdown",
      "source": [
        "**1. Write a Python program to convert kilometers to miles?**"
      ],
      "metadata": {
        "id": "Qm7NCgIewrFA"
      }
    },
    {
      "cell_type": "code",
      "execution_count": 1,
      "metadata": {
        "colab": {
          "base_uri": "https://localhost:8080/"
        },
        "id": "G3cQ7UkBwjzq",
        "outputId": "5b2db10c-fea1-433c-c095-bc6d57a57039"
      },
      "outputs": [
        {
          "output_type": "stream",
          "name": "stdout",
          "text": [
            "6.215040397762586\n"
          ]
        }
      ],
      "source": [
        "def kmToMiles(x):\n",
        "  return x/1.609\n",
        "\n",
        "print(kmToMiles(10))"
      ]
    },
    {
      "cell_type": "markdown",
      "source": [
        "**2. Write a Python program to convert Celsius to Fahrenheit?**"
      ],
      "metadata": {
        "id": "rUp1zLTYxRMt"
      }
    },
    {
      "cell_type": "code",
      "source": [
        "def celToFah(cel):\n",
        "  fah = cel*(9/5)+32\n",
        "  return fah\n",
        "\n",
        "print(celToFah(10))"
      ],
      "metadata": {
        "colab": {
          "base_uri": "https://localhost:8080/"
        },
        "id": "W6W9cRaaxVRU",
        "outputId": "aa9af31e-45a8-41e6-8b43-f1b80380e194"
      },
      "execution_count": 5,
      "outputs": [
        {
          "output_type": "stream",
          "name": "stdout",
          "text": [
            "50.0\n"
          ]
        }
      ]
    },
    {
      "cell_type": "markdown",
      "source": [
        "**3. Write a Python program to display calendar?**"
      ],
      "metadata": {
        "id": "eukQqq6Qx5Pg"
      }
    },
    {
      "cell_type": "code",
      "source": [
        "import calendar\n",
        "\n",
        "def printCalendar(mon,year):\n",
        "  print(calendar.month(year,mon))\n",
        "\n",
        "printCalendar(12,2022)"
      ],
      "metadata": {
        "colab": {
          "base_uri": "https://localhost:8080/"
        },
        "id": "SUDb8xGeyJe7",
        "outputId": "127bfc5a-964b-474e-970e-b0dd2d7cbdcc"
      },
      "execution_count": 9,
      "outputs": [
        {
          "output_type": "stream",
          "name": "stdout",
          "text": [
            "   December 2022\n",
            "Mo Tu We Th Fr Sa Su\n",
            "          1  2  3  4\n",
            " 5  6  7  8  9 10 11\n",
            "12 13 14 15 16 17 18\n",
            "19 20 21 22 23 24 25\n",
            "26 27 28 29 30 31\n",
            "\n"
          ]
        }
      ]
    },
    {
      "cell_type": "markdown",
      "source": [
        "**4. Write a Python program to solve quadratic equation?**"
      ],
      "metadata": {
        "id": "B8uOtBvuzIPo"
      }
    },
    {
      "cell_type": "code",
      "source": [
        "# Solve the quadratic equation ax**2 + bx + c = 0\n",
        "\n",
        "# import complex math module\n",
        "import cmath\n",
        "\n",
        "\n",
        "def solQuadraticEqn(a,b,c):\n",
        "  # calculate the discriminant\n",
        "  d = (b**2) - (4*a*c)\n",
        "  # find two solutions\n",
        "  sol1 = (-b-cmath.sqrt(d))/(2*a)\n",
        "  sol2 = (-b+cmath.sqrt(d))/(2*a)\n",
        "  return sol1,sol2\n",
        "\n",
        "a = 1\n",
        "b = 5\n",
        "c = 6\n",
        "\n",
        "s1,s2 = solQuadraticEqn(a,b,c)\n",
        "print('The solution are {0} and {1}'.format(s1,s2))"
      ],
      "metadata": {
        "colab": {
          "base_uri": "https://localhost:8080/"
        },
        "id": "n9LF-MXMzH4_",
        "outputId": "ffeb7a9e-6290-4a3a-d1b8-1dece86d1593"
      },
      "execution_count": 10,
      "outputs": [
        {
          "output_type": "stream",
          "name": "stdout",
          "text": [
            "The solution are (-3+0j) and (-2+0j)\n"
          ]
        }
      ]
    },
    {
      "cell_type": "markdown",
      "source": [
        "**5. Write a Python program to swap two variables without temp variable?**"
      ],
      "metadata": {
        "id": "D_YuFzPZ0Tjm"
      }
    },
    {
      "cell_type": "code",
      "source": [
        "def swap(a,b):\n",
        "  a = a^b\n",
        "  b = a^b\n",
        "  a = a^b\n",
        "  return a,b\n",
        "\n",
        "a=5\n",
        "b=7\n",
        "a,b = swap(a,b)\n",
        "print(\"a = {} and b = {}\".format(a,b))"
      ],
      "metadata": {
        "colab": {
          "base_uri": "https://localhost:8080/"
        },
        "id": "X3O19fWb0bxW",
        "outputId": "e6b5de93-75fb-4152-805f-1e34a44198b0"
      },
      "execution_count": 11,
      "outputs": [
        {
          "output_type": "stream",
          "name": "stdout",
          "text": [
            "a = 7 and b = 5\n"
          ]
        }
      ]
    },
    {
      "cell_type": "markdown",
      "source": [
        "**Submitted By: Himanshu Kumar**\n",
        "\n",
        "**Date: 31-12-2022**"
      ],
      "metadata": {
        "id": "fkv3ddj60rza"
      }
    }
  ]
}