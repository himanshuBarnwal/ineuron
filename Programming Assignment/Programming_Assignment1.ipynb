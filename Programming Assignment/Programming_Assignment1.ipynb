{
  "nbformat": 4,
  "nbformat_minor": 0,
  "metadata": {
    "colab": {
      "provenance": [],
      "authorship_tag": "ABX9TyO0od67GEw+UbaiXBWBcf06",
      "include_colab_link": true
    },
    "kernelspec": {
      "name": "python3",
      "display_name": "Python 3"
    },
    "language_info": {
      "name": "python"
    }
  },
  "cells": [
    {
      "cell_type": "markdown",
      "metadata": {
        "id": "view-in-github",
        "colab_type": "text"
      },
      "source": [
        "<a href=\"https://colab.research.google.com/github/himanshuBarnwal/ineuron/blob/main/Programming%20Assignment/Programming_Assignment1.ipynb\" target=\"_parent\"><img src=\"https://colab.research.google.com/assets/colab-badge.svg\" alt=\"Open In Colab\"/></a>"
      ]
    },
    {
      "cell_type": "markdown",
      "source": [
        "# **Programming Assignment 1 Solutions**"
      ],
      "metadata": {
        "id": "xIbCHvsr4QDy"
      }
    },
    {
      "cell_type": "markdown",
      "source": [
        "**1. Write a Python program to print \"Hello Python\"?**"
      ],
      "metadata": {
        "id": "Af3cpPuu4oDF"
      }
    },
    {
      "cell_type": "code",
      "execution_count": null,
      "metadata": {
        "colab": {
          "base_uri": "https://localhost:8080/"
        },
        "id": "Ts48E-BL4Izh",
        "outputId": "a53711d9-7b7e-4f42-d36e-017325b50f8c"
      },
      "outputs": [
        {
          "output_type": "stream",
          "name": "stdout",
          "text": [
            "Hello Python\n"
          ]
        }
      ],
      "source": [
        "print(\"Hello Python\")"
      ]
    },
    {
      "cell_type": "markdown",
      "source": [
        "**2. Write a Python program to do arithmetical operations addition and division.?**"
      ],
      "metadata": {
        "id": "qntB9q5l5LQw"
      }
    },
    {
      "cell_type": "code",
      "source": [
        "a=5\n",
        "b=7\n",
        "add= a+b\n",
        "div = a/b\n",
        "print(\"Addition is {} and division is {} \".format(add,div))\n"
      ],
      "metadata": {
        "colab": {
          "base_uri": "https://localhost:8080/"
        },
        "id": "d6FAsWjO5W93",
        "outputId": "f43620dd-5da9-43f6-d28d-e8fdf38de6e2"
      },
      "execution_count": null,
      "outputs": [
        {
          "output_type": "stream",
          "name": "stdout",
          "text": [
            "Addition is 12 and division is 0.7142857142857143 \n"
          ]
        }
      ]
    },
    {
      "cell_type": "markdown",
      "source": [
        "**3. Write a Python program to find the area of a triangle?**"
      ],
      "metadata": {
        "id": "mfSvHibT6pvi"
      }
    },
    {
      "cell_type": "code",
      "source": [
        "a = float(input('Enter first side: '))  \n",
        "b = float(input('Enter second side: '))  \n",
        "c = float(input('Enter third side: '))  \n",
        "  \n",
        "s = (a + b + c) / 2  \n",
        "  \n",
        "# calculate the area  \n",
        "\n",
        "area = (s*(s-a)*(s-b)*(s-c)) ** 0.5  \n",
        "print('The area of the triangle is %0.2f' %area)   "
      ],
      "metadata": {
        "id": "iRdk4MMo6uYL",
        "colab": {
          "base_uri": "https://localhost:8080/"
        },
        "outputId": "33c82f8c-46fe-4aea-9be4-9c6c678fbb96"
      },
      "execution_count": 1,
      "outputs": [
        {
          "output_type": "stream",
          "name": "stdout",
          "text": [
            "Enter first side: 5\n",
            "Enter second side: 6\n",
            "Enter third side: 7\n",
            "The area of the triangle is 14.70\n"
          ]
        }
      ]
    },
    {
      "cell_type": "markdown",
      "source": [
        "**4. Write a Python program to swap two variables?**"
      ],
      "metadata": {
        "id": "JZNaCPJks7QB"
      }
    },
    {
      "cell_type": "code",
      "source": [
        "\n",
        "def swap(a,b):\n",
        "  a = a^b\n",
        "  b = a^b\n",
        "  a = a^b\n",
        "  return a,b\n",
        "\n",
        "a=5\n",
        "b=7\n",
        "a,b = swap(a,b)\n",
        "print(\"a = {} and b = {}\".format(a,b))"
      ],
      "metadata": {
        "colab": {
          "base_uri": "https://localhost:8080/"
        },
        "id": "eslmMJQBtAo7",
        "outputId": "656e73a3-0171-40f2-d427-b9649247def9"
      },
      "execution_count": 4,
      "outputs": [
        {
          "output_type": "stream",
          "name": "stdout",
          "text": [
            "a = 7 and b = 5\n"
          ]
        }
      ]
    },
    {
      "cell_type": "markdown",
      "source": [
        "**5. Write a Python program to generate a random number?**"
      ],
      "metadata": {
        "id": "TUZ5Q8WUuHjL"
      }
    },
    {
      "cell_type": "code",
      "source": [
        "import random\n",
        "#print random no in range a to b\n",
        "\n",
        "def rand(a,b):\n",
        "  n = random.randint(a,b)\n",
        "  print(n)\n",
        "\n",
        "for i in range(5):\n",
        "  rand(10,100)"
      ],
      "metadata": {
        "colab": {
          "base_uri": "https://localhost:8080/"
        },
        "id": "tMipsfq5uLzB",
        "outputId": "51546d42-bd62-481d-80d5-97a271126337"
      },
      "execution_count": 6,
      "outputs": [
        {
          "output_type": "stream",
          "name": "stdout",
          "text": [
            "85\n",
            "40\n",
            "97\n",
            "46\n",
            "73\n"
          ]
        }
      ]
    },
    {
      "cell_type": "markdown",
      "source": [
        "**Submitted By: Himanshu Kumar**\n",
        "\n",
        "**Date: 31-12-2022**\n"
      ],
      "metadata": {
        "id": "DIOQBzUVvTkh"
      }
    }
  ]
}